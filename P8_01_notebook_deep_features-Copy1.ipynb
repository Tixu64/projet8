{
 "cells": [
  {
   "cell_type": "markdown",
   "id": "professional-transcript",
   "metadata": {},
   "source": [
    "# Projet 8 - Openclassrooms - Déployer un modèle dans le cloud"
   ]
  },
  {
   "cell_type": "markdown",
   "id": "communist-pitch",
   "metadata": {},
   "source": [
    "## Import"
   ]
  },
  {
   "cell_type": "code",
   "execution_count": 8,
   "id": "essential-production",
   "metadata": {},
   "outputs": [],
   "source": [
    "from pyspark import SparkContext, SparkConf\n",
    "from pyspark.sql import Row, SparkSession, SQLContext\n",
    "\n",
    "import io\n",
    "from io import StringIO\n",
    "import os\n",
    "import sys\n",
    "import time\n",
    "\n",
    "import numpy as np\n",
    "import pandas as pd\n",
    "\n",
    "import cv2\n",
    "from PIL import Image\n",
    "\n",
    "\n",
    "import boto.s3\n",
    "import boto3\n",
    "\n",
    "\n",
    "import sagemaker\n",
    "from sagemaker import get_execution_role\n",
    "import sagemaker_pyspark\n"
   ]
  },
  {
   "cell_type": "markdown",
   "id": "compliant-point",
   "metadata": {},
   "source": [
    "# Installation de sparkdl"
   ]
  },
  {
   "cell_type": "code",
   "execution_count": 18,
   "id": "sporting-education",
   "metadata": {},
   "outputs": [
    {
     "name": "stdout",
     "output_type": "stream",
     "text": [
      "Collecting sparkdl\n",
      "  Downloading sparkdl-0.2.2-py3-none-any.whl (99 kB)\n",
      "\u001b[K     |████████████████████████████████| 99 kB 7.7 MB/s  eta 0:00:01\n",
      "\u001b[?25hInstalling collected packages: sparkdl\n",
      "Successfully installed sparkdl-0.2.2\n",
      "\u001b[33mWARNING: You are using pip version 20.3.3; however, version 21.0.1 is available.\n",
      "You should consider upgrading via the '/home/ec2-user/anaconda3/envs/python3/bin/python -m pip install --upgrade pip' command.\u001b[0m\n",
      "Note: you may need to restart the kernel to use updated packages.\n"
     ]
    }
   ],
   "source": [
    "pip install sparkdl"
   ]
  },
  {
   "cell_type": "code",
   "execution_count": 2,
   "id": "committed-program",
   "metadata": {},
   "outputs": [
    {
     "name": "stdout",
     "output_type": "stream",
     "text": [
      "Collecting Keras\n",
      "  Downloading Keras-2.4.3-py2.py3-none-any.whl (36 kB)\n",
      "Requirement already satisfied: h5py in /home/ec2-user/anaconda3/envs/python3/lib/python3.6/site-packages (from Keras) (2.10.0)\n",
      "Requirement already satisfied: scipy>=0.14 in /home/ec2-user/anaconda3/envs/python3/lib/python3.6/site-packages (from Keras) (1.4.1)\n",
      "Requirement already satisfied: numpy>=1.9.1 in /home/ec2-user/anaconda3/envs/python3/lib/python3.6/site-packages (from Keras) (1.19.5)\n",
      "Requirement already satisfied: pyyaml in /home/ec2-user/anaconda3/envs/python3/lib/python3.6/site-packages (from Keras) (5.3.1)\n",
      "Requirement already satisfied: six in /home/ec2-user/anaconda3/envs/python3/lib/python3.6/site-packages (from h5py->Keras) (1.15.0)\n",
      "Installing collected packages: Keras\n",
      "Successfully installed Keras-2.4.3\n",
      "\u001b[33mWARNING: You are using pip version 20.3.3; however, version 21.0.1 is available.\n",
      "You should consider upgrading via the '/home/ec2-user/anaconda3/envs/python3/bin/python -m pip install --upgrade pip' command.\u001b[0m\n",
      "Note: you may need to restart the kernel to use updated packages.\n"
     ]
    }
   ],
   "source": [
    "pip install Keras"
   ]
  },
  {
   "cell_type": "code",
   "execution_count": 2,
   "id": "consolidated-happiness",
   "metadata": {},
   "outputs": [
    {
     "name": "stdout",
     "output_type": "stream",
     "text": [
      "Collecting tensorflow\n",
      "  Downloading tensorflow-2.4.1-cp36-cp36m-manylinux2010_x86_64.whl (394.3 MB)\n",
      "\u001b[K     |████████████████████████████████| 394.3 MB 7.1 kB/s  eta 0:00:01\n",
      "\u001b[?25hRequirement already satisfied: six~=1.15.0 in /home/ec2-user/anaconda3/envs/python3/lib/python3.6/site-packages (from tensorflow) (1.15.0)\n",
      "Requirement already satisfied: numpy~=1.19.2 in /home/ec2-user/anaconda3/envs/python3/lib/python3.6/site-packages (from tensorflow) (1.19.5)\n",
      "Requirement already satisfied: google-pasta~=0.2 in /home/ec2-user/anaconda3/envs/python3/lib/python3.6/site-packages (from tensorflow) (0.2.0)\n",
      "Requirement already satisfied: protobuf>=3.9.2 in /home/ec2-user/anaconda3/envs/python3/lib/python3.6/site-packages (from tensorflow) (3.14.0)\n",
      "Requirement already satisfied: typing-extensions~=3.7.4 in /home/ec2-user/anaconda3/envs/python3/lib/python3.6/site-packages (from tensorflow) (3.7.4.3)\n",
      "Requirement already satisfied: h5py~=2.10.0 in /home/ec2-user/anaconda3/envs/python3/lib/python3.6/site-packages (from tensorflow) (2.10.0)\n",
      "Collecting gast==0.3.3\n",
      "  Downloading gast-0.3.3-py2.py3-none-any.whl (9.7 kB)\n",
      "Collecting absl-py~=0.10\n",
      "  Downloading absl_py-0.11.0-py3-none-any.whl (127 kB)\n",
      "\u001b[K     |████████████████████████████████| 127 kB 74.4 MB/s eta 0:00:01\n",
      "\u001b[?25hCollecting astunparse~=1.6.3\n",
      "  Downloading astunparse-1.6.3-py2.py3-none-any.whl (12 kB)\n",
      "Collecting flatbuffers~=1.12.0\n",
      "  Downloading flatbuffers-1.12-py2.py3-none-any.whl (15 kB)\n",
      "Collecting grpcio~=1.32.0\n",
      "  Downloading grpcio-1.32.0-cp36-cp36m-manylinux2014_x86_64.whl (3.8 MB)\n",
      "\u001b[K     |████████████████████████████████| 3.8 MB 70.5 MB/s eta 0:00:01\n",
      "\u001b[?25hCollecting keras-preprocessing~=1.1.2\n",
      "  Downloading Keras_Preprocessing-1.1.2-py2.py3-none-any.whl (42 kB)\n",
      "\u001b[K     |████████████████████████████████| 42 kB 1.6 MB/s  eta 0:00:01\n",
      "\u001b[?25hCollecting opt-einsum~=3.3.0\n",
      "  Downloading opt_einsum-3.3.0-py3-none-any.whl (65 kB)\n",
      "\u001b[K     |████████████████████████████████| 65 kB 6.1 MB/s  eta 0:00:01\n",
      "\u001b[?25hCollecting tensorboard~=2.4\n",
      "  Downloading tensorboard-2.4.1-py3-none-any.whl (10.6 MB)\n",
      "\u001b[K     |████████████████████████████████| 10.6 MB 58.3 MB/s eta 0:00:01\n",
      "\u001b[?25hRequirement already satisfied: requests<3,>=2.21.0 in /home/ec2-user/anaconda3/envs/python3/lib/python3.6/site-packages (from tensorboard~=2.4->tensorflow) (2.25.1)\n",
      "Requirement already satisfied: setuptools>=41.0.0 in /home/ec2-user/anaconda3/envs/python3/lib/python3.6/site-packages (from tensorboard~=2.4->tensorflow) (51.1.2)\n",
      "Requirement already satisfied: werkzeug>=0.11.15 in /home/ec2-user/anaconda3/envs/python3/lib/python3.6/site-packages (from tensorboard~=2.4->tensorflow) (1.0.0)\n",
      "Collecting google-auth<2,>=1.6.3\n",
      "  Downloading google_auth-1.27.1-py2.py3-none-any.whl (136 kB)\n",
      "\u001b[K     |████████████████████████████████| 136 kB 74.6 MB/s eta 0:00:01\n",
      "\u001b[?25hRequirement already satisfied: rsa<5,>=3.1.4 in /home/ec2-user/anaconda3/envs/python3/lib/python3.6/site-packages (from google-auth<2,>=1.6.3->tensorboard~=2.4->tensorflow) (4.5)\n",
      "Collecting cachetools<5.0,>=2.0.0\n",
      "  Downloading cachetools-4.2.1-py3-none-any.whl (12 kB)\n",
      "Collecting google-auth-oauthlib<0.5,>=0.4.1\n",
      "  Downloading google_auth_oauthlib-0.4.3-py2.py3-none-any.whl (18 kB)\n",
      "Collecting markdown>=2.6.8\n",
      "  Downloading Markdown-3.3.4-py3-none-any.whl (97 kB)\n",
      "\u001b[K     |████████████████████████████████| 97 kB 10.0 MB/s eta 0:00:01\n",
      "\u001b[?25hRequirement already satisfied: importlib-metadata in /home/ec2-user/anaconda3/envs/python3/lib/python3.6/site-packages (from markdown>=2.6.8->tensorboard~=2.4->tensorflow) (3.4.0)\n",
      "Collecting pyasn1-modules>=0.2.1\n",
      "  Downloading pyasn1_modules-0.2.8-py2.py3-none-any.whl (155 kB)\n",
      "\u001b[K     |████████████████████████████████| 155 kB 74.6 MB/s eta 0:00:01\n",
      "\u001b[?25hRequirement already satisfied: pyasn1<0.5.0,>=0.4.6 in /home/ec2-user/anaconda3/envs/python3/lib/python3.6/site-packages (from pyasn1-modules>=0.2.1->google-auth<2,>=1.6.3->tensorboard~=2.4->tensorflow) (0.4.8)\n",
      "Requirement already satisfied: idna<3,>=2.5 in /home/ec2-user/anaconda3/envs/python3/lib/python3.6/site-packages (from requests<3,>=2.21.0->tensorboard~=2.4->tensorflow) (2.10)\n",
      "Requirement already satisfied: certifi>=2017.4.17 in /home/ec2-user/anaconda3/envs/python3/lib/python3.6/site-packages (from requests<3,>=2.21.0->tensorboard~=2.4->tensorflow) (2020.12.5)\n",
      "Requirement already satisfied: chardet<5,>=3.0.2 in /home/ec2-user/anaconda3/envs/python3/lib/python3.6/site-packages (from requests<3,>=2.21.0->tensorboard~=2.4->tensorflow) (4.0.0)\n",
      "Requirement already satisfied: urllib3<1.27,>=1.21.1 in /home/ec2-user/anaconda3/envs/python3/lib/python3.6/site-packages (from requests<3,>=2.21.0->tensorboard~=2.4->tensorflow) (1.26.2)\n",
      "Collecting requests-oauthlib>=0.7.0\n",
      "  Downloading requests_oauthlib-1.3.0-py2.py3-none-any.whl (23 kB)\n",
      "Collecting oauthlib>=3.0.0\n",
      "  Downloading oauthlib-3.1.0-py2.py3-none-any.whl (147 kB)\n",
      "\u001b[K     |████████████████████████████████| 147 kB 71.7 MB/s eta 0:00:01\n",
      "\u001b[?25hCollecting tensorboard-plugin-wit>=1.6.0\n",
      "  Downloading tensorboard_plugin_wit-1.8.0-py3-none-any.whl (781 kB)\n",
      "\u001b[K     |████████████████████████████████| 781 kB 52.6 MB/s eta 0:00:01\n",
      "\u001b[?25hCollecting tensorflow-estimator<2.5.0,>=2.4.0\n",
      "  Downloading tensorflow_estimator-2.4.0-py2.py3-none-any.whl (462 kB)\n",
      "\u001b[K     |████████████████████████████████| 462 kB 52.6 MB/s eta 0:00:01\n",
      "\u001b[?25hCollecting termcolor~=1.1.0\n",
      "  Downloading termcolor-1.1.0.tar.gz (3.9 kB)\n",
      "Collecting wheel~=0.35\n",
      "  Downloading wheel-0.36.2-py2.py3-none-any.whl (35 kB)\n",
      "Collecting wrapt~=1.12.1\n",
      "  Downloading wrapt-1.12.1.tar.gz (27 kB)\n",
      "Requirement already satisfied: zipp>=0.5 in /home/ec2-user/anaconda3/envs/python3/lib/python3.6/site-packages (from importlib-metadata->markdown>=2.6.8->tensorboard~=2.4->tensorflow) (3.4.0)\n",
      "Building wheels for collected packages: termcolor, wrapt\n",
      "  Building wheel for termcolor (setup.py) ... \u001b[?25ldone\n",
      "\u001b[?25h  Created wheel for termcolor: filename=termcolor-1.1.0-py3-none-any.whl size=4830 sha256=b71f982c38a08f7339d06f3980271051044a12a7d519732d35cae8d3c5416a50\n",
      "  Stored in directory: /home/ec2-user/.cache/pip/wheels/93/2a/eb/e58dbcbc963549ee4f065ff80a59f274cc7210b6eab962acdc\n",
      "  Building wheel for wrapt (setup.py) ... \u001b[?25ldone\n",
      "\u001b[?25h  Created wheel for wrapt: filename=wrapt-1.12.1-cp36-cp36m-linux_x86_64.whl size=66678 sha256=c4d4c043fd768c4107139bca18a9a6282161d7de5d6c442a5ef5f7dec3f1fe3c\n",
      "  Stored in directory: /home/ec2-user/.cache/pip/wheels/32/42/7f/23cae9ff6ef66798d00dc5d659088e57dbba01566f6c60db63\n",
      "Successfully built termcolor wrapt\n",
      "Installing collected packages: pyasn1-modules, oauthlib, cachetools, requests-oauthlib, google-auth, wheel, tensorboard-plugin-wit, markdown, grpcio, google-auth-oauthlib, absl-py, wrapt, termcolor, tensorflow-estimator, tensorboard, opt-einsum, keras-preprocessing, gast, flatbuffers, astunparse, tensorflow\n",
      "  Attempting uninstall: wheel\n",
      "    Found existing installation: wheel 0.34.2\n",
      "    Uninstalling wheel-0.34.2:\n",
      "      Successfully uninstalled wheel-0.34.2\n",
      "  Attempting uninstall: wrapt\n",
      "    Found existing installation: wrapt 1.11.2\n",
      "    Uninstalling wrapt-1.11.2:\n",
      "      Successfully uninstalled wrapt-1.11.2\n",
      "Successfully installed absl-py-0.11.0 astunparse-1.6.3 cachetools-4.2.1 flatbuffers-1.12 gast-0.3.3 google-auth-1.27.1 google-auth-oauthlib-0.4.3 grpcio-1.32.0 keras-preprocessing-1.1.2 markdown-3.3.4 oauthlib-3.1.0 opt-einsum-3.3.0 pyasn1-modules-0.2.8 requests-oauthlib-1.3.0 tensorboard-2.4.1 tensorboard-plugin-wit-1.8.0 tensorflow-2.4.1 tensorflow-estimator-2.4.0 termcolor-1.1.0 wheel-0.36.2 wrapt-1.12.1\n",
      "\u001b[33mWARNING: You are using pip version 20.3.3; however, version 21.0.1 is available.\n",
      "You should consider upgrading via the '/home/ec2-user/anaconda3/envs/python3/bin/python -m pip install --upgrade pip' command.\u001b[0m\n",
      "Note: you may need to restart the kernel to use updated packages.\n"
     ]
    }
   ],
   "source": [
    "pip install tensorflow"
   ]
  },
  {
   "cell_type": "code",
   "execution_count": 2,
   "id": "quarterly-postage",
   "metadata": {},
   "outputs": [
    {
     "name": "stdout",
     "output_type": "stream",
     "text": [
      "Collecting tensorframes\n",
      "  Downloading tensorframes-0.2.9-py3-none-any.whl (10 kB)\n",
      "Installing collected packages: tensorframes\n",
      "Successfully installed tensorframes-0.2.9\n",
      "\u001b[33mWARNING: You are using pip version 20.3.3; however, version 21.0.1 is available.\n",
      "You should consider upgrading via the '/home/ec2-user/anaconda3/envs/python3/bin/python -m pip install --upgrade pip' command.\u001b[0m\n",
      "Note: you may need to restart the kernel to use updated packages.\n"
     ]
    }
   ],
   "source": [
    "pip install tensorframes"
   ]
  },
  {
   "cell_type": "code",
   "execution_count": 2,
   "id": "antique-mozambique",
   "metadata": {},
   "outputs": [
    {
     "name": "stdout",
     "output_type": "stream",
     "text": [
      "Collecting kafka\n",
      "  Downloading kafka-1.3.5-py2.py3-none-any.whl (207 kB)\n",
      "\u001b[K     |████████████████████████████████| 207 kB 19.4 MB/s eta 0:00:01\n",
      "\u001b[?25hInstalling collected packages: kafka\n",
      "Successfully installed kafka-1.3.5\n",
      "\u001b[33mWARNING: You are using pip version 20.3.3; however, version 21.0.1 is available.\n",
      "You should consider upgrading via the '/home/ec2-user/anaconda3/envs/python3/bin/python -m pip install --upgrade pip' command.\u001b[0m\n",
      "Note: you may need to restart the kernel to use updated packages.\n"
     ]
    }
   ],
   "source": [
    "pip install kafka"
   ]
  },
  {
   "cell_type": "code",
   "execution_count": 2,
   "id": "accredited-model",
   "metadata": {},
   "outputs": [
    {
     "name": "stdout",
     "output_type": "stream",
     "text": [
      "Collecting tensorflowonspark\n",
      "  Downloading tensorflowonspark-2.2.2-py2.py3-none-any.whl (44 kB)\n",
      "\u001b[K     |████████████████████████████████| 44 kB 3.2 MB/s  eta 0:00:01\n",
      "\u001b[?25hRequirement already satisfied: setuptools>38.0 in /home/ec2-user/anaconda3/envs/python3/lib/python3.6/site-packages (from tensorflowonspark) (51.1.2)\n",
      "Installing collected packages: tensorflowonspark\n",
      "Successfully installed tensorflowonspark-2.2.2\n",
      "\u001b[33mWARNING: You are using pip version 20.3.3; however, version 21.0.1 is available.\n",
      "You should consider upgrading via the '/home/ec2-user/anaconda3/envs/python3/bin/python -m pip install --upgrade pip' command.\u001b[0m\n",
      "Note: you may need to restart the kernel to use updated packages.\n"
     ]
    }
   ],
   "source": [
    "pip install tensorflowonspark"
   ]
  },
  {
   "cell_type": "code",
   "execution_count": 2,
   "id": "blind-nightlife",
   "metadata": {},
   "outputs": [
    {
     "name": "stdout",
     "output_type": "stream",
     "text": [
      "Collecting jieba\n",
      "  Downloading jieba-0.42.1.tar.gz (19.2 MB)\n",
      "\u001b[K     |████████████████████████████████| 19.2 MB 18.2 MB/s eta 0:00:01\n",
      "\u001b[?25hBuilding wheels for collected packages: jieba\n",
      "  Building wheel for jieba (setup.py) ... \u001b[?25ldone\n",
      "\u001b[?25h  Created wheel for jieba: filename=jieba-0.42.1-py3-none-any.whl size=19314477 sha256=3815e2da9554db8b23245cc90d84bf7167c8b68ed0838ffdd07e942709e3d333\n",
      "  Stored in directory: /home/ec2-user/.cache/pip/wheels/17/a7/8b/a7e03881534e78558920ac68aaeca05180c0e2c3d11c4fce3b\n",
      "Successfully built jieba\n",
      "Installing collected packages: jieba\n",
      "Successfully installed jieba-0.42.1\n",
      "\u001b[33mWARNING: You are using pip version 20.3.3; however, version 21.0.1 is available.\n",
      "You should consider upgrading via the '/home/ec2-user/anaconda3/envs/python3/bin/python -m pip install --upgrade pip' command.\u001b[0m\n",
      "Note: you may need to restart the kernel to use updated packages.\n"
     ]
    }
   ],
   "source": [
    "pip install jieba"
   ]
  },
  {
   "cell_type": "markdown",
   "id": "psychological-saturn",
   "metadata": {},
   "source": [
    "# Importation DeepImageFeaturizer"
   ]
  },
  {
   "cell_type": "code",
   "execution_count": 9,
   "id": "equipped-gazette",
   "metadata": {},
   "outputs": [],
   "source": [
    "from sparkdl import DeepImageFeaturizer"
   ]
  },
  {
   "cell_type": "markdown",
   "id": "bronze-reference",
   "metadata": {},
   "source": [
    "# Définition des fonctions de pré-processing"
   ]
  },
  {
   "cell_type": "code",
   "execution_count": 111,
   "id": "consistent-belle",
   "metadata": {},
   "outputs": [],
   "source": [
    "# Renvoie la catéagorie d'une image à partir de son chemin  \n",
    "# Entrée : chaine de caractères, contient le chemin complet de l'image \n",
    "# Sortie: tuple de chaines de caratères  catégorie, nom du fichier\n",
    "\n",
    "def parse_categorie(path):\n",
    "    if len(path) > 0:\n",
    "        return path.split('/')[-1],path.split('/')[-2],\n",
    "    else:\n",
    "        return 'None','None'\n",
    "    \n",
    "\n",
    "# Renvoie la liste des descripteurs ORB d'une image format binaire\n",
    "# Entrée: image lue en binaire dans le rdd\n",
    "# Sortie: tuple categorie, tableau de descripteurs\n",
    "\n",
    "def cat_image_np(imgfile_imgbytes):\n",
    "\n",
    "    imgfilename, imgbytes = imgfile_imgbytes\n",
    "    #print(imgfilename)\n",
    "        #print(imgbytes)\n",
    "    nom, categorie = parse_categorie(imgfilename)\n",
    "        #print(categorie)\n",
    "        # convertion  binaire en RGB image\n",
    "    img2 = Image.open(io.BytesIO(imgbytes))\n",
    "        #print(img2)\n",
    "        #conversion  Image en tableau  numpy\n",
    "        #img_np = np.array(img2)\n",
    "    img_np = img_to_array(img2)\n",
    "        #print(img_np)\n",
    "        #orb = cv2.ORB_create()\n",
    "        #kp, descriptors = orb.detectAndCompute(img_np, None)\n",
    "\n",
    "    return Row(fileName=nom,category=categorie, image=preprocess_input(img_np))\n",
    "\n",
    "    \n",
    "# Renvoie un histogramme de fréquence du BOVW\n",
    "# Entrée: Ligne d'un RDD contenant la liste des descripteurs d'une image\n",
    "# Entrée: modele K-means entrainé sur l'ensemble des descripteurs\n",
    "# Entrée: nombre de classes prédites par K-means\n",
    "# Sortie: Ligne de RDD contenant nom (chaine), catégorie (chaine), vecteur sous forme d'une liste de 32 reels  \n",
    "def bow(row, model,k):\n",
    "    #entree: tables de descripteurs\n",
    "    categorie = row['category']\n",
    "    nom = row['name']\n",
    "    feature_matrix = row['descriptors']\n",
    "    bow = np.zeros(k)\n",
    "    nkp = len(row['descriptors'])\n",
    "    #print(nkp)\n",
    "\n",
    "    for x in feature_matrix:\n",
    "        idx = model.predict(x)\n",
    "        #print(idx)\n",
    "        bow[idx] += 1/nkp\n",
    "\n",
    "    return Row(fileName=nom,category=categorie, bow=bow.tolist())\n",
    "\n",
    "\n",
    "# Ecrit un dataframe spark au format parket\n",
    "# Entrée: dataframme spark, chemin (chaine)\n",
    "# Sortie: sauvegarde format parquet sur l'emplacement indiqué\n",
    "\n",
    "def write_dataframe_parquet(dataframe, path_parquet):\n",
    "    '''Enregistrement du spark dataframe au format parquet au chemin specifie'''\n",
    "    try:\n",
    "        #start = time.time()\n",
    "        dataframe.write.format(\"parquet\").mode('overwrite').save(path_parquet)\n",
    "        print('Enregistrement effectué.')\n",
    "            \n",
    "\n",
    "        #print('Temps de sauvegarde : {} secondes'.format(time.strftime('%S', time.gmtime(time.time()-start))))\n",
    "    except:\n",
    "        print('L\\'Enregistrement a échoué.')\n",
    "    \n",
    "    return True"
   ]
  },
  {
   "cell_type": "code",
   "execution_count": 18,
   "id": "awful-carroll",
   "metadata": {},
   "outputs": [],
   "source": [
    "def preprocess_data(dataframe):\n",
    "    '''Renvoie le résultat de l'avant dernière couche de chaque image du dataframe via transform du ResNet50\n",
    "    return un df contenant des vecteurs de dimension 1x2048 '''\n",
    "    \n",
    "    from sparkdl import DeepImageFeaturizer\n",
    "    # DeepImageFeaturizer Applies the model specified by its popular name, \n",
    "    # with its prediction layer(s) chopped off\n",
    "    featurizer = DeepImageFeaturizer(inputCol=\"image\", outputCol=\"image_preprocessed\", modelName=\"ResNet50\")\n",
    "    output = featurizer.transform(dataframe).select(['path', 'categorie', 'image_preprocessed'])\n",
    "    del featurizer\n",
    "    return output"
   ]
  },
  {
   "cell_type": "code",
   "execution_count": 42,
   "id": "rolled-hierarchy",
   "metadata": {},
   "outputs": [
    {
     "name": "stdout",
     "output_type": "stream",
     "text": [
      "+-----+--------------------+\n",
      "|label|            features|\n",
      "+-----+--------------------+\n",
      "|  7.0|(778,[202,203,204...|\n",
      "|  2.0|(778,[94,95,96,97...|\n",
      "|  1.0|(778,[128,129,130...|\n",
      "|  0.0|(778,[124,125,126...|\n",
      "|  4.0|(778,[150,151,159...|\n",
      "|  1.0|(778,[156,157,158...|\n",
      "|  4.0|(778,[149,150,151...|\n",
      "|  9.0|(778,[179,180,181...|\n",
      "|  5.0|(778,[129,130,131...|\n",
      "|  9.0|(778,[209,210,211...|\n",
      "|  0.0|(778,[123,124,125...|\n",
      "|  6.0|(778,[94,95,96,97...|\n",
      "|  9.0|(778,[208,209,210...|\n",
      "|  0.0|(778,[152,153,154...|\n",
      "|  1.0|(778,[125,126,127...|\n",
      "|  5.0|(778,[124,125,126...|\n",
      "|  9.0|(778,[179,180,181...|\n",
      "|  7.0|(778,[200,201,202...|\n",
      "|  3.0|(778,[118,119,120...|\n",
      "|  4.0|(778,[158,159,185...|\n",
      "+-----+--------------------+\n",
      "only showing top 20 rows\n",
      "\n"
     ]
    }
   ],
   "source": [
    "import boto3\n",
    "\n",
    "cn_regions = ['cn-north-1', 'cn-northwest-1']\n",
    "region = boto3.Session().region_name\n",
    "endpoint_domain = 'com.cn' if region in cn_regions else 'com'\n",
    "spark._jsc.hadoopConfiguration().set('fs.s3a.endpoint', 's3.{}.amazonaws.{}'.format(region, endpoint_domain))\n",
    "\n",
    "trainingData = spark.read.format('libsvm')\\\n",
    "    .option('numFeatures', '784')\\\n",
    "    .load('s3a://sagemaker-sample-data-{}/spark/mnist/train/'.format(region))\n",
    "\n",
    "testData = spark.read.format('libsvm')\\\n",
    "    .load('s3a://sagemaker-sample-data-{}/spark/mnist/test/'.format(region))\n",
    "\n",
    "testData.show()"
   ]
  },
  {
   "cell_type": "markdown",
   "id": "median-replica",
   "metadata": {},
   "source": [
    "# Définition de l'environement Spark"
   ]
  },
  {
   "cell_type": "code",
   "execution_count": 10,
   "id": "center-secretariat",
   "metadata": {},
   "outputs": [
    {
     "data": {
      "text/html": [
       "\n",
       "            <div>\n",
       "                <p><b>SparkSession - in-memory</b></p>\n",
       "                \n",
       "        <div>\n",
       "            <p><b>SparkContext</b></p>\n",
       "\n",
       "            <p><a href=\"http://ip-172-16-1-252.eu-west-1.compute.internal:4041\">Spark UI</a></p>\n",
       "\n",
       "            <dl>\n",
       "              <dt>Version</dt>\n",
       "                <dd><code>v2.3.4</code></dd>\n",
       "              <dt>Master</dt>\n",
       "                <dd><code>local[*]</code></dd>\n",
       "              <dt>AppName</dt>\n",
       "                <dd><code>pyspark-shell</code></dd>\n",
       "            </dl>\n",
       "        </div>\n",
       "        \n",
       "            </div>\n",
       "        "
      ],
      "text/plain": [
       "<pyspark.sql.session.SparkSession at 0x7fd6b201feb8>"
      ]
     },
     "execution_count": 10,
     "metadata": {},
     "output_type": "execute_result"
    }
   ],
   "source": [
    "role = get_execution_role()\n",
    "\n",
    "# Configure Spark to use the SageMaker Spark dependency jars\n",
    "jars = sagemaker_pyspark.classpath_jars()\n",
    "\n",
    "classpath = \":\".join(sagemaker_pyspark.classpath_jars())\n",
    "\n",
    "# See the SageMaker Spark Github to learn how to connect to EMR from a notebook instance\n",
    "spark = SparkSession.builder.config(\"spark.driver.extraClassPath\", classpath)\\\n",
    "    .master(\"local[*]\").getOrCreate()\n",
    "    \n",
    "spark"
   ]
  },
  {
   "cell_type": "markdown",
   "id": "becoming-leadership",
   "metadata": {},
   "source": [
    "# Variables globales"
   ]
  },
  {
   "cell_type": "code",
   "execution_count": 11,
   "id": "acoustic-fields",
   "metadata": {},
   "outputs": [],
   "source": [
    "# Chemin d'acces des données sur S3\n",
    "# Seul un échantillon des données de base est utilisé\n",
    "\n",
    "sample_img_dir = \"s3a://p8muriel/test/*\"\n",
    "path_write = \"s3a://p8muriel/test_deep_features.parquet\""
   ]
  },
  {
   "cell_type": "markdown",
   "id": "abstract-electronics",
   "metadata": {},
   "source": [
    "# Pré-processing"
   ]
  },
  {
   "cell_type": "markdown",
   "id": "altered-thailand",
   "metadata": {},
   "source": [
    "## Chargement des données"
   ]
  },
  {
   "cell_type": "markdown",
   "id": "encouraging-integration",
   "metadata": {},
   "source": [
    "Un échantillon des données sont stockées sur un bucket \"p8muriel\" sur S3. Ni les chemins, ni les noms de fichiers ne doivent contenir des espaces.  \n",
    "-> faire un script préalable au chargement des données sur S3  "
   ]
  },
  {
   "cell_type": "code",
   "execution_count": 12,
   "id": "functioning-manner",
   "metadata": {},
   "outputs": [
    {
     "name": "stdout",
     "output_type": "stream",
     "text": [
      "Chargement des images\n",
      "...Temps de chargement des images : 00:00:01\n"
     ]
    }
   ],
   "source": [
    "print(\"Chargement des images\")\n",
    "#Chargement des images dans un RDD sous forme binaire\n",
    "t = time.time()\n",
    "images = spark.sparkContext.binaryFiles(sample_img_dir)\n",
    "print('...Temps de chargement des images : {}'.format(time.strftime(\"%H:%M:%S\", time.gmtime(time.time()-t))))"
   ]
  },
  {
   "cell_type": "code",
   "execution_count": 57,
   "id": "internal-accused",
   "metadata": {},
   "outputs": [],
   "source": [
    "from sparkdl import DeepImageFeaturizer"
   ]
  },
  {
   "cell_type": "code",
   "execution_count": 61,
   "id": "bright-japan",
   "metadata": {},
   "outputs": [
    {
     "data": {
      "text/plain": [
       "[('s3a://p8muriel/test/AppleRed3/44_100.jpg',\n",
       "  b'\\xff\\xd8\\xff\\xe0\\x00\\x10JFIF\\x00\\x01\\x01\\x00\\x00\\x01\\x00\\x01\\x00\\x00\\xff\\xdb\\x00C\\x00\\x02\\x01\\x01\\x01\\x01\\x01\\x02\\x01\\x01\\x01\\x02\\x02\\x02\\x02\\x02\\x04\\x03\\x02\\x02\\x02\\x02\\x05\\x04\\x04\\x03\\x04\\x06\\x05\\x06\\x06\\x06\\x05\\x06\\x06\\x06\\x07\\t\\x08\\x06\\x07\\t\\x07\\x06\\x06\\x08\\x0b\\x08\\t\\n\\n\\n\\n\\n\\x06\\x08\\x0b\\x0c\\x0b\\n\\x0c\\t\\n\\n\\n\\xff\\xdb\\x00C\\x01\\x02\\x02\\x02\\x02\\x02\\x02\\x05\\x03\\x03\\x05\\n\\x07\\x06\\x07\\n\\n\\n\\n\\n\\n\\n\\n\\n\\n\\n\\n\\n\\n\\n\\n\\n\\n\\n\\n\\n\\n\\n\\n\\n\\n\\n\\n\\n\\n\\n\\n\\n\\n\\n\\n\\n\\n\\n\\n\\n\\n\\n\\n\\n\\n\\n\\n\\n\\n\\xff\\xc0\\x00\\x11\\x08\\x00d\\x00d\\x03\\x01\"\\x00\\x02\\x11\\x01\\x03\\x11\\x01\\xff\\xc4\\x00\\x1f\\x00\\x00\\x01\\x05\\x01\\x01\\x01\\x01\\x01\\x01\\x00\\x00\\x00\\x00\\x00\\x00\\x00\\x00\\x01\\x02\\x03\\x04\\x05\\x06\\x07\\x08\\t\\n\\x0b\\xff\\xc4\\x00\\xb5\\x10\\x00\\x02\\x01\\x03\\x03\\x02\\x04\\x03\\x05\\x05\\x04\\x04\\x00\\x00\\x01}\\x01\\x02\\x03\\x00\\x04\\x11\\x05\\x12!1A\\x06\\x13Qa\\x07\"q\\x142\\x81\\x91\\xa1\\x08#B\\xb1\\xc1\\x15R\\xd1\\xf0$3br\\x82\\t\\n\\x16\\x17\\x18\\x19\\x1a%&\\'()*456789:CDEFGHIJSTUVWXYZcdefghijstuvwxyz\\x83\\x84\\x85\\x86\\x87\\x88\\x89\\x8a\\x92\\x93\\x94\\x95\\x96\\x97\\x98\\x99\\x9a\\xa2\\xa3\\xa4\\xa5\\xa6\\xa7\\xa8\\xa9\\xaa\\xb2\\xb3\\xb4\\xb5\\xb6\\xb7\\xb8\\xb9\\xba\\xc2\\xc3\\xc4\\xc5\\xc6\\xc7\\xc8\\xc9\\xca\\xd2\\xd3\\xd4\\xd5\\xd6\\xd7\\xd8\\xd9\\xda\\xe1\\xe2\\xe3\\xe4\\xe5\\xe6\\xe7\\xe8\\xe9\\xea\\xf1\\xf2\\xf3\\xf4\\xf5\\xf6\\xf7\\xf8\\xf9\\xfa\\xff\\xc4\\x00\\x1f\\x01\\x00\\x03\\x01\\x01\\x01\\x01\\x01\\x01\\x01\\x01\\x01\\x00\\x00\\x00\\x00\\x00\\x00\\x01\\x02\\x03\\x04\\x05\\x06\\x07\\x08\\t\\n\\x0b\\xff\\xc4\\x00\\xb5\\x11\\x00\\x02\\x01\\x02\\x04\\x04\\x03\\x04\\x07\\x05\\x04\\x04\\x00\\x01\\x02w\\x00\\x01\\x02\\x03\\x11\\x04\\x05!1\\x06\\x12AQ\\x07aq\\x13\"2\\x81\\x08\\x14B\\x91\\xa1\\xb1\\xc1\\t#3R\\xf0\\x15br\\xd1\\n\\x16$4\\xe1%\\xf1\\x17\\x18\\x19\\x1a&\\'()*56789:CDEFGHIJSTUVWXYZcdefghijstuvwxyz\\x82\\x83\\x84\\x85\\x86\\x87\\x88\\x89\\x8a\\x92\\x93\\x94\\x95\\x96\\x97\\x98\\x99\\x9a\\xa2\\xa3\\xa4\\xa5\\xa6\\xa7\\xa8\\xa9\\xaa\\xb2\\xb3\\xb4\\xb5\\xb6\\xb7\\xb8\\xb9\\xba\\xc2\\xc3\\xc4\\xc5\\xc6\\xc7\\xc8\\xc9\\xca\\xd2\\xd3\\xd4\\xd5\\xd6\\xd7\\xd8\\xd9\\xda\\xe2\\xe3\\xe4\\xe5\\xe6\\xe7\\xe8\\xe9\\xea\\xf2\\xf3\\xf4\\xf5\\xf6\\xf7\\xf8\\xf9\\xfa\\xff\\xda\\x00\\x0c\\x03\\x01\\x00\\x02\\x11\\x03\\x11\\x00?\\x00\\xfd\\xf9c\\xc6\\x0e:t\\xa5\\x03\\x8eq\\xd2\\x8f\\x97<\\xe3\\xa5|\\x15\\xff\\x00\\x05\\x91\\xff\\x00\\x82\\x99k\\x9f\\xb2\\x97\\x87m\\xfe\\x0c|\\x13\\xd6\\xe0\\xb7\\xf1^\\xb3n\\xcf}\\xab\\xc3p\\xaf.\\x93\\x17eT\\x19++\\x8eC\\x11\\x80\\x01#\\'\\x8a\\xc7\\x11\\x88\\xa5\\x85\\xa2\\xeaTvH\\xea\\xc0\\xe0q\\x19\\x8e.8z\\x11\\xbc\\xa5\\xfd}\\xc7\\xd0_\\xb5\\xcf\\xfc\\x14\\x03\\xe0\\x1f\\xec\\x83\\xa2\\x91\\xe2\\xddX\\xeb\\x1a\\xfc\\xa6H\\xec\\xfc1\\xa3L\\x8fs\\xe6,A\\xd7\\xcf\\xe7\\xfd\\x1e2Z%\\xdc\\xc0\\x9f\\xde\\x82\\x15\\x80l|E\\xf1\\x93\\xfe\\n\\xcb\\xfb^|Y\\x96\\ro\\xe0|\\xda\\x7f\\xc3\\xcd\\x12\\xdc\\xac\\x8e\\x90\\xd9\\xdb\\xea\\x97\\x97\\x19A\\xbd$\\x96\\xe6&\\x8c\\xa8l\\x95\\xf2\\xe3B3\\x82Z\\xbe\\x08\\xf8i\\xe2\\xef\\x88_\\x1e\\xbe\\'^\\xf8\\xbb\\xc4:\\x8d\\xed\\xec\\xf7\\xd7m5\\xee\\xa5rw\\xb5\\xe4\\xcf\\x8d\\xf2;\\x7f\\x11\\x19\\xe88Pq\\xd8W\\xd1\\xda\\x86\\x85m\\xa5h\\x96\\xbaF\\x9d\\tES\\xf3\\xc2\\xfcg\\xdc\\xd7\\xc1f\\x1cK\\x8e\\xabQ\\xc2\\x87\\xb8\\xbf\\x1f\\xbf\\xfc\\x8f\\xd1\\xa5\\xc1\\xd8,\\xa2\\x11X\\x97\\xcfQ\\xef\\xd9|\\xbf\\xcc\\xeb|e\\xfb~~\\xdc?\\x10>\\x1c]\\xe9\\x1e&\\xf8\\xff\\x00\\xa8\\xd8Er\\x01\\xf3t;[}6\\xedJ8u\\xdbqk\\x1cr\\xa6J\\x80B\\xb0\\x0c\\tS\\x90H\\xaf%\\xd6>0~\\xd5^&\\xd0/l5\\x7f\\xda\\x9b\\xe2E\\xd6\\x9fv\\xb2Z\\xddYM\\xf1\\x03Px\\xa7\\x89\\x81WGW\\x97\\x0c\\xac\\t\\x05NA\\x04\\x83]\\x16\\xb3\\xe1}J\\xcbH\\x13\\xba\\xc4\\xe8\\xb7\\n\\xc4(\\xe0/Z\\xe5u\\xbb+Y\\xf4\\x19[Pd8\\x90\\x9bq\\x9d\\xa1r\\xdc\\x1c\\x8f\\xc2\\xbcyf9\\x9e\\xf2\\xab/\\xbd\\x97\\x0c\\xb3\\x01(\\xb5\\x1aqM\\xbe\\xc8\\xe6?e\\x9f\\xda\\xd7\\xe2\\xef\\xec1q\\xe2\\x0f\\x86\\xbf\\xb3\\xdf\\x8f\\xdb\\xc3\\xa3_\\xb9\\x17\\xfa\\x94cJ\\xb4\\xbc\\x13K\\x1a\\x15\\\\y\\xf1>\\xcc\\x02x]\\xa0\\xd7\\xaexg\\xfe\\x0b\\x97\\xfbs\\xfc2\\xd5\\xae\\xfcA\\xe3?\\x88Z\\x0f\\x8b,\\xbe\\xc8bM/_\\xf0\\xe5\\xb5\\xbc0\\xc8\\xce\\xa5e\\xddd\\xb0JX\\x00T\\x02\\xfbp\\xe7*H\\x04x\\xb4\\xde\\x05\\xd2.\\xf5\\tu\\xcb\\xfd!>\\xd6\\x91\\xbaAp2\\x18\\xa1\\xea9\\xe2\\xb8\\x8f\\x88\\x1a?\\x87/\\xe0\\x9fL\\xd4D\\x08\\xd300\\x97\\x00\\xa9\\xf9O\\xcc=\\xb9\\xe8}\\roG8\\xcc)\\xd9F\\xab\\xb27\\xab\\xc3\\xf9Ui\\xff\\x00\\x0f\\xd7\\xf5?U\\xbe\\x04\\x7f\\xc1\\xc2\\xdf\\xb2\\xd7\\x8e\\xae!\\xd2\\xbe7x3W\\xf0\\x1c\\xf3\\xdd$Q\\xdf\\x99\\x16\\xfa\\xc4!@Zi$P\\x8f\\x1a\\xee\\xc8\\xda\\x11\\xcfNk\\xec\\x9f\\x83_\\xb4\\xb7\\xc0\\x1f\\xda\\'I\\x87\\\\\\xf8\\'\\xf1{@\\xf1$7\\x16\\xcdp\\xb1i\\xba\\x824\\xeb\\x10}\\x85\\xde\\x12D\\x91\\x8d\\xd8\\x19e\\x1dG\\xa8\\xaf\\xe5\\xd7\\xc5\\xb6\\x1e#\\x1a\\x14\\xf6\\x17\\xec#\\xfb+\\x91\\xe5B@2(\\xe3#\\xdb\\xda\\xb8/\\x82\\xff\\x00\\xb5_\\xc7\\x7f\\xd8\\xbb\\xe2\\xde\\x97\\xf1\\xf7\\xe0\\x7f\\x8bnt\\x8dcH\\xba\\xccs\\xb6Z\\x19\\xe3\\xe043\\xa6p\\xf18\\xf9Y\\x0fP}pk\\xe9\\xf2\\xec\\xf6\\xb5G\\xcb]\\'\\xe6\\xb4\\x7f\\xe4xY\\x87\\x06\\xc6\\x9d7R\\x84\\xfeOU\\xf7\\x9f\\xd8\\x0e[\\xaa\\x8e)x#\\x04W\\xe7G\\xfc\\x11\\x7f\\xfe\\x0b\\xbb\\xf0\\xef\\xfe\\n\\x17\\xa0\\xbf\\xc2\\x8f\\x8fZ\\xe7\\x87|-\\xf1^\\xce\\xee\\x1bK\\r\\x16\\x1b\\x86\\x8f\\xfe\\x12(\\xfe\\xcc\\xac\\xd7P+\\xe0o2$\\xe5\\xa2Bv(S\\xd0\\x8a\\xfd\\x16\\x07\\xe6,+\\xea\\xa18\\xd4\\x8f4v>\\x16\\xad*\\x94j8MY\\xa1\\xd4QEY\\x07\\x9f\\xfe\\xd2\\xff\\x00\\x1c|+\\xfb;|\\x12\\xd7\\xfe+\\xf8\\xaf\\xc4\\xbav\\x964\\xfd:c\\xa7>\\xa7\\xb8\\xc7=\\xef\\x96\\xc6\\x08B)\\x0f!g\\x03\\xe5^p\\x18\\xf0\\x01#\\xf9\\x9e\\xfd\\xa8\\xfe=x\\xb7\\xe3\\x87\\xc5\\xbdO\\xc7\\x7f\\x10\\xf58\\xf5\\x1dgX\\xbd{\\xbb\\x89\\xadm\\x12#\\xb8\\xfd\\xe7\\xd8\\x80\\x05\\xe3\\n:\\x9e\\x06y\\xaf\\xd3\\xff\\x00\\xf89\\x07\\xe3V\\x89\\xf6\\xdf\\x07|\\x1b\\x88\\x1f?M\\xd2.\\xb5+\\xab\\x94\\xbbR\\x83\\xed\\x0e\\x88\\xb14c\\x95u\\x16\\xe1\\xc1?\\xc3(\\xc7\\xbf\\xe3\\xac7W\\x1a\\x8f\\xc4\\x0bU\\xb8\\xb8\\x89\\xa3\\xb9\\x95c\\x18\\xe4\\x10y\\'\\xd6\\xbeG=\\xc4:\\xd5\\xfd\\x8a\\xda\\x1a\\xbf_\\xf8\\x08\\xfd\\x8f\\xc3|\\xa6\\x14p\\xf2\\xc7\\xd4Z\\xc9\\xd9y%\\xbf\\xde\\xff\\x00#\\xeb\\x9f\\xd9Z\\x0b\\xfb}+H\\xf0\\x87\\x99\\x1c\\x7f\\xbeY\\x1c\\xc53\\x12\\xe0\\xef$\\xee\\x03\\xa1#\\xaeG(W\\xda\\xbe\\x95\\xf1\\x84vv\\xb6H\\xaa?v\\xaa\\x01\\x90\\xb6H\\xe3\\xdc\\xf3\\xf5\\xaf\\x9c\\x7fd\\xdd\\x02y\\xf5\\x0b{\\xa6\\xd5\\x15\\x92\\xdd\\x9f\\x1b\\xb8\\xc0R\\xcc\\x00\\x1d\\xf0:\\x7f\\xbd^\\xcf\\xe2]j\\xde\\xfaG\\x8b\\xed\\xe8\\xf34\\xc3\\xf7E\\x8eB\\xf6\\x06\\xbeK\\xea\\xd6\\xbc\\xcf_?\\xfd\\xee6\\xcb\\xe7\\xea\\xce\\x8e\\xd2\\xd2\\x1b\\xbd14\\xe9\\xdaS\\xf6\\x92\\x15HpWi\\xeaG\\xe1\\\\\\x1f\\xc4/\\x08\\xc2\\xfal\\x89\\xa6M#\\x18\\x1c\\x80\\xa9&\\x18\\x95 w8=+\\xd14\\x18\\xed\\xaf,\\xe0k\\x98\\xdbzH\\x00\\xc7E\\x00\\x13\\x9a\\xe5<S\\xa9\\xc2\\xaa\\xd6\\xb1\\xa8!\\x03\\x7f\\x0f\\x07\\'\\xf9\\xd2\\xac\\xa3\\xc9c\\xc4\\xa3)\\xd2\\xa8\\x9a<\\xda\\xf3I\\xd4/\\xe1&=E!>YCl\\xc9\\x96\\x1e\\xa0|\\xd8\\x1f\\xady\\x87\\xc5;\\ttXm\\xed$\\xd0\\xa2\\x98\\xc0\\x01\\xb70\\x12\\xa5N\\xd3\\xcb\\x14\\xcf<\\x0e\\x8b\\xc0\\x18\\xe75\\xdf|@\\xd6\\xa3\\xd0uh\\x06\\x9b9[\\x99\\xa4\\xf9\\xc6\\xc0w\\xa9\\x1c\\xe7\\xd3\\xeb\\\\n\\xb1\\xa4\\xea\\xda\\x9b\\xbe\\xa9=\\xf6\\xe8\\x84\\xa7td\\x8c\\x008\\xe3>\\xbdk\\x961\\xe5g\\xbfCF\\xa6\\xf6<;\\xc7\\xc9\\x1e\\x94\\x972X\\xdc\\x19\\xa7x|\\xcf6p\\x0c\\x8b\\xc7 \\xe3\\x92=\\x8d|\\xe7\\xac_\\xde\\xeb\\xd6\\x17\\xd6\\x9a\\x95\\xd2L\\xbb\\x9a1\\x1a\\xf0S<\\xf2}1\\xcd{\\xa7\\xed\\x11rt\\xfd>o\\xb1K\\x18s)I\\xa3a\\xb5\\x8e;\\xe75\\xf3\\xdc\\xda\\x94q]\\xbc\\x08\\x9b\\x16\\xe2\\x13\\xe6c\\x80\\xe4r3\\xef\\x8c\\x8a\\xf6\\xb00\\xf7y\\x8e\\x9c]4\\xe8z\\x8c\\xf87\\xf1\\xdb\\xe2\\xaf\\xec}\\xf1\\xe3\\xc3\\x7f\\xb4w\\xc1\\ri,<W\\xe1MEot\\xa9\\xae\\xa1Y\\xe3$\\x06W\\x8eDa\\x86GFd#\\x86\\xc3\\x12\\n\\xb0\\x04\\x7f\\\\\\x7f\\xf0L\\xcf\\xdb\\x9f\\xc2\\x9f\\xf0Q\\x9f\\xd8\\xcf\\xc2\\x1f\\xb57\\x86,\\xe1\\xb3\\xb9\\xd6-L\\x1e \\xd2\\xad\\x9aFM;R\\x8b\\x0bqn\\x1aDR\\xc1[\\x04\\x10\\x08\\xc3\\x01\\xb9\\xb0M\\x7f\\x1d\\xde \\xb9\\xb76\\x92\\t\\xc2\\x97\\x0cB`\\xf4\\x1f\\xe7\\x9a\\xfdI\\xff\\x00\\x83D\\xff\\x00nMc\\xe1O\\xed\\x83\\xaf\\xfe\\xc4\\x9a\\xf5\\xde\\xff\\x00\\x0f\\xfcG\\xd3\\xa4\\xbf\\xd2\\xd6G\\x8d\\x16\\xdbS\\xb4\\x8d\\x9fv\\xe6\\xf9\\x8e\\xf8\\x83\\xa0E<\\xb3\\x03\\x82E}\\xae[U\\xdb\\x95\\x9f\\x93q.\\x12\\n~\\xd6;\\xf5?\\xa4j(\\xa2\\xbds\\xe4O\\xe7\\xe3\\xfe\\x0b\\xed\\xab\\xe8\\x16_\\xf0Q\\x9f\\x18\\xd8\\xce\\xdb&\\x9e\\xd7Li\\x1c\\x92T\\xed\\xd2\\xad0\\xac\\x07\\xd7?\\x87\\xe5\\xf0\\xf5\\x8c\\xd6\\xf7\\xde/\\x82\\xe0J\\x91\\x88\\xf9\\x85\\xc4$\\x87r\\xbf.\\x00\\x03o\\xe3_S\\x7f\\xc1\\xc7wR\\xb7\\xfc\\x14\\xcb\\xc6\\x90\\x14\\x05b\\xb3\\xd1\\xe4\\'\\xb8\\x07M\\xb4\\x1f\\xe3\\xf9W\\xc8\\x9e\\x11\\xf1\\xed\\x86\\x9b\\x7fj\\xfa\\x8c1\\xcb\\x1e\\xd5\\x8ddXT\\xb4C<08\\xe0\\xe7\\xb8\\xe6\\xbe\\x131\\x8c\\xa3\\x8b\\xa9%\\xd5\\xb3\\xfa3\\x84`\\xa1\\xc3\\xf4\\x14\\x7f\\x91;z\\xdc\\xfa\\xaf\\xe07\\x8c-\\xbc,\\xf0\\xc5\\xa8Hg!Hyb\\x7f\\xf5d\\x82\\x0e\\xec\\x1ezg\\xb7oZ\\xf5/\\x16\\xea\\x13>\\xa0\\x9a\\x86\\x91j\\xce|\\xb4i.QN\\x1cw\\xda1_:\\xf87\\xe26\\x8b?\\x87-Z;\\x15\\x17~q;\\xdaS\\xbeV\\'\\xef\\xb3t<u\\xe3\\xaf\\xd4\\xd7\\xadh_\\x11\\xcc>\\x1c\\xfe\\xcd\\xb1\\xbdIT>\\xe1\\x0e\\xd0\\x06q\\x9e\\x02\\x80?*\\xf2)\\xd7Q\\\\\\xb27\\xc7\\xe1e:\\xbe\\xd5G]U\\x9f\\xe6z}\\xc7\\x8bu\\x9d#D\\t\\t\\x9fe\\xc0-19\\x064\\x03\\xe8y9\\xaei<G}}\\'\\xdaoc\\x08\\xac\\xc5\\xd4\\xee \\xe7\\x1e\\x9f\\\\\\xd7=q\\xf1}\\xa4\\xb01\\xdb\\xde-\\xb2\\xb4dK\\xbdw08\\xf7\\xce;\\xe2\\xb8\\xdds\\xc4\\x97\\x02O\\xb2[\\xc8\\x02\\x03\\xb9e\\r\\x81\\x9e\\xd9\\xc7|W>.t\\xda\\xf7\\x0f\"x*\\xbc\\xb7q\\xb1\\xd4x\\xb2\\x18|C\\xa9\\xc5~u%\\x8eX\\x81\\x00)\\x19#\\xd3\\x15\\x91\\xe2\\x8dr\\xc9\\xec\\r\\x8d\\x84\\xc1.66\\xe2\\xeb\\xc1n\\xde\\x99\\xae\\n\\xe3\\xc6\\x17\\xda^\\xac\\x92]^\\x86L\\x8f\\xbc\\xb9\\x19\\xa6x\\xd3\\xc5:m\\xf4&i\\xd9\\x12h\\xdb)\\x806\\x9c\\x0f|\\xff\\x00\\x91\\\\Qrn\\xc3\\xa7F\\xa4e\\x18\\xcbTx\\xaf\\xed\\x05i&\\xa5<\\xd1\\xdeK\\xb6Pw\\xae\\xe8\\xf2\\x80g\\x19\\xcfj\\xf9\\xd7\\xc4\\x17\\xd2Y\\xea\\x8f\\x1f\\x92\\xcc\\xaaJ\\x9c\\xb7>\\x99\\xf7\\xaf\\xa1>)kw:\\x96\\xa2&f\\x90#BT\\xed\\xff\\x00Vs\\xf8\\xd7\\xcf\\xdf\\x13D6\\xb3\\xb2\\x9b\\x90\\xce\\xcd\\x9d\\xc0r?\\x1e\\xb5\\xf4Yk\\x7f\\x0b=\\x1c\\xc18a\\x8e\\'Q\\xb9\\x9aY\\xae\\x0c\\x92\\xe4(\\xc8\\x1d}\\xb1\\xfaWm\\xfb\\x13\\xfe\\xd0K\\xfb*\\xfe\\xda\\xdf\\x0c\\x7fh\\xef\\xec\\x94\\xbf\\x8f\\xc1\\xfe5\\xd3\\xf5Il\\xa4\\xbb\\xf2\\x16t\\x8ee,\\xad&\\x0e\\xc0GS\\x83\\x8a\\xe0\\xaeah\\x04\\x8a\\x1d\\\\\\x11\\x9d\\xc3\\xe9XP\\xeaw:6\\xafk\\xab\\xd8\\xca\\x12{K\\xa4\\x9a\\x02W;]X08<\\x1eGz\\xfa\\xcc*JZ\\x1f\\x95\\xe7\\xa9\\xb8;\\xf5\\xb9\\xfd\\xe2\\xe8\\x1a\\xfe\\x89\\xe2\\xbd\\n\\xcb\\xc5\\x1e\\x19\\xd6\\xed\\xb5\\r7R\\xb4\\x8e\\xebN\\xbf\\xb1\\x9d%\\x82\\xea\\t\\x14<r\\xc6\\xeaJ\\xba2\\x90\\xc1\\x81 \\x82\\x08\\xa2\\xb8O\\xd8\\xfb\\xe2\\'\\x89\\xbe.\\xfe\\xc9\\x1f\\x0b>,x\\xda\\xf1n\\xb5\\x9f\\x14|9\\xd0\\xf5}^\\xe5`X\\xc4\\xb7W6\\x10\\xcd+\\x84E\\n\\x80\\xbb\\xb1\\xda\\xa0\\x01\\x9c\\x00\\x05\\x15\\xec\\x9f\\n~\\x13\\xff\\x00\\xc1\\xcc?\\x0b\\xfcG\\xe1/\\xdb\\xff\\x00W\\xf1\\xde\\xad\\n\\xa5\\xa7\\x8at\\r2\\xf3Id\\x95X\\xbcQ[%\\xa9f\\x00\\xe5H\\x9a\\xdeA\\x83\\xd4\\x00z\\x1a\\xfc\\xf3\\x12\\xcfk\\xa1\\xc5\\xaaE:\\xc5qo67.\\t$s\\xd2\\xbfy\\x7f\\xe0\\xe7O\\xd9\"\\xd7\\xe27\\xec\\xe9\\xa1~\\xd4~\\x1a\\xd3nd\\xd6\\xfc\\'x\\xbaV\\xa8-\\xad$\\x94K\\xa7\\xcc]\\xd1\\xe4`\\xfba\\x8e)w\\xfc\\xdb~cp\\x01a\\x85\\x15\\xf8-e<\\xd2<\\xfa6\\xa0YD\\x8av\\xae\\xee\\x01\\x1c\\x1e\\x9dk\\xe5sJ.\\x18\\x89>\\xfa\\x9f\\xbap6c\\x1a\\xf9E87\\xaco\\x1f\\xbbo\\xc1\\x9e\\x93\\xe0MR\\xeaM6\\xdd&\\x89$Y\\x11\\x9d<\\xc7\\xc7\\x1c\\x81\\xc8\\xe83\\xd6\\xbdg\\xe1\\xd7\\x8dg\\x97_\\x86\\xc7\\xcb\\x88\\xc7\\x0cx\\x97<\\x90\\xe7\\xa6\\xd1^\\x15\\xf0\\xfb\\xc4:l6\\xf2\\xe8\\x97zr\\xb9\\xfb)K{\\xa3\\x85dq\\x86\\xc6\\t\\xc1\\x1c\\x11\\xeb\\xf5\\xe0\\x0e\\xa3\\xc3\\xfa\\xec\\x91]-\\xce\\x9d$/+\\xc0$\\x9c1}\\xc3\\x07\\x04z\\x11\\xdf\\xd7\\x9a\\xf9LE\\'\\xcc\\xd1\\xf7\\xf3P\\xc4\\xd1\\x94d\\xba[\\xef=\\xaf\\xc6\\x10O\\xa6\\xde\\xc5yf\\x14[\\xdcI\\x8b\\xcc.J\\x9c\\x10\\x1b\\x1e\\x95B\\xf7V\\xb4\\x9a\\xe5\\xa6\\x83\\x98Y\\xb2\\x14\\xa9\\x1b\\x9b\\x18\\xc0\\x07\\xa5q\\xab\\xf1\\x17R\\xb9\\xd2\\xce\\x9590\\x11\\'\\xef\\x0c\\x8e\\x0e\\xf4\\xeapx\\x03\\x8a\\xb5\\x0f\\x8c\\xae`/c\\xe5\\x1d\\xc9\\x01u\\x92.T\\x06$\\x0e\\xab\\x8c\\xd7\\x9f(M+3\\xc8X|Dh(\\xd4\\xdd_\\xe6\\xbc\\xcc\\xcd{Q\\x83P\\xd4a\\x94\\\\\\xb0BJ\\x18s\\xf71\\xdf\\x8a\\xca\\x96o\\xb75\\xca\\xbb\\x91\\x88\\xbft\\xecx9\\xcf\\xadr\\xda\\xc6\\xa3x5c\\x04\\xb23\\t\\x1d\\x89`@e$\\xf5\\xe2\\xadK\\xae\\xfd\\xa2\\xcd\\xad\\xac\\xc1-\\x85\\x11\\x90\\xc0\\xb6x$\\xe7\\xf05\\xb2\\x8bV\\xb0N\\x82\\x84\\x92\\xe8q\\xdf\\x11\\xaf5\\x1d>\\xcaK\\x08/\\x18\\x85\\',\\xa3r\\xfe\\x06\\xbcC\\xc6wK$\\x19vff}\\xc5\\x8f9\\xaf[\\xf1q\\x9e\\xe6\\xcaw\\x97Q\\xd9\\xb5\\x89\\xf9\\xce\\xd0x\\xeb\\x81^!\\xe2\\xab\\x97\\x92\\xe1\\xa2Y\\x0e\\xd08\\'\\xd7\\xf0\\xaf\\xa0\\xcb#\\xcc\\xcf7>\\xa8\\xa9P\\xf50\\xf5\\x8b\\xa7X\\xb0\\xac\\x06F08\\xac\\xdd\\x17L\\x8b\\xc4^.\\xd2\\xf4\\t\\xe7dK\\xedB\\x18\\x1eE\\x19*\\x1d\\xd5I\\x1fL\\xd4\\xda\\xb1*De\\x8f\\x03\\xa5z\\xf7\\xfc\\x13S\\xf6c\\xd7\\xbfl\\x7f\\xdb\\xd7\\xe1\\x8f\\xec\\xfb\\xe1\\xf3s\\x18\\xd7<Yh5\\x0b\\xeb]1\\xae\\xcd\\x8d\\xa2H\\xaf5\\xc3F\\xa5r\\x88\\x80\\xb3\\x12\\xca\\x00\\x19$W\\xd6a\\xa1k\\x1f\\x91g\\x15\\xf9\\xae\\x7fg\\xff\\x00\\x01~\\x14\\xe9\\xff\\x00\\x01\\xfe\\x06\\xf83\\xe0~\\x91\\xabM}k\\xe0\\xdf\\ni\\xda\\x1d\\xb5\\xec\\xf1\\x05{\\x88\\xed-c\\xb7Y\\x19G\\nXF\\t\\x03\\x80M\\x15\\xd7Q^\\x99\\xf2G\\x9b\\xfe\\xd6_\\x004\\xff\\x00\\xda\\x97\\xf6r\\xf1o\\xc0\\rSY}>/\\x13\\xe9\\x7ff\\x17\\xb1\\xc6\\x1f\\xc9p\\xeb\"1S\\xd4nE\\xc8\\xf4\\xce9\\xaf\\xe53\\xf6\\xa4\\xf8\\'\\xe2\\xcf\\xd9\\xe3\\xe36\\xbf\\xf0\\xc3\\xc5\\xfaT\\x96\\xba\\xce\\x81\\xaaKmu\\x0b\\xa6\\xd2v\\xb1\\x00\\xe3<ep\\xc3\\xeb_\\xd7\\xc0R\\x17\\xd6\\xbf\\x0b\\xff\\x00\\xe0\\xe1\\xef\\xf8\\'~\\xa5\\xf0\\xf3\\xe2l\\xdf\\xb56\\x99\\xae>\\xa3c\\xe3\\xadN\\xe2K\\xc3%\\xbaF,.\\x02\\x86X@\\x12\\x16\\x90lVm\\xfbT\\x0cb\\xbc\\xac\\xd6\\x975%S\\xb6\\xfe\\x87\\xd8\\xf0^g\\xf5<{\\xa1\\'\\xee\\xcfo\\xf1-\\xbe\\xf3\\xf2kF\\xd6\\x9e\\xd2\\xe0K4A\\xd2C\\xba0GRz\\x9f\\xd0Wc\\xe1]^\\x13\\xad\\xaa\\x8b\\x83\\x8d\\xa7g`\\xde\\x8ak\\x86]0Y\\x89\\xad.\\xf7\\xa8V\\xc49la\\x87\\'8\\xce\\x06N=\\xf8\\xab\\xfa\\x0e\\xafgc\\xe4\\x81\\x10Y\\xe3\\x97pf\\x7f\\xbc\\xa4~\\\\\\x1fz\\xf9\\x1cM$\\xdbh\\xfd\\xdb\\r\\x88s\\xa7c\\xd5_]\\x81oe\\x8aI\\x91\\x02&Q\\x88\\x1d@9\\x19>\\xa0\\xd5K\\x9f\\x1b\\xcb\\xb8\\xdc[\\xc6\\x129\\x18D\\xe3o\\xde\\xc7\\xf9\\x15\\xc6j~)\\x92x\\x14\\xcf\\x14@\\x922A\\x00\\xe3?\\xe7\\x9a\\x1bX\\x92\\xed\\xe2\\xb3y\\xd3 ob\\xaf\\xc61\\xc7=3^[\\xa3\\xae\\xc6\\xd3Q\\xe5\\xf7\\x85\\xbe\\xd4\\xae#\\xbc\\xb9\\x92\\xe7\\xcc\\x0cg\\xca\\x02\\xb8\\xc8\\xf5\\xa7\\xddjV\\x11Y5\\xc4rl\\x1c(\\x0c\\xd899\\xc9\\xff\\x00>\\xb5\\x95\\xa8j\\xb7\\xd2\\x1f\\xf4\\x89\\xd4\\xe3\\x95f\\x1d\\xbbf\\xb9M_]\\x94Z\\x19\\x1d\\xc3orp_\\x00\\x1a\\xe9\\xa7A\\xcc\\xe4\\xabZ1Z\\x94\\xfe#\\xf8\\xb0K\\x9b5#b&\\xd2\\xc9\\xfe5\\xe5\\xda\\xd5\\xfc#t\\xe5\\x89S\\xc0>\\xb5\\xab\\xe2\\xadc\\xcc\\x9aX\\xdd\\xf27s\\\\~\\xb3y\\xe6\\x1co\\xc8Px\\xaf\\xa4\\xc0\\xe1T\"\\x8f\\x80\\xe2\\x0c\\xd3\\x99\\xca\\xdd\\n\\x9a\\x8d\\xe1\\x95\\x9aL\\xe3\\x8e+\\xf7\\x03\\xfe\\x0c\\xd0\\xfd\\x87l\\xbcQ\\xf1\\x0f\\xc6\\xff\\x00\\xb7\\xa7\\x8b\"\\x97\\xcc\\xf0\\xdc_\\xd8>\\x17FI\\x10\\x19\\xae#>|\\xc0\\xfd\\xc9\\x14G\\xba2\\xbc\\xe0\\xb0<W\\xe3G\\xec\\xed\\xf0\\x17\\xe2/\\xedW\\xf1\\xdb\\xc2\\xbf\\xb3\\xd7\\xc2\\x9d\\x1a{\\xedw\\xc5z\\xcc6\\x16Q\\xc1m$\\xc6=\\xed\\x87\\x99\\x965f\\xd8\\x8b\\xb9\\xd8\\x80p\\xaaOj\\xfe\\xcf?\\xe0\\x9c\\xbf\\xb1\\x1f\\x82\\xff\\x00\\xe0\\x9e_\\xb1\\xff\\x00\\x84?e\\x9f\\x05\\xdcCu\\xfd\\x83e\\xbbW\\xd4\\xed\\xe1h\\xc6\\xa1\\x7f\\'3\\xdcmfm\\xbb\\x9b\\xe9\\xc2\\x8e\\x07J\\xfa*0\\xe5?,\\xc7b\\x1dY\\x9e\\xe9E\\x14WA\\xe7\\x89\\xb7#\\x9fJ\\xf2\\xbf\\xdb+\\xf6r\\xd1?j\\xdf\\xd9\\xc3\\xc4\\xff\\x00\\x04u\\x95\\x01\\xb5K\\x12\\xdat\\xcf\\xbc\\x88.\\x93\\xe7\\x86B\\xa8\\xeaX\\x07\\x00\\xed$\\x03\\xd0\\xf1^\\xa7\\xbbo^\\xc2\\x93$\\xfc\\xd9\\xe2\\xa2PS\\x8b\\x8c\\xb6c\\x84\\xe5NjQvkS\\xf9<\\xfd\\xa7?f\\xff\\x00\\x13\\xfc-\\xf1F\\xa5\\xa2\\xeb\\x9e\\x1b\\xb8\\xd35=*v\\xb6\\xd4t\\xeb\\xd8\\xb1-\\xbc\\xaas\\xb5\\x87\\xa6pA\\x07\\x07 \\x82A\\x06\\xbe}\\x9e\\xc3Sye\\xb9\\xfb\\x0c\\xa1 \\x93k\\xed9\\xc1\\xeb\\x9czW\\xf5\\x8d\\xfbg\\xff\\x00\\xc19?g_\\xdbK\\xc2\\xba\\xbd\\x9f\\x8d|)e\\xa7x\\xa3S\\xb1\\x82\\xd6\\xdf\\xc6\\x96\\xd6\\x0b%\\xed\\xa4qL\\xb2aA![+\\xbd9\\xe7k\\x9fA_\\x8e_\\xb5O\\xfc\\x1b\\x83\\xfbr|$\\xb7\\xbd\\xd7\\xfe\\x0e[i\\x1e;\\xd3\\x85\\xa3\\xcds\\x1e\\x83pc\\xb9\\x18r\\x04K\\x04\\xb8y\\\\\\x8c\\x1c \"\\xben\\xbeW\\x88\\xa2\\xdf\\xb3\\xf7\\x97\\xe2~\\x95\\x95q\\x9f5(\\xd3\\xaf.Y.\\xbd\\x1f\\xf9\\x1f\\x97\\x9a\\x86\\xa7\\x1e\\xf4t\\x93\\x80\\xdf1f<\\x13\\xe9\\x9a\\xb5\\xa3\\xf8\\xa2\\xdc\\\\}\\xa2\\xea@\\xaa\\xb1\\x15R\\x0f\\x00\\xf5\\x1d\\xeb\\xd4\\xfe=\\xff\\x00\\xc15\\x7fnO\\x81zL^!\\xf8\\xa3\\xfb.\\xf8\\xcfD\\xb2\\xbb\\xba\\x16\\xf6\\xf7w\\x9a\\x14\\xc2)%*\\xce\\x106>\\xf6\\xd5c\\x8fc^g\\xf1\\x13\\xf6U\\xfd\\xa6\\xfe\\x0f\\xe9ZV\\xa1\\xf1\\x1f\\xe0\\x7f\\x894\\x1bM\\x7fK\\x8fR\\xd2n\\xb5m6H#\\xbb\\xb4\\x90\\x13\\x1c\\xc8X\\x00U\\xb6\\x9c\\x1e\\xf85\\xc9,\\x05F\\xac\\xd3>\\x9a\\\\[\\x82\\xa9\\x1d&\\x8c\\xcds\\xc4Q\\\\H\\x8c\\xb3\\xb6\\x14\\xf2\\xa1\\xbaW\\t\\xe3\\x1d}\\x8c\\xbe\\\\S\\x83\\xb1\\xbdy\\x1e\\xf54:\\x07\\xc5\\rhK>\\x83\\xe0}^\\xfa4s\\x17\\x9de\\xa7\\xc9*\\x06\\x1dF\\xe5R2+\\x9b\\xba\\xf0w\\xc4-f\\xf9\\xec\\xa1\\xf0\\xcd\\xeb\\\\\\x99\\x19\\r\\xb2\\xdb\\xb7\\x9aYs\\x91\\xb3\\x19\\xc8\\xc1\\xc8\\xc7j\\xe8\\xc3\\xe5\\xee:\\xbd\\x8f/\\x1b\\xc4\\xf4]+A\\xdd\\x98\\x9a\\xbe\\xa8\\xf77\\r#;1\\xcfs\\xde\\xb4~\\x12|\\x1e\\xf8\\xa9\\xfbF|R\\xd1~\\t\\xfc\\x13\\xf0=\\xff\\x00\\x88\\xfcS\\xe2+\\xf4\\xb3\\xd24}6-\\xf2\\xcf+\\x1c\\x0feQ\\xc9fb\\x15T\\x16b\\x00&\\xbd\\xaf\\xf6F\\xff\\x00\\x82O\\xfe\\xde\\xbf\\xb6\\xf7\\x8a\\xec\\xf4\\x0f\\x81\\xff\\x00\\xb3\\xcf\\x88\\xeet\\xe9\\xf5h\\xf4\\xfdG\\xc4\\xb7z\\\\\\x90\\xe9\\xdac\\xb0\\x0cZ\\xe2f\\x01c\\x01N\\xeez\\xf6\\xeb_\\xd2\\x17\\xfc\\x11\\x17\\xfe\\x081\\xf0\\xdf\\xfe\\t3\\xa5j\\xfe=\\xf1W\\x8bt\\xff\\x00\\x1b|I\\xf1\\x05\\xa4V\\xf7z\\xfaia#\\xd2bS\\'\\x99\\x05\\x9b\\xbf\\xcf\\xb2Pc.X+e1\\xd0\\x9c\\xfb\\x94(\\xd8\\xf8\\x0c~c*\\xcd\\xeb\\xb9\\x89\\xff\\x00\\x04!\\xff\\x00\\x82\\x03\\xf8/\\xfe\\t]\\xa1K\\xf1\\x8f\\xe2\\xee\\xb7a\\xe2o\\x8cz\\xc5\\xabCq\\xaeiOs\\x15\\xb6\\x93c<6\\xe6]5\\x11\\xa51\\xdc\\x05\\x9e\\'apcG`G\\n8\\xaf\\xd2Rp2h$\\x0eM\\x1c0\\xae\\xd4\\x92G\\x84\\xdb\\x93\\xbb\\n(\\xa2\\x98\\x82\\x8a(\\xa0\\x02\\x8a(\\xa0\\x02\\xbe_\\xff\\x00\\x82\\xb8x#\\xc3^>\\xfd\\x93WB\\xf1V\\x9c\\xb76\\xa3\\xc4\\x96\\xd2\\x88\\xdb\\xfb\\xc2\\x19\\xc0?\\xa9\\xa2\\x8a\\xc3\\x11\\xfc\\x19z\\x15O\\xe2G\\x94\\xff\\x00\\xc1\\xbaze\\x86\\x8b\\xfb\\x06k:>\\x97j\\x90\\xdb\\xdb|X\\xf1\\x02C\\x1a\\x0c\\x05Q,U\\xf5\\xc6\\x85\\xfb-~\\xcc\\xbe\\x16\\xf8\\x82~,\\xf8k\\xf6v\\xf0.\\x9f\\xe2\\xa6\\xba\\x9a\\xe8\\xf8\\x96\\xc7\\xc26P\\xea\\x06y\\x83\\te\\xfbBD$\\xde\\xe1\\xdfsn\\xcbol\\x93\\x93E\\x14P\\xfe\\x04}\\x07S\\xf8\\xac\\xef\\xa8\\xa2\\x8a\\xdc\\x80\\xa2\\x8a(\\x00\\xa2\\x8a(\\x03\\xff\\xd9'),\n",
       " ('s3a://p8muriel/test/AppleRed3/45_100.jpg',\n",
       "  b'\\xff\\xd8\\xff\\xe0\\x00\\x10JFIF\\x00\\x01\\x01\\x00\\x00\\x01\\x00\\x01\\x00\\x00\\xff\\xdb\\x00C\\x00\\x02\\x01\\x01\\x01\\x01\\x01\\x02\\x01\\x01\\x01\\x02\\x02\\x02\\x02\\x02\\x04\\x03\\x02\\x02\\x02\\x02\\x05\\x04\\x04\\x03\\x04\\x06\\x05\\x06\\x06\\x06\\x05\\x06\\x06\\x06\\x07\\t\\x08\\x06\\x07\\t\\x07\\x06\\x06\\x08\\x0b\\x08\\t\\n\\n\\n\\n\\n\\x06\\x08\\x0b\\x0c\\x0b\\n\\x0c\\t\\n\\n\\n\\xff\\xdb\\x00C\\x01\\x02\\x02\\x02\\x02\\x02\\x02\\x05\\x03\\x03\\x05\\n\\x07\\x06\\x07\\n\\n\\n\\n\\n\\n\\n\\n\\n\\n\\n\\n\\n\\n\\n\\n\\n\\n\\n\\n\\n\\n\\n\\n\\n\\n\\n\\n\\n\\n\\n\\n\\n\\n\\n\\n\\n\\n\\n\\n\\n\\n\\n\\n\\n\\n\\n\\n\\n\\n\\xff\\xc0\\x00\\x11\\x08\\x00d\\x00d\\x03\\x01\"\\x00\\x02\\x11\\x01\\x03\\x11\\x01\\xff\\xc4\\x00\\x1f\\x00\\x00\\x01\\x05\\x01\\x01\\x01\\x01\\x01\\x01\\x00\\x00\\x00\\x00\\x00\\x00\\x00\\x00\\x01\\x02\\x03\\x04\\x05\\x06\\x07\\x08\\t\\n\\x0b\\xff\\xc4\\x00\\xb5\\x10\\x00\\x02\\x01\\x03\\x03\\x02\\x04\\x03\\x05\\x05\\x04\\x04\\x00\\x00\\x01}\\x01\\x02\\x03\\x00\\x04\\x11\\x05\\x12!1A\\x06\\x13Qa\\x07\"q\\x142\\x81\\x91\\xa1\\x08#B\\xb1\\xc1\\x15R\\xd1\\xf0$3br\\x82\\t\\n\\x16\\x17\\x18\\x19\\x1a%&\\'()*456789:CDEFGHIJSTUVWXYZcdefghijstuvwxyz\\x83\\x84\\x85\\x86\\x87\\x88\\x89\\x8a\\x92\\x93\\x94\\x95\\x96\\x97\\x98\\x99\\x9a\\xa2\\xa3\\xa4\\xa5\\xa6\\xa7\\xa8\\xa9\\xaa\\xb2\\xb3\\xb4\\xb5\\xb6\\xb7\\xb8\\xb9\\xba\\xc2\\xc3\\xc4\\xc5\\xc6\\xc7\\xc8\\xc9\\xca\\xd2\\xd3\\xd4\\xd5\\xd6\\xd7\\xd8\\xd9\\xda\\xe1\\xe2\\xe3\\xe4\\xe5\\xe6\\xe7\\xe8\\xe9\\xea\\xf1\\xf2\\xf3\\xf4\\xf5\\xf6\\xf7\\xf8\\xf9\\xfa\\xff\\xc4\\x00\\x1f\\x01\\x00\\x03\\x01\\x01\\x01\\x01\\x01\\x01\\x01\\x01\\x01\\x00\\x00\\x00\\x00\\x00\\x00\\x01\\x02\\x03\\x04\\x05\\x06\\x07\\x08\\t\\n\\x0b\\xff\\xc4\\x00\\xb5\\x11\\x00\\x02\\x01\\x02\\x04\\x04\\x03\\x04\\x07\\x05\\x04\\x04\\x00\\x01\\x02w\\x00\\x01\\x02\\x03\\x11\\x04\\x05!1\\x06\\x12AQ\\x07aq\\x13\"2\\x81\\x08\\x14B\\x91\\xa1\\xb1\\xc1\\t#3R\\xf0\\x15br\\xd1\\n\\x16$4\\xe1%\\xf1\\x17\\x18\\x19\\x1a&\\'()*56789:CDEFGHIJSTUVWXYZcdefghijstuvwxyz\\x82\\x83\\x84\\x85\\x86\\x87\\x88\\x89\\x8a\\x92\\x93\\x94\\x95\\x96\\x97\\x98\\x99\\x9a\\xa2\\xa3\\xa4\\xa5\\xa6\\xa7\\xa8\\xa9\\xaa\\xb2\\xb3\\xb4\\xb5\\xb6\\xb7\\xb8\\xb9\\xba\\xc2\\xc3\\xc4\\xc5\\xc6\\xc7\\xc8\\xc9\\xca\\xd2\\xd3\\xd4\\xd5\\xd6\\xd7\\xd8\\xd9\\xda\\xe2\\xe3\\xe4\\xe5\\xe6\\xe7\\xe8\\xe9\\xea\\xf2\\xf3\\xf4\\xf5\\xf6\\xf7\\xf8\\xf9\\xfa\\xff\\xda\\x00\\x0c\\x03\\x01\\x00\\x02\\x11\\x03\\x11\\x00?\\x00\\xfd\\xfa\\xc1\\xc6@\\xa0}\\xde\\x98\"\\x9b\\x86\\x07\\x9fN\\x99\\xaf\\x84\\x7f\\xe0\\xb1\\x1f\\xf0S=O\\xf6U\\xf0\\xca|!\\xf8;\\xe2\\x18-\\xbcS\\xaa[\\x17\\xd45[k\\x84y\\xf4\\xa8\\x89\\xc2\\xa2\\xa7T\\x95\\xfa\\x86a\\x85\\x00\\x9e\\xbcV8\\x8cE,-\\x17V\\xa3\\xb2GN\\x07\\x05\\x89\\xccqQ\\xc3\\xd0\\x8d\\xe5\\'e\\xfdv>\\x85\\xfd\\xa7\\xff\\x00o\\xbf\\xd9\\xbb\\xf6K\\xfb%\\x8f\\xc4\\x8f\\x14Kw\\xaa]\\xdd\\x18F\\x87\\xa0,wW\\x90\\x80\\x8a\\xe6Ic.\\xbeR\\x00\\xf1\\xfd\\xe2\\t\\xf3\\x17\\x00\\x8c\\x91\\xf0\\xdf\\xc6_\\xf8+\\'\\xedq\\xf1~\\xfdo\\xbe\\x01Oa\\xf0\\xfbD\\xb4us\\xb6\\xc6\\xdfR\\xbc\\xb8\\x05@e\\x96K\\x98\\xde0\\x01\\x04\\x81\\x1chFpY\\xb1_\\x9f^\\x0c\\xf1\\xcf\\x8f\\xfe;\\xfcU\\xbb\\xf1\\x86\\xaby{yss9\\x9fS\\xd4n2\\xc6\\xf6\\xec\\x9f\\x98\\xca\\xe7\\xef7L/@=\\x85}0\\xfe\\x19\\xb5\\xf0\\xff\\x00\\x86\\x93M\\xd3\\xe0h\\xdeG\\xfd\\xf2\\xb7Y\\x0erN}\\r|\\x16a\\xc4\\xb8\\xda\\xb3\\xe4\\xa1\\xee/\\xc7\\xef\\xff\\x00#\\xf4\\x89pf\\x0f\\'\\xa7\\x1f\\xac\\xbez\\x8e\\xdat_/\\xf3\\xfb\\x8e\\xcf\\xc4\\xbf\\xb7\\xcf\\xed\\xbd\\xf1\\x1f\\xc0\\xf7\\xda\\x07\\x8a?h\\rCO\\xb5\\x9d\\xd4\\x0b\\x8d\\x16\\xde\\xdfL\\xbc\\x01\\x1c0+qi\\x1cr\\xc7\\x92\\xb8!X\\x02\\t\\x07 \\x90|{P\\xf8\\xd1\\xfbVx\\xa7E\\xbf\\xd35O\\xda\\x93\\xe2M\\xd5\\x85\\xc4&\\xde\\xee\\xce\\xe7\\xc7\\xda\\x83\\xc7<n\\x98\\x91\\x1d\\x1eR\\n\\x90H \\xe4\\x11\\x91\\xde\\xba]C\\xc2\\x9a\\x9a\\xe8W\\x17\\x10\\x88\\x99v\\xab*\\xa8\\xce\\xde\\x7f\\xfdu\\xcb\\xea\\xb6\\xd6\\xd7\\x1ae\\xe4\\x9a\\x91\\x8c\\xc42\\xd1\\xa6v\\x8d\\xdb}~\\xa4\\xd7\\x91<\\xc34\\xb5\\xe5V_{\\x1c2\\xcc\\x03\\x8b\\xe5\\xa7\\x15\\xf2F7\\xec\\xe1\\xfbe|j\\xfd\\x86m.>\\x0b\\xfc\\x06\\xf1\\xad\\xaf\\x86m5\\x9b\\xf9/nZ\\x1f\\x0ei\\xf7\\x12\\xdcK\\x8e\\x0c\\x92\\xcd\\x03\\xbb\\x002\\x15I\\xc2\\x82@\\xc6k\\xd6|\\x17\\xff\\x00\\x05\\xdd\\xfd\\xb6~\\x18\\xc3\\xaa]\\xf8\\xe3^\\xf0\\xd7\\x8c\\x12u\\x8d\\xad\\x7f\\xe1!\\xd0\\xa3\\xb66\\n\\xbb\\xf2TX\\xf9\\x1b\\xb7\\xe4g~\\xecycn2\\xd9\\xf0\\x9b\\x9f\\x05iZ\\xae\\xa1\\x16\\xb3\\xaaiH\\xd3\\xc0\\xa7\\xec\\xf7 \\x11\\xb4\\x95\\xc7\\x1d\\xb9\\x1cs\\xd6\\xb8\\xaf\\x88\\x1aN\\x81,R\\xe9\\xda\\x97\\x97\\x18\\x9e/-$*\\xac\\x1c\\x9e:{p1\\xee+z9\\xcecN\\xca5^\\x86\\xf5x{+\\xab$\\xbd\\x9e\\xbd}|\\x8f\\xd4\\x9f\\x85?\\xf0qo\\xec\\xbd\\xe2\\x1d<\\x8f\\x8c?\\x0c<K\\xe1\\x8b\\xa1u\\x1cQ6\\x9ac\\xd4-\\xdd\\x18\\x0c\\xcc\\xceLF0\\x18\\x9f\\x97\\x0cp3\\x93\\xd2\\xbe\\xdc\\xf8-\\xfb@|\\x15\\xfd\\xa2\\xbc*\\x9e7\\xf8#\\xf17I\\xf16\\x9a\\xc0\\x136\\x99r\\x19\\xa2\\xc9`\\x04\\x91\\x9c<D\\x94l\\x07PN\\t\\x1cW\\xf2\\xe9\\xe2{\\x0f\\x10X[]\\xe9)4I\\x0cg1\\xf9D\\x0f=J\\xf1\\x8f\\xc3\\xb5p_\\x04\\xbfk\\x7f\\xda\\x1f\\xf6+\\xf8\\xa1e\\xf1\\xb3\\xe0_\\x8e\\xaf\\xf4\\x9b\\xfd*\\xfdf\\x11\\x19\\x19\\xad\\xae\\x00\\x0c\\x0cw\\x11gl\\x91\\xb2\\xb3\\xa9\\r\\xd9\\x8e\\x08\\xcek\\xe9\\xf2\\xec\\xf6\\xb5Ir\\xd7I\\xf9\\xad\\x19\\xe2f\\x1c\\x1b\\x18Su0\\xf3\\xf9?\\xf3?\\xaf\\xbf\\x98t\\x14\\xe23\\xd6\\xbe\\x02\\xff\\x00\\x82+\\xff\\x00\\xc1m\\xbe\\x1b\\xff\\x00\\xc1K<\\x10>\\x18\\xfcG\\xba\\xb2\\xd0~0h6J\\xda\\xce\\x8a\\xac#\\x8bX\\x84`}\\xb6\\xd0\\x13\\xca\\x93\\xf7\\xe3\\x1c\\xc6\\xc7\\xfb\\xa5I\\xfb\\xf3\\'vs\\xc0\\xaf\\xa9\\x84\\xe3R*Q\\xd8\\xf8J\\xb4\\xaaQ\\xa8\\xe15f\\x85\\xa2\\x8a*\\xc8<\\xbf\\xf6\\xa7\\xfd\\xa8\\xbe\\x1f\\xfe\\xc9\\x1f\\x0c\\xbf\\xe1g\\xfcF\\x8e\\x7f\\xb1\\xcdxlm<\\xa5\\xf9\\r\\xc9\\xb7\\x9ah\\xd6F\\x00\\xb2#\\x18J\\x17Ur\\x0b\\x03\\xb4\\x8c\\x91\\xfc\\xd9\\xfe\\xd2\\xff\\x00\\x18\\xee>\\'|G\\xd5<G\\xaa\\xddK=\\xce\\xa9\\x7f5\\xdcF]@\\xddM&\\xf6.dy\\x19F\\xf2\\xab\\xf2\\x8c\\xfa\\x0e8\\xaf\\xd2\\x1f\\xf8//\\xed\\x97\\xe2-k\\xc7\\x1a\\xcf\\xec\\xab-\\x84\\x96Zw\\x84ob\\x9d\\xa7\\x8e\\xe4\\xf9\\x1a\\x9a\\xdc\\xe9\\xd6s\\xa7\\x9b\\x19\\xff\\x00\\x96\\xb1<\\x93\\x05a\\xc6\\xd9=s\\x9f\\xc8\\xddOP\\x9e\\xef\\xc6\\x16\\x93Es\\x1b\\xc4\\xcc\\x91F\\x06\\x08!\\xb8\\xc8\\xfc\\t\\xaf\\x91\\xcfq\\x0f\\x11\\x88\\xf6\\x0b\\xe1\\x86\\xaf\\xd7\\xfe\\x01\\xfb\\x17\\x87\\x19D)Q\\x96>\\xa2\\xf7\\xa5\\xa4}\\x16\\xef\\xe6\\xcf\\xa7\\xff\\x00e)5\\x1d7\\xc3\\xd6~\\x1bc\\x12=\\xdc\\xc8\\xeccb\\xec\\xc5\\x98\\x12\\t\\x0b\\xc3\\x01\\xb5N@\\xc0 \\xe75\\xf5\\x9f\\x89\\xa1\\xb7\\xb1\\xd1c\\x8d\\x17\\x7f\\x97\\x10\\xde\\xcc\\xd9\\xfe}k\\xe5\\xff\\x00\\xd9c\\xc3\\x06\\xfb[\\x87J\\x87S\\x8d#\\x8e\\xf9\\x96$\\x90m\\n\\x06\\xc0\\xa0~\\xb5\\xee\\xfe0\\xd7m\\xa7\\xb8\\x9a\\xdeMML\\x81\\x02E\\x13\\x1eq\\xf4\\xaf\\x93x[^\\xa1\\xeeq\\x0c\\x95lU\\x97\\xab\\xf9\\x9bz\"\\xc7&\\x92\\xdb\\xe5\\x95\\xc4\\xc0,[\\\\\\x11\\x93\\xc7A\\xf55\\xc9\\xf8\\xfb\\xc1\\xd6F\\xd6\\xf3L\\xb0\\xb8\\x931\\x92\\x0e\\x1f\\x078\\xc8\\xee?*\\xeb|%\\x14\\x17\\xba\"\\xc1s\\x03evyAN\\x07$V?\\x8c\\xf5\\x0bx\\xaeg\\xb3\\x81\\x03\\x0f9\\x9b \\x0c\\x1e;\\xfet\\xaa\\xa4\\xa9X\\xf9\\xf89\\xd2\\xa8\\xad\\xdc\\xf2\\xa3\\xa5\\xea2[,i~\\xb6\\x8e\\x8b\\xb5\\xa2\\x97,[\\xd4\\x8c7R;\\xfe\\x95\\xe7\\x7f\\x14\\xb4s\\xa3\\xe8\\xb1\\xda\\xdd\\xe9\\x11\\xdc!\\x94\\xbe#_\\xdeo/\\x9d\\xc5\\x97\\xa7\\x19\\x1fw=\\xf2q\\x83\\xde|J\\xd4\\xad\\xb4B\\x97\\xf0\\\\\\x98\\xee\\x99\\xd4D|\\xb0x\\xcf*Gq\\\\F\\xbfc\\xac\\xf8\\x8aIo\\xda\\xe5v \\x1b\\xa2b6\\x9e2O=\\xff\\x00\\xc2\\xb9#\\x1b3\\xdf\\xa0\\xdc\\x9a\\x9bv_\\xd7S\\xc4|e\\x11\\xb1\\xff\\x00\\x89\\x88v\\x9a\\xe6Tf\\x02r\\x1d\\xa2s\\xd8\\x1e\\t_\\xa8\\x15\\xf3\\xaf\\x88uK\\xedb\\xe2\\xfe\\xcbQ\\xb9\\x8d\\xd0;/\\x94\\x06\\x0f \\xfe\\x9fZ\\xfa\\x0b\\xf6\\x85\\x914\\xdb\\x0b\\x93cu\\x1a\\xca\\xa7\\x0c\\xae\\x08f\\xf7\\xcd|\\xd1}\\xa9$W\\xbb\\xd1B\\x1b\\x84h\\xe4u\\x1c\\x11\\xd8\\x1f\\xf1\\xf7\\xafo\\x01\\x1b\\xa6\\xce\\xac]5*\\x17C>\\n|t\\xf8\\xb3\\xfb\\x1e\\xfcs\\xf0\\xc7\\xed\\x19\\xf0OZ]?\\xc5~\\x11\\xbf[\\xbd*[\\xa8\\x16x\\x8e\\x14\\xab\\xc6\\xe8\\xdc2:3#\\x0e\\x0e\\x18\\x95*\\xd8#\\xfa\\xe6\\xff\\x00\\x82g~\\xdc\\xfe\\x14\\xff\\x00\\x82\\x8b\\xfe\\xc6\\xbe\\x10\\xfd\\xa9\\xbc/g\\r\\x9d\\xce\\xb1j`\\xf1\\x06\\x95n\\xd22i\\xda\\x94X[\\x8bp\\xce\\x8aX+`\\x8220\\xc0n8&\\xbf\\x8e\\xcdn\\xe9\\x0cw\\x06x\\xf0C\\xb0\\x88n\\xce\\xdfj\\xfd<\\xff\\x00\\x83D?lmG\\xe1G\\xed\\xc7\\xae\\xfe\\xc9\\x1a\\xfe\\xbdzt/\\x88\\xba\\x0c\\xd3iVR_\\x84\\xb4\\xb7\\xd4\\xad\\x87\\x9d\\xe6\\xecc\\x86\\x91\\xe3V\\x88m\\xe4\\x96\\xef_i\\x96\\xd5v\\xe5g\\xe4\\xdcI\\x83\\x82\\x97\\xb5\\x8a?\\xa5Z(\\xa2\\xbds\\xe4O\\xc0O\\xf8/F\\xad\\xe1\\xcb?\\xf8(\\x97\\x8dl\\xaf\\xb56\\x82Ilt\\xc7\\x953\\x95b\\xba]\\xae\\t\\x188\\xc8 ~\\x15\\xf0\\x88\\x96\\xca\\xeb\\xc4\\x1at\\x8b\\x1a$\\x02Euo$\\xb2\\xb9\\xfe\\x15\\xc6\\x01\\x1f\\\\\\xfeU\\xf5O\\xfc\\x1cm\\xf6\\xd8\\xff\\x00\\xe0\\xa5\\xfe:\\x9eB\\x86\\xdd4\\xbd\\x1fg\\x1f2\\xb7\\xf6}\\xa6y\\xf4>\\x9e\\xd5\\xf1\\xe6\\x81\\xe3[m!\\xedZY\\x16KeP\\x17l!\\x99FA,3\\x8e}\\xeb\\xe13\\x088\\xe3*Mj\\xdbg\\xf4o\\x08\\xd2T\\xf2\\n\\tu\\x82\\x7f}\\xee}O\\xfb>\\xf8\\xb5|){iu\\xa90\\xbbe\\x95d\"&\\xf9\\x90\\xe4s\\xd7\\xb8\\xfc\\xab\\xd6<[\\xaa6\\xad\\x15\\xbe\\xa3\\xa3\\xdb\\x19dh\\x0b-\\xd2+\\x10\\xab\\x9c\\x81\\xd3\\xad|\\xe7\\xe0o\\x89:\\x1bh\\x13\\x19mKM\\xe7\\x8f&i$%\\xe4\\x03\\xee\\x8c\\xf6\\xc1\\xcfn\\x80\\x0fz\\xf5\\xaf\\x08|H\\x8e\\xdbE\\x96\\xca\\x0b\\xd4\\xcc\\xca\\x0c\\x90\\xe0\\x05,~\\x80f\\xbc\\x98WQN2:1\\xf8IT\\xab\\xedTuZy?\\xeb\\xfe\\x1c\\xf4\\xdd;\\xc6:\\xfe\\x97\\xe1\\xf5\\xbe\\xb0I\\xbc\\xc9\\xd1T\\xc7  \\xa8\\xea[\\x18\\'\\xb1\\xaem\\xfcS\\xa8\\xeaR\\xb3\\xcb\\x19\\x10\\x16\\x003\\xb9\\r\\x81\\xdc\\x83\\xf4\\x15\\x81\\x17\\xc5\\x99 \\xb4\\xf2#\\x95m\\xa4\\xe97\\x983\\x8e\\xa3\\xa1\\xe8:W!\\xafx\\xaeR\\t\\x82A*\\xdc|\\xder\\x90\\x0f\\xaeI\\x1e\\xe6\\xb0\\xc5N\\x9b\\x8f\\xb8x\\xf3\\xc1Ui\\xbe[\\x1dW\\x8e\\x1e/\\x11:$\\xd7\\xcb\\x0b@\\xfb\\xa3\\xf9\\x86\\x7f\\x1a\\xc5\\xd6\\xf5\\xab\\x0bM0i\\xe99\\x17\\x04a\\x9d\\x93\\x00\\x808\\xe7\\xde\\xbc\\xfbX\\xf1N\\xa5cx\\xb7\\x177\\xe1\\xe3-\\xf3\\x83\\xf3\\x0c\\xfet\\xff\\x00\\x15\\xf8\\xafN\\xd5\\xec6_\\x94RQLl\\xaa0N3\\xde\\xbc\\xf8\\xf3^\\xd6\\x14(\\xd5\\x87,^\\xa8\\xf2o\\xda\\x06\\x1b\\x8b\\xd15\\xbe\\xa1q\\xf3:\\xb7\\x95\\x88\\xb7#c\\x9c\\x9fJ\\xf9\\x8f\\xc4\\xd7\\x87M\\xd4M\\xba\\xa6\\xf5V\\x18\\xf9\\xb8n\\x0f\"\\xbe\\x8c\\xf8\\xaf\\xaf]jSB\\xe8\\xee\\x15\\t\\xdc\\xd1}\\xdfL\\x1fZ\\xf9\\xf7\\xe2\\x87\\x93j\\xaeD\\xe9\\xbd\\xb1\\xb7\\x03\\x95\\xc7\\xbd}\\x16Z\\xda\\xf7OG0\\x8c\\xa1\\x84\\xb9\\xc1jw\\xd2\\x99\\xa6\\x85\\xe6$cp\\xe78\\xf6\\xae\\xab\\xf6@\\xf8\\xd7\\xe2\\x7f\\xd9\\xbb\\xf6\\xb9\\xf8q\\xf1\\xd7\\xc1In\\xfa\\xa7\\x86<c\\xa7\\xea\\x16iv\\x85\\xe2gI\\xd4\\x80\\xea\\x08%}FEq\\xb70\\x18dv\\x8eP\\xdb\\xd3 \\x86\\xefX\\xb1j\\xb7:&\\xafm\\xacX\\xca\\x12\\xe2\\xd2\\xe9&\\x81\\x88\\x07k\\xa3\\x06\\x07\\x07\\x83\\xc8\\xaf\\xae\\xc2\\xa4\\x9a\\xb1\\xf9^x\\x9b\\x83o\\xcc\\xfe\\xf4\\xe8\\xaf5\\xfd\\x8e>\"x\\x9f\\xe3\\x07\\xec\\x89\\xf0\\xaf\\xe2\\xdf\\x8e/V\\xefZ\\xf1O\\xc3\\x8d\\x0fW\\xd5\\xee\\x96\\x14\\x8cMus\\xa7\\xc14\\xae\\x11\\x00T\\x05\\xdd\\x8e\\xd5\\x00\\x0c\\xe0\\x00(\\xaf`\\xf8c\\xf0\\x8f\\xfe\\x0eH\\xf0F\\xbb\\xa4\\x7f\\xc1C<G\\xe2-OL\\xb9\\xb6\\xb4\\xd64}.\\xe7O\\xb8\\x9a2\\xa9s\\x12X\\xc5\\x01t\\'\\xef\\x05\\x96)\\x13?\\xdeR;W\\xe7\\xbd\\xbc\\x12\\xaf\\x86\\x8d\\xcc\\xb3\\xaa\\xdcG\\xf3d7*:\\xed\"\\xbfq\\xff\\x00\\xe0\\xe4\\xef\\xd86/\\x10|/\\x93\\xf6\\xd8\\xf0\\xc7\\x89|M\\xa8j\\xd6\\xba\\x85\\xa6\\x9b\\xab\\xe8s\\x01scgba\\xd8\\xb2\\xc5\\x80\\r\\xacj\\xe8K\\xe4\\xb2\\xbc\\x97\\x19\\xf9I\\xf9\\xbf\\r\\xec\\xa4\\x96\\xd6\\xfe]#T\\xc0I\\x14\\xe5\\x15\\x81\\x1b\\x87\\xb8\\xcd|\\xaegE\\xc3\\x11\\'\\xdfS\\xf7n\\x06\\xccc_\\'\\xa7\\x06\\xfe\\x0b\\xc7\\xee\\xdb\\xf3=\\x03\\xe1\\xc6\\xb5y>\\x9fo%\\xc2,\\xc9$\\xbc\\x078\\xdc\\x07,r:\\x13\\xfaf\\xbdK\\xc1\\xde4\\xb8\\x87S\\xb1\\xd3|\\xa8J\\xc3\\x86\\x9d\\x0b\\x12\\x02\\xf6\\xdb\\x8e\\xb5\\xe2_\\r\\xb5\\xed3J\\xb8]#S\\xb2Ya*\\xf1\\x89\\xc8\\ncr0\\x08\\xc9\\xc1\\x00\\x8f\\xc8\\xfe\\x15\\xd4h\\xba\\xd3\\xad\\xed\\xbb\\xd9K\\x13\\\\\\xb2:\\xb8r\\xf9\\\\t\\x00\\x83\\x8c\\x11\\xeb_-\\x88\\xa6\\xf9\\xd9\\xf7\\xf7\\x8dzn2]?3\\xdd<u\\x15\\xcc0.\\xbb\\xa7.\\xe6w\\x02\\xe9@\\xe4\\xa1\\xc1\\xe0{V=\\xf6\\xa7i&\\xdf\\xb3>\"UQ#\\xb2\\x15\\x07\\x1e\\x95\\xc8\\xd9\\xfcD\\xd5WN\\x97L)\\xe5H\\xf8\\xf2\\xe4v\\xca\\x9c\\xe0m\\x03\\x8c~4\\xfd?\\xc5\\xf3Y\\xc9\\x1d\\xa9S*\\xc8\\x0c\\x91\\x18\\xdb8P9-\\xf2\\xe3\\xf5\\xaf6P\\x9aVg\\x8f\\x1c6\"\\x9d\\x17\\t\\xf4\\xbd\\xbc\\xd7\\xf5\\xb1O\\xc6\\x1a\\xa4\\x17\\x97@Es\\xe5\\xf97\\x05Z\\x02z\\xfe\\x1dk&iR\\xe2\\xf5\\xa0Y[\\xcbD;]\\xc9\\xc7a\\xdf\\xde\\xb9\\xbf\\x18j\\x97\\xe7[\\x96\\xe1\\xd8\\xb7\\x9d6[$\\x06\\xfa\\xf1\\xc5:=q\\x12\\xc9\\xad-\\x83\\xbb\\x08\\xf1\\x96l\\xb37#\\x8e\\xe2\\xb6Pj*\\xc4\\xd4\\xa0\\xa3k\\x1c\\xd7\\x8f\\xeeo\\xf4\\x98e\\xb5\\x86\\xf0\\xb0l\\x92@\\xca\\x8c\\xff\\x00#^\\x19\\xe3+\\xc5\\x92\\x19\\x8c\\xdb\\x9aGl\\x96>\\xa3\\xb5z\\xf7\\x8ad\\xb8\\xbd\\xfbO\\x9dvc+\\xceX\\xe0dz\\xe2\\xbc;\\xc67\\x0co\\x1a(\\xe5\\xde9,GC\\xc9\\xaf\\x7f,\\x85\\xe4y\\xf9\\xe5H\\xd2\\xc2\\x9c\\xee\\xa5<\\x89\\x0eU\\x80<\\x8e\\x95\\x93i\\xa7\\\\\\xebZ\\xe5\\x8e\\x89f\\xa1\\xa5\\xbb\\xba\\x8e\\x18\\xc1le\\x99\\x82\\x8e{rj\\xe6\\xa6\\xec\\xa4G\\x9e1\\xd2\\xbd\\x7f\\xfe\\t\\xab\\xfb0\\xeb\\xbf\\xb6W\\xed\\xeb\\xf0\\xc7\\xf6z\\xd0M\\xd4k\\xaex\\xb2\\xd1u\\x0b\\xfb]5\\xae\\xcd\\x8d\\xa2H\\x1ek\\x86\\x8dJ\\xe5\\x11\\x01bK(\\x00d\\x91_]B\\x16g\\xe49\\xbdk\\xa6\\x8f\\xec\\x9f\\xf6H\\xf8s\\xe2\\x1f\\x83_\\xb2\\x9f\\xc3\\x1f\\x84\\x1e*\\xb6\\x86\\x1dS\\xc2\\x9f\\x0ft]\\x1fS\\x89&\\x0e\\xa9qmc\\x0c2*\\xb2\\xf0\\xc02\\x10\\x08\\xe0\\xe2\\x8a\\xf4j+\\xd2>H\\xe0\\xbfi\\x8f\\x81\\xbe\\x1d\\xfd\\xa5\\xbe\\x02x\\xab\\xe0O\\x8a\\xd7\\xfd\\x0f\\xc4\\xdaD\\x96\\x8c\\xfb\\x98\\x04\\x93\\x86\\x89\\xce\\xd2\\t\\x0b\"\\xa3\\x10:\\x81\\x8e\\xf5\\xfc\\x9c\\xfe\\xd1_\\x0b\\xb5O\\x83\\xdf\\x13\\xb5o\\x07k\\x16/\\xf6\\xed\\x1bT\\x9a\\xdeX\\xda6O3c\\x95\\xce\\x0f+\\x903\\xf8\\xd7\\xf6\\x02\\x14\\x803\\xcd~\\x19\\xff\\x00\\xc1\\xc7_\\xb1\\\\\\xbe\\x1c\\xfd\\xa0#\\xfd\\xa04?\\x0e\\xa4\\x1aW\\x8blC\\xdc\\xdd\\xdbC+/\\xdb\\xa3\\x1f\\xbd\\xf3\\x1d\\x86\\xc1#\\x0c0P~\\xea\\x93\\x81^VkJ\\xf4\\x95N\\xdb\\xfa\\x1fg\\xc19\\x9f\\xd4\\xf1\\xef\\x0f\\'\\xee\\xcfo\\xf1-\\xbe\\xf3\\xf2SK\\xd7^\\xde\\xe3\\xed\\xb2\\xc5\\xe6$\\x842dp\\xcd\\xd3\\xf9\\x11\\xc7\\xb1\\xae\\xab@\\xd6a}b\\xdfu\\xd1@\\xc7?(\\xe0\\x12>\\xef\\xe7\\\\h\\xd2\\x7f\\xb3\\xe6\\x9e\\xde\\xfd\\x9dSy\\xf2\\xb6\\xb7~\\xe4\\x8e\\xc3\\x9fN\\x87\\xebV\\xf4mN\\xda\\xc5B4`L\\xb3)F2~c\\xb8\\xfdE|\\x96&\\x92m\\xb4~\\xe9\\x85\\xc49B\\xc7\\xab\\xc9\\xad\\xc5\\x1d\\xf2B\\xf2\\xa2\\x8f,|\\xdf\\xdc~\\x08\\xe4\\xd5;\\xdf\\x1aI\\x1b\\x9b\\xab\\x08\\xd4y*#g\\x0b\\xc3g\\xb7\\xeb\\\\\\x96\\xa3\\xe2\\xc9%\\xb4)\"D\\x18\\x0f\\x95\\x81\\xe83\\xd7\\xde\\xa0\\x1a\\xd3\\xcd\\x14V!\\xe3\\x0b!\\x0c\\x08~\\x83\\xa75\\xe6{\\x17}\\x8e\\x89\\xa8Y\\xf3\\x13k\\xba\\xb4\\xbf\\xdb\\x177\\x17\\x08\\xe1YA\\x87#\\x83\\xf4\\xa4mN\\xc8X\\x9b\\x92v\\xb2&\\\\3`\\xb1\\'\\xff\\x00\\xd7\\xf9VV\\xab\\xab_\\xb3\\x18%\\xb8F\\x8c1\\t!#\\xa7\\xa7\\xbds\\x1a\\xd6\\xbb2\\t$/\\xbco+\\x8c\\xf1\\xff\\x00\\xd6\\xae\\x98Q\\xe7H\\xe1\\xabZ\\x11E\\x7f\\x88~*\\x0bnl\\xd5\\xd7\\xe5\\x07%z\\xf3\\xef^U\\xac^\\xc6CN\\\\\\x95\\xce2Mkx\\xbfXv\\x9eDv\\xc9==\\xab\\x8e\\xd5\\xae\\xc1]\\xbb\\xce\\x01\\xee+\\xe8\\xf0\\x18^H\\xa3\\xe0x\\x833\\xbc\\x9a\\xbe\\xc5;\\xeb\\xb7\\xc1r\\xdc\\xf6\\xcd~\\xe7\\x7f\\xc1\\x9b\\xbf\\xf0O\\x9b\\xcdW\\xc5~)\\xff\\x00\\x82\\x8cx\\xe7K\\x9a;m5&\\xf0\\xff\\x00\\x82db\\xea&\\x99\\xd7m\\xdc\\xc0\\x83\\xb5\\xd5P\\x98\\xca\\x91\\xc1pGJ\\xfcZ\\xfd\\x9d\\xbe\\x03|F\\xfd\\xaa\\xbe;\\xf8[\\xf6{\\xf8U\\xa3O}\\xafx\\xb3Y\\x86\\xc2\\xc6\\x1b{i%\\xf2\\xf7\\xb7\\xcd+,j\\xcd\\xb24\\xdc\\xec@8Tc\\xda\\xbf\\xb4\\xbf\\xd8\\x03\\xf6F\\xd0\\x7faO\\xd8\\xfb\\xc0\\x9f\\xb2\\xc6\\x85}ky\\xff\\x00\\x08\\x96\\x89\\x1d\\xad\\xee\\xa7ib\\xb6\\xe2\\xfe\\xe7\\xac\\x93\\xb2\\x8e\\xac\\xcc~\\xf1\\xf9\\x88\\x03>\\x95\\xf44a\\xca~Y\\x8e\\xc4:\\xb3=\\x9a\\x8a(\\xae\\x83\\xcf\\n\\xf2/\\xdb?\\xf6P\\xf0O\\xed\\x89\\xf0+X\\xf8O\\xe2\\xdd.\\xc9\\xafd\\xb6\\x92O\\x0f\\xeawp3\\x1d:\\xf7i\\t2\\x95eof\\x00\\x80\\xcaH9\\x07\\x15\\xeb\\x9b\\x863\\x9aC\\xfe\\xfdD\\xa3\\x19\\xc5\\xc6[1\\xc2r\\xa75(\\xbb4\\x7f)_\\xb5\\x87\\xec\\xb3\\xe2\\x0f\\x83_\\x105\\xcf\\x08j\\xbah\\x83Q\\xd0u\\t\\xac/\\xe2!\\x80\\x0e\\x8cAe\\xdc\\x14\\x94n\\x19[\\x03r\\xb0=\\r|\\xdbu\\xa6\\xeb\\x1773Lt\\xab\\x81\\x1d\\xbb\\x81+ \\xc8\\x04\\xf4\\xe3\\xd2\\xbf\\xac\\x8f\\xdb?\\xfe\\t\\xcf\\xfb:\\xfe\\xda^\\x16\\xd5\\xed|g\\xe1[-7\\xc4\\xfa\\x95\\x94\\x16\\xb6\\xfe4\\xb7\\xb0Y/m#\\x8aa \\n\\t\\n\\xd9]\\xe9\\xcf;\\\\\\xfa\\n\\xfc\\\\\\xfd\\xa0?\\xe0\\xdeO\\xf8(\\x87\\xc3{\\xaf\\x10j\\xdf\\x0e|\\x0b\\xa7\\xf8\\x8fH\\xb2yD\\x13h\\xba\\xbcMq\\x7f\\x00o\\x95\\xa3\\xb6\\'\\xcc,\\xc3\\x07f2+\\xe6\\xabex\\x8a2|\\x9e\\xf2\\xe9\\xdd\\x1f\\xa5\\xe5|g\\xcdES\\xae\\xf9d\\xba\\xbd\\x99\\xf9\\xa1\\xa8j!PI\\x14\\xb8\\xdaAm\\xec~\\x9d\\x0f\\xf2\\xa9t\\xaf\\x12\\xda\\xb5\\xea\\x9b\\x89G\\x95\\t*\\x18\\x1e\\x0eGS\\xcdz\\xbf\\xc7\\xdf\\xf8&\\xf7\\xed\\xc3\\xf0+J\\x8b\\xc4\\x7f\\x15?e\\xbf\\x1a\\xe8\\x96WwB\\xde\\x1b\\xbb\\xdd\\x02a\\x14\\x92\\x95g\\x08\\xad\\xb7\\x1b\\xb0\\xac\\x7f\\x03^Su\\xfb7~\\xd0\\x1aO\\x86/<_y\\xf0\\x87^\\xb6\\xd1\\xec\\xa7\\x86\\x1b\\xedN\\xe6\\xc1\\xe3\\x86\\x17\\x949\\x89\\x19\\x88\\xc0.\"\\x93o\\xae\\xc3\\xe9\\\\\\xd2\\xc0Tj\\xcd3\\xe9e\\xc5\\xb8)\\xc5Zk\\xef+\\xeb\\xfe\"\\x8a\\xe3hIN3\\x9f\\x95\\xfa\\x8a\\xe2<g\\xad\\x16_*9\\xc3\\x10z\\x1f\\xe7OO\\x0e|Q\\xd5\\x83\\xdch\\x1e\\x06\\xd6/\\xe1\\x8eF\\x8b\\xce\\xb2\\xd3\\xe4\\x957\\x0e\\xa3r\\xa9\\x19\\x15\\xcb\\xea\\xde\\x1e\\xf1\\xad\\xc3\\xcau\\r&xZ)\\x0cr$\\xd1\\x94e`H*A\\xe4\\x10k\\xa3\\x0f\\x97\\xb8;\\xbd\\x8f/\\x1b\\xc4\\xd4eI\\xa8\\xbdL\\x8dkV{\\xb9\\xd9\\x99\\x8b\\x10y9\\xebZ\\x1f\\t>\\x0e\\xfcT\\xfd\\xa3>)h\\xbf\\x04\\xfe\\t\\xf8\\x1e\\xff\\x00\\xc4\\x9e)\\xf1\\x15\\xf2Y\\xe8\\xfa6\\x9b\\x16\\xf9n%c\\xc7\\xb2\\xa8\\x19,\\xccB\\xaa\\x82\\xcc@\\x04\\xd7\\xb2\\xfe\\xc6\\xbf\\xf0K\\x0f\\xdb\\x8b\\xf6\\xf5\\xf1\\x05\\x96\\x9f\\xfb<|\\t\\xd6\\xf5\\x1d\"\\xe3XM:\\xfb\\xc5md\\xeb\\xa6i\\xae@%\\xa7\\x9c\\x8d\\xa8\\x15NO>\\xddM\\x7fI?\\xf0C\\x8f\\xf8!?\\x80?\\xe0\\x93\\xfe\\x12\\xd6<[\\xf1\\x02\\xefB\\xf1w\\xc5]f\\xe6Hd\\xf1\\x8e\\x9f\\x04\\x9b-4\\xdc&\\xdbh\\x16e\\r\\x11f\\xde]\\x87\\xde\\x1bFp\\x08>\\xe5\\n6>\\x03\\x1f\\x98\\xca\\xabw{\\x98\\x9f\\xf0A\\x0f\\xf8 \\xa6\\x9b\\xff\\x00\\x04\\x9c\\xd2u\\xaf\\x8b?\\x17<i\\xa5\\xf8\\xaf\\xe2\\x7f\\x8b4\\xcb[{\\x9b\\x9b--\\x16\\x0f\\x0f\\xc0\\x10<\\xd6v\\xd382\\xbe\\xe9K\\x07\\x94\\x14YV(\\x89\\x8dJ\\xd7\\xe9)8\\x194\\x12\\x07&\\x8e\\x18WbI#\\xc2m\\xc9\\xdd\\x85\\x14QLAE\\x14P\\x01E\\x14P\\x01_/\\x7f\\xc1\\\\|\\x0f\\xe1\\xaf\\x1f\\xfe\\xc9\\xab\\xa1x\\xabN[\\x9bQ\\xe2KiDl\\x7f\\x88C>\\x0f\\xeah\\xa2\\xb0\\xc4\\x7f\\x06^\\x85S\\xf8\\x91\\x97\\xff\\x00\\x04c\\xfd\\x99\\xbe\\x1a\\xfe\\xcd\\xdf\\xb1.\\x8d?\\xc3\\x87\\xd5\\x7f\\xe2\\xb2\\xb8\\x9f^\\xd5b\\xd45\\'\\x9a(\\xaed\\x91\\x94\\xac\\x11\\xf0\\x90\\xc6\\x02\\x8e\\x15w1\\xe5\\x99\\x8e1\\xec\\x1a\\xc7\\xecG\\xfb\\x17\\xf8\\x97W\\xbc\\xf1\\'\\x88\\xbfd?\\x85\\xf7\\xfa\\x85\\xfd\\xe4\\x93\\xdf_^\\xf8\\x03N\\x96k\\x99\\x9d\\xc9ydv\\x84\\xb3\\xbb\\x12IbI$\\x92h\\xa2\\x9d/\\xe1G\\xd1\\x15S\\xe3gm\\xe0\\x1f\\x87_\\x0f~\\x14xj\\x1f\\x05\\xfc-\\xf0\\x1e\\x8b\\xe1\\xad\\x1e\\x19$ht\\x9d\\x03J\\x86\\xce\\xda6g\\xcb2\\xc5\\n\\xaa\\x02I$\\x909\\'&\\xb7\\xe8\\xa2\\xb63\\n(\\xa2\\x80\\n(\\xa2\\x80?\\xff\\xd9')]"
      ]
     },
     "execution_count": 61,
     "metadata": {},
     "output_type": "execute_result"
    }
   ],
   "source": [
    "images.take(2)"
   ]
  },
  {
   "cell_type": "code",
   "execution_count": 112,
   "id": "biblical-rates",
   "metadata": {},
   "outputs": [],
   "source": [
    "images_proc = images.map(lambda img: cat_image_np(img))"
   ]
  },
  {
   "cell_type": "code",
   "execution_count": 93,
   "id": "metropolitan-appendix",
   "metadata": {},
   "outputs": [],
   "source": [
    "  model = ResNet50(weights=None, include_top=False)\n",
    "  model.set_weights(bc_model_weights.value)"
   ]
  },
  {
   "cell_type": "code",
   "execution_count": 126,
   "id": "elect-appeal",
   "metadata": {},
   "outputs": [],
   "source": [
    "x = np.expand_dims(t[2], -1)"
   ]
  },
  {
   "cell_type": "code",
   "execution_count": 52,
   "id": "residential-cookie",
   "metadata": {},
   "outputs": [],
   "source": [
    "bc_model_weights = spark.sparkContext.broadcast(model.get_weights())\n",
    "\n",
    "def model_fn():\n",
    "  \"\"\"\n",
    "  Returns a ResNet50 model with top layer removed and broadcasted pretrained weights.\n",
    "  \"\"\"\n",
    "  model = ResNet50(weights=None, include_top=False)\n",
    "  model.set_weights(bc_model_weights.value)\n",
    "  return model"
   ]
  },
  {
   "cell_type": "code",
   "execution_count": 136,
   "id": "blessed-illinois",
   "metadata": {},
   "outputs": [],
   "source": [
    "from tensorflow.keras.preprocessing import image"
   ]
  },
  {
   "cell_type": "code",
   "execution_count": 137,
   "id": "relative-shopping",
   "metadata": {},
   "outputs": [],
   "source": [
    "img = image.load_img(\"r_87_100.jpg\", target_size=(244, 244))\n",
    "x = image.img_to_array(img)\n",
    "x = np.expand_dims(x, axis=0)\n",
    "x = preprocess_input(x)"
   ]
  },
  {
   "cell_type": "code",
   "execution_count": 140,
   "id": "flush-ceramic",
   "metadata": {},
   "outputs": [],
   "source": [
    "test=model.predict(x)"
   ]
  },
  {
   "cell_type": "code",
   "execution_count": 141,
   "id": "virtual-gentleman",
   "metadata": {},
   "outputs": [
    {
     "data": {
      "text/plain": [
       "(1, 8, 8, 2048)"
      ]
     },
     "execution_count": 141,
     "metadata": {},
     "output_type": "execute_result"
    }
   ],
   "source": [
    "test.shape"
   ]
  },
  {
   "cell_type": "code",
   "execution_count": 144,
   "id": "mechanical-technician",
   "metadata": {},
   "outputs": [
    {
     "data": {
      "text/plain": [
       "array([[[0.0000000e+00, 0.0000000e+00, 0.0000000e+00, ...,\n",
       "         0.0000000e+00, 0.0000000e+00, 0.0000000e+00],\n",
       "        [0.0000000e+00, 0.0000000e+00, 0.0000000e+00, ...,\n",
       "         0.0000000e+00, 0.0000000e+00, 0.0000000e+00],\n",
       "        [0.0000000e+00, 0.0000000e+00, 0.0000000e+00, ...,\n",
       "         0.0000000e+00, 0.0000000e+00, 0.0000000e+00],\n",
       "        ...,\n",
       "        [0.0000000e+00, 0.0000000e+00, 0.0000000e+00, ...,\n",
       "         0.0000000e+00, 0.0000000e+00, 0.0000000e+00],\n",
       "        [0.0000000e+00, 0.0000000e+00, 0.0000000e+00, ...,\n",
       "         0.0000000e+00, 0.0000000e+00, 0.0000000e+00],\n",
       "        [0.0000000e+00, 0.0000000e+00, 0.0000000e+00, ...,\n",
       "         0.0000000e+00, 0.0000000e+00, 0.0000000e+00]],\n",
       "\n",
       "       [[0.0000000e+00, 0.0000000e+00, 0.0000000e+00, ...,\n",
       "         0.0000000e+00, 0.0000000e+00, 0.0000000e+00],\n",
       "        [0.0000000e+00, 0.0000000e+00, 0.0000000e+00, ...,\n",
       "         0.0000000e+00, 0.0000000e+00, 0.0000000e+00],\n",
       "        [0.0000000e+00, 0.0000000e+00, 4.2344694e+00, ...,\n",
       "         1.9473372e+00, 0.0000000e+00, 0.0000000e+00],\n",
       "        ...,\n",
       "        [0.0000000e+00, 0.0000000e+00, 1.9953455e+00, ...,\n",
       "         2.6928186e-03, 0.0000000e+00, 0.0000000e+00],\n",
       "        [0.0000000e+00, 0.0000000e+00, 0.0000000e+00, ...,\n",
       "         0.0000000e+00, 0.0000000e+00, 0.0000000e+00],\n",
       "        [0.0000000e+00, 0.0000000e+00, 0.0000000e+00, ...,\n",
       "         0.0000000e+00, 0.0000000e+00, 0.0000000e+00]],\n",
       "\n",
       "       [[0.0000000e+00, 0.0000000e+00, 0.0000000e+00, ...,\n",
       "         0.0000000e+00, 0.0000000e+00, 0.0000000e+00],\n",
       "        [6.0774839e-01, 1.2451899e-01, 7.2508230e+00, ...,\n",
       "         1.0005379e+01, 0.0000000e+00, 6.3286769e-01],\n",
       "        [1.2409350e+00, 0.0000000e+00, 8.9289131e+00, ...,\n",
       "         8.8534508e+00, 0.0000000e+00, 2.9010129e-01],\n",
       "        ...,\n",
       "        [6.4070165e-01, 0.0000000e+00, 3.1844895e+00, ...,\n",
       "         3.1725941e+00, 0.0000000e+00, 0.0000000e+00],\n",
       "        [7.5186980e-01, 0.0000000e+00, 2.4512336e+00, ...,\n",
       "         1.5095466e+00, 2.2349255e+00, 0.0000000e+00],\n",
       "        [0.0000000e+00, 0.0000000e+00, 0.0000000e+00, ...,\n",
       "         8.1012928e-01, 0.0000000e+00, 0.0000000e+00]],\n",
       "\n",
       "       ...,\n",
       "\n",
       "       [[0.0000000e+00, 0.0000000e+00, 0.0000000e+00, ...,\n",
       "         0.0000000e+00, 0.0000000e+00, 0.0000000e+00],\n",
       "        [9.7903311e-01, 1.0517281e+00, 5.0165236e-01, ...,\n",
       "         0.0000000e+00, 0.0000000e+00, 0.0000000e+00],\n",
       "        [3.5890603e+00, 1.3544439e+00, 2.9823127e+00, ...,\n",
       "         7.3031368e+00, 7.6664847e-01, 0.0000000e+00],\n",
       "        ...,\n",
       "        [2.4843087e+00, 1.1422828e+00, 9.7818732e-01, ...,\n",
       "         5.3520331e+00, 7.0324764e+00, 0.0000000e+00],\n",
       "        [1.1247183e+00, 5.3812730e-01, 0.0000000e+00, ...,\n",
       "         5.6586188e-01, 4.3885946e-02, 0.0000000e+00],\n",
       "        [0.0000000e+00, 0.0000000e+00, 0.0000000e+00, ...,\n",
       "         0.0000000e+00, 0.0000000e+00, 0.0000000e+00]],\n",
       "\n",
       "       [[0.0000000e+00, 0.0000000e+00, 0.0000000e+00, ...,\n",
       "         0.0000000e+00, 0.0000000e+00, 0.0000000e+00],\n",
       "        [0.0000000e+00, 0.0000000e+00, 0.0000000e+00, ...,\n",
       "         0.0000000e+00, 0.0000000e+00, 0.0000000e+00],\n",
       "        [3.8577652e-01, 0.0000000e+00, 0.0000000e+00, ...,\n",
       "         0.0000000e+00, 0.0000000e+00, 0.0000000e+00],\n",
       "        ...,\n",
       "        [5.5850732e-01, 3.4139681e-01, 0.0000000e+00, ...,\n",
       "         0.0000000e+00, 0.0000000e+00, 0.0000000e+00],\n",
       "        [0.0000000e+00, 0.0000000e+00, 0.0000000e+00, ...,\n",
       "         0.0000000e+00, 0.0000000e+00, 0.0000000e+00],\n",
       "        [0.0000000e+00, 0.0000000e+00, 0.0000000e+00, ...,\n",
       "         0.0000000e+00, 0.0000000e+00, 0.0000000e+00]],\n",
       "\n",
       "       [[0.0000000e+00, 0.0000000e+00, 0.0000000e+00, ...,\n",
       "         0.0000000e+00, 0.0000000e+00, 3.6607592e+00],\n",
       "        [0.0000000e+00, 0.0000000e+00, 0.0000000e+00, ...,\n",
       "         0.0000000e+00, 0.0000000e+00, 8.7822962e-01],\n",
       "        [0.0000000e+00, 0.0000000e+00, 0.0000000e+00, ...,\n",
       "         0.0000000e+00, 0.0000000e+00, 0.0000000e+00],\n",
       "        ...,\n",
       "        [0.0000000e+00, 0.0000000e+00, 0.0000000e+00, ...,\n",
       "         0.0000000e+00, 0.0000000e+00, 0.0000000e+00],\n",
       "        [0.0000000e+00, 0.0000000e+00, 0.0000000e+00, ...,\n",
       "         0.0000000e+00, 0.0000000e+00, 0.0000000e+00],\n",
       "        [0.0000000e+00, 0.0000000e+00, 0.0000000e+00, ...,\n",
       "         0.0000000e+00, 0.0000000e+00, 1.9901106e+00]]], dtype=float32)"
      ]
     },
     "execution_count": 144,
     "metadata": {},
     "output_type": "execute_result"
    }
   ],
   "source": [
    "test[0]"
   ]
  },
  {
   "cell_type": "code",
   "execution_count": 53,
   "id": "binding-depth",
   "metadata": {},
   "outputs": [],
   "source": [
    "def preprocess(content):\n",
    "  \"\"\"\n",
    "  Preprocesses raw image bytes for prediction.\n",
    "  \"\"\"\n",
    "  img = Image.open(io.BytesIO(content))\n",
    "  arr = img_to_array(img)\n",
    "  return preprocess_input(arr)\n",
    "\n",
    "def featurize_series(model, content_series):\n",
    "  \"\"\"\n",
    "  Featurize a pd.Series of raw images using the input model.\n",
    "  :return: a pd.Series of image features\n",
    "  \"\"\"\n",
    "  input = np.stack(content_series.map(preprocess))\n",
    "  preds = model.predict(input)\n",
    "  # For some layers, output features will be multi-dimensional tensors.\n",
    "  # We flatten the feature tensors to vectors for easier storage in Spark DataFrames.\n",
    "  output = [p.flatten() for p in preds]\n",
    "  return pd.Series(output)"
   ]
  },
  {
   "cell_type": "code",
   "execution_count": 55,
   "id": "governmental-finger",
   "metadata": {},
   "outputs": [],
   "source": [
    "#@pandas_udf('array<float>', PandasUDFType.SCALAR_ITER)\n",
    "def featurize_udf(content_series_iter):\n",
    "  '''\n",
    "  This method is a Scalar Iterator pandas UDF wrapping our featurization function.\n",
    "  The decorator specifies that this returns a Spark DataFrame column of type ArrayType(FloatType).\n",
    "  \n",
    "  :param content_series_iter: This argument is an iterator over batches of data, where each batch\n",
    "                              is a pandas Series of image data.\n",
    "  '''\n",
    "  # With Scalar Iterator pandas UDFs, we can load the model once and then re-use it\n",
    "  # for multiple data batches.  This amortizes the overhead of loading big models.\n",
    "  model = model_fn()\n",
    "  for content_series in content_series_iter:\n",
    "    yield featurize_series(model, content_series)"
   ]
  },
  {
   "cell_type": "code",
   "execution_count": 56,
   "id": "isolated-wells",
   "metadata": {},
   "outputs": [],
   "source": [
    "# Pandas UDFs on large records (e.g., very large images) can run into Out Of Memory (OOM) errors.\n",
    "# If you hit such errors in the cell below, try reducing the Arrow batch size via `maxRecordsPerBatch`.\n",
    "spark.conf.set(\"spark.sql.execution.arrow.maxRecordsPerBatch\", \"1024\")"
   ]
  },
  {
   "cell_type": "code",
   "execution_count": null,
   "id": "laden-found",
   "metadata": {},
   "outputs": [],
   "source": [
    "# We can now run featurization on our entire Spark DataFrame.\n",
    "# NOTE: This can take a long time (about 10 minutes) since it applies a large model to the full dataset.\n",
    "features_df = images.repartition(16).select(col(\"path\"), featurize_udf(\"content\").alias(\"features\"))\n",
    "features_df.write.mode(\"overwrite\").parquet(\"dbfs:/ml/tmp/flower_photos_features\")"
   ]
  },
  {
   "cell_type": "code",
   "execution_count": 6,
   "id": "collaborative-feeding",
   "metadata": {},
   "outputs": [],
   "source": [
    "import tensorflow.compat.v1 as tf\n",
    "tf.disable_v2_behavior()"
   ]
  },
  {
   "cell_type": "code",
   "execution_count": 2,
   "id": "pretty-muscle",
   "metadata": {},
   "outputs": [],
   "source": [
    "import tensorflow as tf"
   ]
  },
  {
   "cell_type": "code",
   "execution_count": 24,
   "id": "hybrid-thomas",
   "metadata": {},
   "outputs": [],
   "source": [
    "sess = tf.Session()"
   ]
  },
  {
   "cell_type": "code",
   "execution_count": 25,
   "id": "tracked-branch",
   "metadata": {},
   "outputs": [
    {
     "data": {
      "text/plain": [
       "<tensorflow.python.client.session.Session at 0x7fd6b2031c18>"
      ]
     },
     "execution_count": 25,
     "metadata": {},
     "output_type": "execute_result"
    }
   ],
   "source": [
    "sess"
   ]
  },
  {
   "cell_type": "code",
   "execution_count": 26,
   "id": "married-chaos",
   "metadata": {},
   "outputs": [],
   "source": [
    "sess = tf.compat.v1.Session()"
   ]
  },
  {
   "cell_type": "code",
   "execution_count": 31,
   "id": "neural-tuition",
   "metadata": {},
   "outputs": [],
   "source": [
    "import pandas as pd\n",
    "from PIL import Image\n",
    "import numpy as np\n",
    "import io\n",
    "\n",
    "import tensorflow as tf\n",
    "from tensorflow.keras.applications.resnet50 import ResNet50, preprocess_input\n",
    "from tensorflow.keras.preprocessing.image import img_to_array\n",
    "\n",
    "from pyspark.sql.functions import col, pandas_udf, PandasUDFType"
   ]
  },
  {
   "cell_type": "markdown",
   "id": "configured-astronomy",
   "metadata": {},
   "source": [
    "# Formation du bag of visual word"
   ]
  },
  {
   "cell_type": "code",
   "execution_count": 34,
   "id": "motivated-height",
   "metadata": {},
   "outputs": [
    {
     "name": "stdout",
     "output_type": "stream",
     "text": [
      "Downloading data from https://storage.googleapis.com/tensorflow/keras-applications/resnet/resnet50_weights_tf_dim_ordering_tf_kernels_notop.h5\n",
      "94773248/94765736 [==============================] - 3s 0us/step\n",
      "Model: \"resnet50\"\n",
      "__________________________________________________________________________________________________\n",
      "Layer (type)                    Output Shape         Param #     Connected to                     \n",
      "==================================================================================================\n",
      "input_1 (InputLayer)            [(None, None, None,  0                                            \n",
      "__________________________________________________________________________________________________\n",
      "conv1_pad (ZeroPadding2D)       (None, None, None, 3 0           input_1[0][0]                    \n",
      "__________________________________________________________________________________________________\n",
      "conv1_conv (Conv2D)             (None, None, None, 6 9472        conv1_pad[0][0]                  \n",
      "__________________________________________________________________________________________________\n",
      "conv1_bn (BatchNormalization)   (None, None, None, 6 256         conv1_conv[0][0]                 \n",
      "__________________________________________________________________________________________________\n",
      "conv1_relu (Activation)         (None, None, None, 6 0           conv1_bn[0][0]                   \n",
      "__________________________________________________________________________________________________\n",
      "pool1_pad (ZeroPadding2D)       (None, None, None, 6 0           conv1_relu[0][0]                 \n",
      "__________________________________________________________________________________________________\n",
      "pool1_pool (MaxPooling2D)       (None, None, None, 6 0           pool1_pad[0][0]                  \n",
      "__________________________________________________________________________________________________\n",
      "conv2_block1_1_conv (Conv2D)    (None, None, None, 6 4160        pool1_pool[0][0]                 \n",
      "__________________________________________________________________________________________________\n",
      "conv2_block1_1_bn (BatchNormali (None, None, None, 6 256         conv2_block1_1_conv[0][0]        \n",
      "__________________________________________________________________________________________________\n",
      "conv2_block1_1_relu (Activation (None, None, None, 6 0           conv2_block1_1_bn[0][0]          \n",
      "__________________________________________________________________________________________________\n",
      "conv2_block1_2_conv (Conv2D)    (None, None, None, 6 36928       conv2_block1_1_relu[0][0]        \n",
      "__________________________________________________________________________________________________\n",
      "conv2_block1_2_bn (BatchNormali (None, None, None, 6 256         conv2_block1_2_conv[0][0]        \n",
      "__________________________________________________________________________________________________\n",
      "conv2_block1_2_relu (Activation (None, None, None, 6 0           conv2_block1_2_bn[0][0]          \n",
      "__________________________________________________________________________________________________\n",
      "conv2_block1_0_conv (Conv2D)    (None, None, None, 2 16640       pool1_pool[0][0]                 \n",
      "__________________________________________________________________________________________________\n",
      "conv2_block1_3_conv (Conv2D)    (None, None, None, 2 16640       conv2_block1_2_relu[0][0]        \n",
      "__________________________________________________________________________________________________\n",
      "conv2_block1_0_bn (BatchNormali (None, None, None, 2 1024        conv2_block1_0_conv[0][0]        \n",
      "__________________________________________________________________________________________________\n",
      "conv2_block1_3_bn (BatchNormali (None, None, None, 2 1024        conv2_block1_3_conv[0][0]        \n",
      "__________________________________________________________________________________________________\n",
      "conv2_block1_add (Add)          (None, None, None, 2 0           conv2_block1_0_bn[0][0]          \n",
      "                                                                 conv2_block1_3_bn[0][0]          \n",
      "__________________________________________________________________________________________________\n",
      "conv2_block1_out (Activation)   (None, None, None, 2 0           conv2_block1_add[0][0]           \n",
      "__________________________________________________________________________________________________\n",
      "conv2_block2_1_conv (Conv2D)    (None, None, None, 6 16448       conv2_block1_out[0][0]           \n",
      "__________________________________________________________________________________________________\n",
      "conv2_block2_1_bn (BatchNormali (None, None, None, 6 256         conv2_block2_1_conv[0][0]        \n",
      "__________________________________________________________________________________________________\n",
      "conv2_block2_1_relu (Activation (None, None, None, 6 0           conv2_block2_1_bn[0][0]          \n",
      "__________________________________________________________________________________________________\n",
      "conv2_block2_2_conv (Conv2D)    (None, None, None, 6 36928       conv2_block2_1_relu[0][0]        \n",
      "__________________________________________________________________________________________________\n",
      "conv2_block2_2_bn (BatchNormali (None, None, None, 6 256         conv2_block2_2_conv[0][0]        \n",
      "__________________________________________________________________________________________________\n",
      "conv2_block2_2_relu (Activation (None, None, None, 6 0           conv2_block2_2_bn[0][0]          \n",
      "__________________________________________________________________________________________________\n",
      "conv2_block2_3_conv (Conv2D)    (None, None, None, 2 16640       conv2_block2_2_relu[0][0]        \n",
      "__________________________________________________________________________________________________\n",
      "conv2_block2_3_bn (BatchNormali (None, None, None, 2 1024        conv2_block2_3_conv[0][0]        \n",
      "__________________________________________________________________________________________________\n",
      "conv2_block2_add (Add)          (None, None, None, 2 0           conv2_block1_out[0][0]           \n",
      "                                                                 conv2_block2_3_bn[0][0]          \n",
      "__________________________________________________________________________________________________\n",
      "conv2_block2_out (Activation)   (None, None, None, 2 0           conv2_block2_add[0][0]           \n",
      "__________________________________________________________________________________________________\n",
      "conv2_block3_1_conv (Conv2D)    (None, None, None, 6 16448       conv2_block2_out[0][0]           \n",
      "__________________________________________________________________________________________________\n",
      "conv2_block3_1_bn (BatchNormali (None, None, None, 6 256         conv2_block3_1_conv[0][0]        \n",
      "__________________________________________________________________________________________________\n",
      "conv2_block3_1_relu (Activation (None, None, None, 6 0           conv2_block3_1_bn[0][0]          \n",
      "__________________________________________________________________________________________________\n",
      "conv2_block3_2_conv (Conv2D)    (None, None, None, 6 36928       conv2_block3_1_relu[0][0]        \n",
      "__________________________________________________________________________________________________\n",
      "conv2_block3_2_bn (BatchNormali (None, None, None, 6 256         conv2_block3_2_conv[0][0]        \n",
      "__________________________________________________________________________________________________\n",
      "conv2_block3_2_relu (Activation (None, None, None, 6 0           conv2_block3_2_bn[0][0]          \n",
      "__________________________________________________________________________________________________\n",
      "conv2_block3_3_conv (Conv2D)    (None, None, None, 2 16640       conv2_block3_2_relu[0][0]        \n",
      "__________________________________________________________________________________________________\n",
      "conv2_block3_3_bn (BatchNormali (None, None, None, 2 1024        conv2_block3_3_conv[0][0]        \n",
      "__________________________________________________________________________________________________\n",
      "conv2_block3_add (Add)          (None, None, None, 2 0           conv2_block2_out[0][0]           \n",
      "                                                                 conv2_block3_3_bn[0][0]          \n",
      "__________________________________________________________________________________________________\n",
      "conv2_block3_out (Activation)   (None, None, None, 2 0           conv2_block3_add[0][0]           \n",
      "__________________________________________________________________________________________________\n",
      "conv3_block1_1_conv (Conv2D)    (None, None, None, 1 32896       conv2_block3_out[0][0]           \n",
      "__________________________________________________________________________________________________\n",
      "conv3_block1_1_bn (BatchNormali (None, None, None, 1 512         conv3_block1_1_conv[0][0]        \n",
      "__________________________________________________________________________________________________\n",
      "conv3_block1_1_relu (Activation (None, None, None, 1 0           conv3_block1_1_bn[0][0]          \n",
      "__________________________________________________________________________________________________\n",
      "conv3_block1_2_conv (Conv2D)    (None, None, None, 1 147584      conv3_block1_1_relu[0][0]        \n",
      "__________________________________________________________________________________________________\n",
      "conv3_block1_2_bn (BatchNormali (None, None, None, 1 512         conv3_block1_2_conv[0][0]        \n",
      "__________________________________________________________________________________________________\n",
      "conv3_block1_2_relu (Activation (None, None, None, 1 0           conv3_block1_2_bn[0][0]          \n",
      "__________________________________________________________________________________________________\n",
      "conv3_block1_0_conv (Conv2D)    (None, None, None, 5 131584      conv2_block3_out[0][0]           \n",
      "__________________________________________________________________________________________________\n",
      "conv3_block1_3_conv (Conv2D)    (None, None, None, 5 66048       conv3_block1_2_relu[0][0]        \n",
      "__________________________________________________________________________________________________\n",
      "conv3_block1_0_bn (BatchNormali (None, None, None, 5 2048        conv3_block1_0_conv[0][0]        \n",
      "__________________________________________________________________________________________________\n",
      "conv3_block1_3_bn (BatchNormali (None, None, None, 5 2048        conv3_block1_3_conv[0][0]        \n",
      "__________________________________________________________________________________________________\n",
      "conv3_block1_add (Add)          (None, None, None, 5 0           conv3_block1_0_bn[0][0]          \n",
      "                                                                 conv3_block1_3_bn[0][0]          \n",
      "__________________________________________________________________________________________________\n",
      "conv3_block1_out (Activation)   (None, None, None, 5 0           conv3_block1_add[0][0]           \n",
      "__________________________________________________________________________________________________\n",
      "conv3_block2_1_conv (Conv2D)    (None, None, None, 1 65664       conv3_block1_out[0][0]           \n",
      "__________________________________________________________________________________________________\n",
      "conv3_block2_1_bn (BatchNormali (None, None, None, 1 512         conv3_block2_1_conv[0][0]        \n",
      "__________________________________________________________________________________________________\n",
      "conv3_block2_1_relu (Activation (None, None, None, 1 0           conv3_block2_1_bn[0][0]          \n",
      "__________________________________________________________________________________________________\n",
      "conv3_block2_2_conv (Conv2D)    (None, None, None, 1 147584      conv3_block2_1_relu[0][0]        \n",
      "__________________________________________________________________________________________________\n",
      "conv3_block2_2_bn (BatchNormali (None, None, None, 1 512         conv3_block2_2_conv[0][0]        \n",
      "__________________________________________________________________________________________________\n",
      "conv3_block2_2_relu (Activation (None, None, None, 1 0           conv3_block2_2_bn[0][0]          \n",
      "__________________________________________________________________________________________________\n",
      "conv3_block2_3_conv (Conv2D)    (None, None, None, 5 66048       conv3_block2_2_relu[0][0]        \n",
      "__________________________________________________________________________________________________\n",
      "conv3_block2_3_bn (BatchNormali (None, None, None, 5 2048        conv3_block2_3_conv[0][0]        \n",
      "__________________________________________________________________________________________________\n",
      "conv3_block2_add (Add)          (None, None, None, 5 0           conv3_block1_out[0][0]           \n",
      "                                                                 conv3_block2_3_bn[0][0]          \n",
      "__________________________________________________________________________________________________\n",
      "conv3_block2_out (Activation)   (None, None, None, 5 0           conv3_block2_add[0][0]           \n",
      "__________________________________________________________________________________________________\n",
      "conv3_block3_1_conv (Conv2D)    (None, None, None, 1 65664       conv3_block2_out[0][0]           \n",
      "__________________________________________________________________________________________________\n",
      "conv3_block3_1_bn (BatchNormali (None, None, None, 1 512         conv3_block3_1_conv[0][0]        \n",
      "__________________________________________________________________________________________________\n",
      "conv3_block3_1_relu (Activation (None, None, None, 1 0           conv3_block3_1_bn[0][0]          \n",
      "__________________________________________________________________________________________________\n",
      "conv3_block3_2_conv (Conv2D)    (None, None, None, 1 147584      conv3_block3_1_relu[0][0]        \n",
      "__________________________________________________________________________________________________\n",
      "conv3_block3_2_bn (BatchNormali (None, None, None, 1 512         conv3_block3_2_conv[0][0]        \n",
      "__________________________________________________________________________________________________\n",
      "conv3_block3_2_relu (Activation (None, None, None, 1 0           conv3_block3_2_bn[0][0]          \n",
      "__________________________________________________________________________________________________\n",
      "conv3_block3_3_conv (Conv2D)    (None, None, None, 5 66048       conv3_block3_2_relu[0][0]        \n",
      "__________________________________________________________________________________________________\n",
      "conv3_block3_3_bn (BatchNormali (None, None, None, 5 2048        conv3_block3_3_conv[0][0]        \n",
      "__________________________________________________________________________________________________\n",
      "conv3_block3_add (Add)          (None, None, None, 5 0           conv3_block2_out[0][0]           \n",
      "                                                                 conv3_block3_3_bn[0][0]          \n",
      "__________________________________________________________________________________________________\n",
      "conv3_block3_out (Activation)   (None, None, None, 5 0           conv3_block3_add[0][0]           \n",
      "__________________________________________________________________________________________________\n",
      "conv3_block4_1_conv (Conv2D)    (None, None, None, 1 65664       conv3_block3_out[0][0]           \n",
      "__________________________________________________________________________________________________\n",
      "conv3_block4_1_bn (BatchNormali (None, None, None, 1 512         conv3_block4_1_conv[0][0]        \n",
      "__________________________________________________________________________________________________\n",
      "conv3_block4_1_relu (Activation (None, None, None, 1 0           conv3_block4_1_bn[0][0]          \n",
      "__________________________________________________________________________________________________\n",
      "conv3_block4_2_conv (Conv2D)    (None, None, None, 1 147584      conv3_block4_1_relu[0][0]        \n",
      "__________________________________________________________________________________________________\n",
      "conv3_block4_2_bn (BatchNormali (None, None, None, 1 512         conv3_block4_2_conv[0][0]        \n",
      "__________________________________________________________________________________________________\n",
      "conv3_block4_2_relu (Activation (None, None, None, 1 0           conv3_block4_2_bn[0][0]          \n",
      "__________________________________________________________________________________________________\n",
      "conv3_block4_3_conv (Conv2D)    (None, None, None, 5 66048       conv3_block4_2_relu[0][0]        \n",
      "__________________________________________________________________________________________________\n",
      "conv3_block4_3_bn (BatchNormali (None, None, None, 5 2048        conv3_block4_3_conv[0][0]        \n",
      "__________________________________________________________________________________________________\n",
      "conv3_block4_add (Add)          (None, None, None, 5 0           conv3_block3_out[0][0]           \n",
      "                                                                 conv3_block4_3_bn[0][0]          \n",
      "__________________________________________________________________________________________________\n",
      "conv3_block4_out (Activation)   (None, None, None, 5 0           conv3_block4_add[0][0]           \n",
      "__________________________________________________________________________________________________\n",
      "conv4_block1_1_conv (Conv2D)    (None, None, None, 2 131328      conv3_block4_out[0][0]           \n",
      "__________________________________________________________________________________________________\n",
      "conv4_block1_1_bn (BatchNormali (None, None, None, 2 1024        conv4_block1_1_conv[0][0]        \n",
      "__________________________________________________________________________________________________\n",
      "conv4_block1_1_relu (Activation (None, None, None, 2 0           conv4_block1_1_bn[0][0]          \n",
      "__________________________________________________________________________________________________\n",
      "conv4_block1_2_conv (Conv2D)    (None, None, None, 2 590080      conv4_block1_1_relu[0][0]        \n",
      "__________________________________________________________________________________________________\n",
      "conv4_block1_2_bn (BatchNormali (None, None, None, 2 1024        conv4_block1_2_conv[0][0]        \n",
      "__________________________________________________________________________________________________\n",
      "conv4_block1_2_relu (Activation (None, None, None, 2 0           conv4_block1_2_bn[0][0]          \n",
      "__________________________________________________________________________________________________\n",
      "conv4_block1_0_conv (Conv2D)    (None, None, None, 1 525312      conv3_block4_out[0][0]           \n",
      "__________________________________________________________________________________________________\n",
      "conv4_block1_3_conv (Conv2D)    (None, None, None, 1 263168      conv4_block1_2_relu[0][0]        \n",
      "__________________________________________________________________________________________________\n",
      "conv4_block1_0_bn (BatchNormali (None, None, None, 1 4096        conv4_block1_0_conv[0][0]        \n",
      "__________________________________________________________________________________________________\n",
      "conv4_block1_3_bn (BatchNormali (None, None, None, 1 4096        conv4_block1_3_conv[0][0]        \n",
      "__________________________________________________________________________________________________\n",
      "conv4_block1_add (Add)          (None, None, None, 1 0           conv4_block1_0_bn[0][0]          \n",
      "                                                                 conv4_block1_3_bn[0][0]          \n",
      "__________________________________________________________________________________________________\n",
      "conv4_block1_out (Activation)   (None, None, None, 1 0           conv4_block1_add[0][0]           \n",
      "__________________________________________________________________________________________________\n",
      "conv4_block2_1_conv (Conv2D)    (None, None, None, 2 262400      conv4_block1_out[0][0]           \n",
      "__________________________________________________________________________________________________\n",
      "conv4_block2_1_bn (BatchNormali (None, None, None, 2 1024        conv4_block2_1_conv[0][0]        \n",
      "__________________________________________________________________________________________________\n",
      "conv4_block2_1_relu (Activation (None, None, None, 2 0           conv4_block2_1_bn[0][0]          \n",
      "__________________________________________________________________________________________________\n",
      "conv4_block2_2_conv (Conv2D)    (None, None, None, 2 590080      conv4_block2_1_relu[0][0]        \n",
      "__________________________________________________________________________________________________\n",
      "conv4_block2_2_bn (BatchNormali (None, None, None, 2 1024        conv4_block2_2_conv[0][0]        \n",
      "__________________________________________________________________________________________________\n",
      "conv4_block2_2_relu (Activation (None, None, None, 2 0           conv4_block2_2_bn[0][0]          \n",
      "__________________________________________________________________________________________________\n",
      "conv4_block2_3_conv (Conv2D)    (None, None, None, 1 263168      conv4_block2_2_relu[0][0]        \n",
      "__________________________________________________________________________________________________\n",
      "conv4_block2_3_bn (BatchNormali (None, None, None, 1 4096        conv4_block2_3_conv[0][0]        \n",
      "__________________________________________________________________________________________________\n",
      "conv4_block2_add (Add)          (None, None, None, 1 0           conv4_block1_out[0][0]           \n",
      "                                                                 conv4_block2_3_bn[0][0]          \n",
      "__________________________________________________________________________________________________\n",
      "conv4_block2_out (Activation)   (None, None, None, 1 0           conv4_block2_add[0][0]           \n",
      "__________________________________________________________________________________________________\n",
      "conv4_block3_1_conv (Conv2D)    (None, None, None, 2 262400      conv4_block2_out[0][0]           \n",
      "__________________________________________________________________________________________________\n",
      "conv4_block3_1_bn (BatchNormali (None, None, None, 2 1024        conv4_block3_1_conv[0][0]        \n",
      "__________________________________________________________________________________________________\n",
      "conv4_block3_1_relu (Activation (None, None, None, 2 0           conv4_block3_1_bn[0][0]          \n",
      "__________________________________________________________________________________________________\n",
      "conv4_block3_2_conv (Conv2D)    (None, None, None, 2 590080      conv4_block3_1_relu[0][0]        \n",
      "__________________________________________________________________________________________________\n",
      "conv4_block3_2_bn (BatchNormali (None, None, None, 2 1024        conv4_block3_2_conv[0][0]        \n",
      "__________________________________________________________________________________________________\n",
      "conv4_block3_2_relu (Activation (None, None, None, 2 0           conv4_block3_2_bn[0][0]          \n",
      "__________________________________________________________________________________________________\n",
      "conv4_block3_3_conv (Conv2D)    (None, None, None, 1 263168      conv4_block3_2_relu[0][0]        \n",
      "__________________________________________________________________________________________________\n",
      "conv4_block3_3_bn (BatchNormali (None, None, None, 1 4096        conv4_block3_3_conv[0][0]        \n",
      "__________________________________________________________________________________________________\n",
      "conv4_block3_add (Add)          (None, None, None, 1 0           conv4_block2_out[0][0]           \n",
      "                                                                 conv4_block3_3_bn[0][0]          \n",
      "__________________________________________________________________________________________________\n",
      "conv4_block3_out (Activation)   (None, None, None, 1 0           conv4_block3_add[0][0]           \n",
      "__________________________________________________________________________________________________\n",
      "conv4_block4_1_conv (Conv2D)    (None, None, None, 2 262400      conv4_block3_out[0][0]           \n",
      "__________________________________________________________________________________________________\n",
      "conv4_block4_1_bn (BatchNormali (None, None, None, 2 1024        conv4_block4_1_conv[0][0]        \n",
      "__________________________________________________________________________________________________\n",
      "conv4_block4_1_relu (Activation (None, None, None, 2 0           conv4_block4_1_bn[0][0]          \n",
      "__________________________________________________________________________________________________\n",
      "conv4_block4_2_conv (Conv2D)    (None, None, None, 2 590080      conv4_block4_1_relu[0][0]        \n",
      "__________________________________________________________________________________________________\n",
      "conv4_block4_2_bn (BatchNormali (None, None, None, 2 1024        conv4_block4_2_conv[0][0]        \n",
      "__________________________________________________________________________________________________\n",
      "conv4_block4_2_relu (Activation (None, None, None, 2 0           conv4_block4_2_bn[0][0]          \n",
      "__________________________________________________________________________________________________\n",
      "conv4_block4_3_conv (Conv2D)    (None, None, None, 1 263168      conv4_block4_2_relu[0][0]        \n",
      "__________________________________________________________________________________________________\n",
      "conv4_block4_3_bn (BatchNormali (None, None, None, 1 4096        conv4_block4_3_conv[0][0]        \n",
      "__________________________________________________________________________________________________\n",
      "conv4_block4_add (Add)          (None, None, None, 1 0           conv4_block3_out[0][0]           \n",
      "                                                                 conv4_block4_3_bn[0][0]          \n",
      "__________________________________________________________________________________________________\n",
      "conv4_block4_out (Activation)   (None, None, None, 1 0           conv4_block4_add[0][0]           \n",
      "__________________________________________________________________________________________________\n",
      "conv4_block5_1_conv (Conv2D)    (None, None, None, 2 262400      conv4_block4_out[0][0]           \n",
      "__________________________________________________________________________________________________\n",
      "conv4_block5_1_bn (BatchNormali (None, None, None, 2 1024        conv4_block5_1_conv[0][0]        \n",
      "__________________________________________________________________________________________________\n",
      "conv4_block5_1_relu (Activation (None, None, None, 2 0           conv4_block5_1_bn[0][0]          \n",
      "__________________________________________________________________________________________________\n",
      "conv4_block5_2_conv (Conv2D)    (None, None, None, 2 590080      conv4_block5_1_relu[0][0]        \n",
      "__________________________________________________________________________________________________\n",
      "conv4_block5_2_bn (BatchNormali (None, None, None, 2 1024        conv4_block5_2_conv[0][0]        \n",
      "__________________________________________________________________________________________________\n",
      "conv4_block5_2_relu (Activation (None, None, None, 2 0           conv4_block5_2_bn[0][0]          \n",
      "__________________________________________________________________________________________________\n",
      "conv4_block5_3_conv (Conv2D)    (None, None, None, 1 263168      conv4_block5_2_relu[0][0]        \n",
      "__________________________________________________________________________________________________\n",
      "conv4_block5_3_bn (BatchNormali (None, None, None, 1 4096        conv4_block5_3_conv[0][0]        \n",
      "__________________________________________________________________________________________________\n",
      "conv4_block5_add (Add)          (None, None, None, 1 0           conv4_block4_out[0][0]           \n",
      "                                                                 conv4_block5_3_bn[0][0]          \n",
      "__________________________________________________________________________________________________\n",
      "conv4_block5_out (Activation)   (None, None, None, 1 0           conv4_block5_add[0][0]           \n",
      "__________________________________________________________________________________________________\n",
      "conv4_block6_1_conv (Conv2D)    (None, None, None, 2 262400      conv4_block5_out[0][0]           \n",
      "__________________________________________________________________________________________________\n",
      "conv4_block6_1_bn (BatchNormali (None, None, None, 2 1024        conv4_block6_1_conv[0][0]        \n",
      "__________________________________________________________________________________________________\n",
      "conv4_block6_1_relu (Activation (None, None, None, 2 0           conv4_block6_1_bn[0][0]          \n",
      "__________________________________________________________________________________________________\n",
      "conv4_block6_2_conv (Conv2D)    (None, None, None, 2 590080      conv4_block6_1_relu[0][0]        \n",
      "__________________________________________________________________________________________________\n",
      "conv4_block6_2_bn (BatchNormali (None, None, None, 2 1024        conv4_block6_2_conv[0][0]        \n",
      "__________________________________________________________________________________________________\n",
      "conv4_block6_2_relu (Activation (None, None, None, 2 0           conv4_block6_2_bn[0][0]          \n",
      "__________________________________________________________________________________________________\n",
      "conv4_block6_3_conv (Conv2D)    (None, None, None, 1 263168      conv4_block6_2_relu[0][0]        \n",
      "__________________________________________________________________________________________________\n",
      "conv4_block6_3_bn (BatchNormali (None, None, None, 1 4096        conv4_block6_3_conv[0][0]        \n",
      "__________________________________________________________________________________________________\n",
      "conv4_block6_add (Add)          (None, None, None, 1 0           conv4_block5_out[0][0]           \n",
      "                                                                 conv4_block6_3_bn[0][0]          \n",
      "__________________________________________________________________________________________________\n",
      "conv4_block6_out (Activation)   (None, None, None, 1 0           conv4_block6_add[0][0]           \n",
      "__________________________________________________________________________________________________\n",
      "conv5_block1_1_conv (Conv2D)    (None, None, None, 5 524800      conv4_block6_out[0][0]           \n",
      "__________________________________________________________________________________________________\n",
      "conv5_block1_1_bn (BatchNormali (None, None, None, 5 2048        conv5_block1_1_conv[0][0]        \n",
      "__________________________________________________________________________________________________\n",
      "conv5_block1_1_relu (Activation (None, None, None, 5 0           conv5_block1_1_bn[0][0]          \n",
      "__________________________________________________________________________________________________\n",
      "conv5_block1_2_conv (Conv2D)    (None, None, None, 5 2359808     conv5_block1_1_relu[0][0]        \n",
      "__________________________________________________________________________________________________\n",
      "conv5_block1_2_bn (BatchNormali (None, None, None, 5 2048        conv5_block1_2_conv[0][0]        \n",
      "__________________________________________________________________________________________________\n",
      "conv5_block1_2_relu (Activation (None, None, None, 5 0           conv5_block1_2_bn[0][0]          \n",
      "__________________________________________________________________________________________________\n",
      "conv5_block1_0_conv (Conv2D)    (None, None, None, 2 2099200     conv4_block6_out[0][0]           \n",
      "__________________________________________________________________________________________________\n",
      "conv5_block1_3_conv (Conv2D)    (None, None, None, 2 1050624     conv5_block1_2_relu[0][0]        \n",
      "__________________________________________________________________________________________________\n",
      "conv5_block1_0_bn (BatchNormali (None, None, None, 2 8192        conv5_block1_0_conv[0][0]        \n",
      "__________________________________________________________________________________________________\n",
      "conv5_block1_3_bn (BatchNormali (None, None, None, 2 8192        conv5_block1_3_conv[0][0]        \n",
      "__________________________________________________________________________________________________\n",
      "conv5_block1_add (Add)          (None, None, None, 2 0           conv5_block1_0_bn[0][0]          \n",
      "                                                                 conv5_block1_3_bn[0][0]          \n",
      "__________________________________________________________________________________________________\n",
      "conv5_block1_out (Activation)   (None, None, None, 2 0           conv5_block1_add[0][0]           \n",
      "__________________________________________________________________________________________________\n",
      "conv5_block2_1_conv (Conv2D)    (None, None, None, 5 1049088     conv5_block1_out[0][0]           \n",
      "__________________________________________________________________________________________________\n",
      "conv5_block2_1_bn (BatchNormali (None, None, None, 5 2048        conv5_block2_1_conv[0][0]        \n",
      "__________________________________________________________________________________________________\n",
      "conv5_block2_1_relu (Activation (None, None, None, 5 0           conv5_block2_1_bn[0][0]          \n",
      "__________________________________________________________________________________________________\n",
      "conv5_block2_2_conv (Conv2D)    (None, None, None, 5 2359808     conv5_block2_1_relu[0][0]        \n",
      "__________________________________________________________________________________________________\n",
      "conv5_block2_2_bn (BatchNormali (None, None, None, 5 2048        conv5_block2_2_conv[0][0]        \n",
      "__________________________________________________________________________________________________\n",
      "conv5_block2_2_relu (Activation (None, None, None, 5 0           conv5_block2_2_bn[0][0]          \n",
      "__________________________________________________________________________________________________\n",
      "conv5_block2_3_conv (Conv2D)    (None, None, None, 2 1050624     conv5_block2_2_relu[0][0]        \n",
      "__________________________________________________________________________________________________\n",
      "conv5_block2_3_bn (BatchNormali (None, None, None, 2 8192        conv5_block2_3_conv[0][0]        \n",
      "__________________________________________________________________________________________________\n",
      "conv5_block2_add (Add)          (None, None, None, 2 0           conv5_block1_out[0][0]           \n",
      "                                                                 conv5_block2_3_bn[0][0]          \n",
      "__________________________________________________________________________________________________\n",
      "conv5_block2_out (Activation)   (None, None, None, 2 0           conv5_block2_add[0][0]           \n",
      "__________________________________________________________________________________________________\n",
      "conv5_block3_1_conv (Conv2D)    (None, None, None, 5 1049088     conv5_block2_out[0][0]           \n",
      "__________________________________________________________________________________________________\n",
      "conv5_block3_1_bn (BatchNormali (None, None, None, 5 2048        conv5_block3_1_conv[0][0]        \n",
      "__________________________________________________________________________________________________\n",
      "conv5_block3_1_relu (Activation (None, None, None, 5 0           conv5_block3_1_bn[0][0]          \n",
      "__________________________________________________________________________________________________\n",
      "conv5_block3_2_conv (Conv2D)    (None, None, None, 5 2359808     conv5_block3_1_relu[0][0]        \n",
      "__________________________________________________________________________________________________\n",
      "conv5_block3_2_bn (BatchNormali (None, None, None, 5 2048        conv5_block3_2_conv[0][0]        \n",
      "__________________________________________________________________________________________________\n",
      "conv5_block3_2_relu (Activation (None, None, None, 5 0           conv5_block3_2_bn[0][0]          \n",
      "__________________________________________________________________________________________________\n",
      "conv5_block3_3_conv (Conv2D)    (None, None, None, 2 1050624     conv5_block3_2_relu[0][0]        \n",
      "__________________________________________________________________________________________________\n",
      "conv5_block3_3_bn (BatchNormali (None, None, None, 2 8192        conv5_block3_3_conv[0][0]        \n",
      "__________________________________________________________________________________________________\n",
      "conv5_block3_add (Add)          (None, None, None, 2 0           conv5_block2_out[0][0]           \n",
      "                                                                 conv5_block3_3_bn[0][0]          \n",
      "__________________________________________________________________________________________________\n",
      "conv5_block3_out (Activation)   (None, None, None, 2 0           conv5_block3_add[0][0]           \n",
      "==================================================================================================\n",
      "Total params: 23,587,712\n",
      "Trainable params: 23,534,592\n",
      "Non-trainable params: 53,120\n",
      "__________________________________________________________________________________________________\n"
     ]
    }
   ],
   "source": [
    "model = ResNet50(include_top=False)\n",
    "model.summary()"
   ]
  },
  {
   "cell_type": "code",
   "execution_count": 21,
   "id": "finished-belle",
   "metadata": {},
   "outputs": [],
   "source": [
    "df = cat_image.toDF()"
   ]
  },
  {
   "cell_type": "code",
   "execution_count": 43,
   "id": "embedded-document",
   "metadata": {},
   "outputs": [
    {
     "ename": "TypeError",
     "evalue": "not supported type: <class 'bytes'>",
     "output_type": "error",
     "traceback": [
      "\u001b[0;31m---------------------------------------------------------------------------\u001b[0m",
      "\u001b[0;31mTypeError\u001b[0m                                 Traceback (most recent call last)",
      "\u001b[0;32m~/anaconda3/envs/python3/lib/python3.6/site-packages/pyspark/sql/types.py\u001b[0m in \u001b[0;36m_infer_type\u001b[0;34m(obj)\u001b[0m\n\u001b[1;32m   1067\u001b[0m         \u001b[0;32mtry\u001b[0m\u001b[0;34m:\u001b[0m\u001b[0;34m\u001b[0m\u001b[0;34m\u001b[0m\u001b[0m\n\u001b[0;32m-> 1068\u001b[0;31m             \u001b[0;32mreturn\u001b[0m \u001b[0m_infer_schema\u001b[0m\u001b[0;34m(\u001b[0m\u001b[0mobj\u001b[0m\u001b[0;34m)\u001b[0m\u001b[0;34m\u001b[0m\u001b[0;34m\u001b[0m\u001b[0m\n\u001b[0m\u001b[1;32m   1069\u001b[0m         \u001b[0;32mexcept\u001b[0m \u001b[0mTypeError\u001b[0m\u001b[0;34m:\u001b[0m\u001b[0;34m\u001b[0m\u001b[0;34m\u001b[0m\u001b[0m\n",
      "\u001b[0;32m~/anaconda3/envs/python3/lib/python3.6/site-packages/pyspark/sql/types.py\u001b[0m in \u001b[0;36m_infer_schema\u001b[0;34m(row, names)\u001b[0m\n\u001b[1;32m   1093\u001b[0m     \u001b[0;32melse\u001b[0m\u001b[0;34m:\u001b[0m\u001b[0;34m\u001b[0m\u001b[0;34m\u001b[0m\u001b[0m\n\u001b[0;32m-> 1094\u001b[0;31m         \u001b[0;32mraise\u001b[0m \u001b[0mTypeError\u001b[0m\u001b[0;34m(\u001b[0m\u001b[0;34m\"Can not infer schema for type: %s\"\u001b[0m \u001b[0;34m%\u001b[0m \u001b[0mtype\u001b[0m\u001b[0;34m(\u001b[0m\u001b[0mrow\u001b[0m\u001b[0;34m)\u001b[0m\u001b[0;34m)\u001b[0m\u001b[0;34m\u001b[0m\u001b[0;34m\u001b[0m\u001b[0m\n\u001b[0m\u001b[1;32m   1095\u001b[0m \u001b[0;34m\u001b[0m\u001b[0m\n",
      "\u001b[0;31mTypeError\u001b[0m: Can not infer schema for type: <class 'bytes'>",
      "\nDuring handling of the above exception, another exception occurred:\n",
      "\u001b[0;31mTypeError\u001b[0m                                 Traceback (most recent call last)",
      "\u001b[0;32m<ipython-input-43-9425b411d2a5>\u001b[0m in \u001b[0;36m<module>\u001b[0;34m\u001b[0m\n\u001b[0;32m----> 1\u001b[0;31m \u001b[0mdf2\u001b[0m \u001b[0;34m=\u001b[0m \u001b[0mimages\u001b[0m\u001b[0;34m.\u001b[0m\u001b[0mtoDF\u001b[0m\u001b[0;34m(\u001b[0m\u001b[0;34m)\u001b[0m\u001b[0;34m\u001b[0m\u001b[0;34m\u001b[0m\u001b[0m\n\u001b[0m",
      "\u001b[0;32m~/anaconda3/envs/python3/lib/python3.6/site-packages/pyspark/sql/session.py\u001b[0m in \u001b[0;36mtoDF\u001b[0;34m(self, schema, sampleRatio)\u001b[0m\n\u001b[1;32m     56\u001b[0m         \u001b[0;34m[\u001b[0m\u001b[0mRow\u001b[0m\u001b[0;34m(\u001b[0m\u001b[0mname\u001b[0m\u001b[0;34m=\u001b[0m\u001b[0;34mu'Alice'\u001b[0m\u001b[0;34m,\u001b[0m \u001b[0mage\u001b[0m\u001b[0;34m=\u001b[0m\u001b[0;36m1\u001b[0m\u001b[0;34m)\u001b[0m\u001b[0;34m]\u001b[0m\u001b[0;34m\u001b[0m\u001b[0;34m\u001b[0m\u001b[0m\n\u001b[1;32m     57\u001b[0m         \"\"\"\n\u001b[0;32m---> 58\u001b[0;31m         \u001b[0;32mreturn\u001b[0m \u001b[0msparkSession\u001b[0m\u001b[0;34m.\u001b[0m\u001b[0mcreateDataFrame\u001b[0m\u001b[0;34m(\u001b[0m\u001b[0mself\u001b[0m\u001b[0;34m,\u001b[0m \u001b[0mschema\u001b[0m\u001b[0;34m,\u001b[0m \u001b[0msampleRatio\u001b[0m\u001b[0;34m)\u001b[0m\u001b[0;34m\u001b[0m\u001b[0;34m\u001b[0m\u001b[0m\n\u001b[0m\u001b[1;32m     59\u001b[0m \u001b[0;34m\u001b[0m\u001b[0m\n\u001b[1;32m     60\u001b[0m     \u001b[0mRDD\u001b[0m\u001b[0;34m.\u001b[0m\u001b[0mtoDF\u001b[0m \u001b[0;34m=\u001b[0m \u001b[0mtoDF\u001b[0m\u001b[0;34m\u001b[0m\u001b[0;34m\u001b[0m\u001b[0m\n",
      "\u001b[0;32m~/anaconda3/envs/python3/lib/python3.6/site-packages/pyspark/sql/session.py\u001b[0m in \u001b[0;36mcreateDataFrame\u001b[0;34m(self, data, schema, samplingRatio, verifySchema)\u001b[0m\n\u001b[1;32m    687\u001b[0m \u001b[0;34m\u001b[0m\u001b[0m\n\u001b[1;32m    688\u001b[0m         \u001b[0;32mif\u001b[0m \u001b[0misinstance\u001b[0m\u001b[0;34m(\u001b[0m\u001b[0mdata\u001b[0m\u001b[0;34m,\u001b[0m \u001b[0mRDD\u001b[0m\u001b[0;34m)\u001b[0m\u001b[0;34m:\u001b[0m\u001b[0;34m\u001b[0m\u001b[0;34m\u001b[0m\u001b[0m\n\u001b[0;32m--> 689\u001b[0;31m             \u001b[0mrdd\u001b[0m\u001b[0;34m,\u001b[0m \u001b[0mschema\u001b[0m \u001b[0;34m=\u001b[0m \u001b[0mself\u001b[0m\u001b[0;34m.\u001b[0m\u001b[0m_createFromRDD\u001b[0m\u001b[0;34m(\u001b[0m\u001b[0mdata\u001b[0m\u001b[0;34m.\u001b[0m\u001b[0mmap\u001b[0m\u001b[0;34m(\u001b[0m\u001b[0mprepare\u001b[0m\u001b[0;34m)\u001b[0m\u001b[0;34m,\u001b[0m \u001b[0mschema\u001b[0m\u001b[0;34m,\u001b[0m \u001b[0msamplingRatio\u001b[0m\u001b[0;34m)\u001b[0m\u001b[0;34m\u001b[0m\u001b[0;34m\u001b[0m\u001b[0m\n\u001b[0m\u001b[1;32m    690\u001b[0m         \u001b[0;32melse\u001b[0m\u001b[0;34m:\u001b[0m\u001b[0;34m\u001b[0m\u001b[0;34m\u001b[0m\u001b[0m\n\u001b[1;32m    691\u001b[0m             \u001b[0mrdd\u001b[0m\u001b[0;34m,\u001b[0m \u001b[0mschema\u001b[0m \u001b[0;34m=\u001b[0m \u001b[0mself\u001b[0m\u001b[0;34m.\u001b[0m\u001b[0m_createFromLocal\u001b[0m\u001b[0;34m(\u001b[0m\u001b[0mmap\u001b[0m\u001b[0;34m(\u001b[0m\u001b[0mprepare\u001b[0m\u001b[0;34m,\u001b[0m \u001b[0mdata\u001b[0m\u001b[0;34m)\u001b[0m\u001b[0;34m,\u001b[0m \u001b[0mschema\u001b[0m\u001b[0;34m)\u001b[0m\u001b[0;34m\u001b[0m\u001b[0;34m\u001b[0m\u001b[0m\n",
      "\u001b[0;32m~/anaconda3/envs/python3/lib/python3.6/site-packages/pyspark/sql/session.py\u001b[0m in \u001b[0;36m_createFromRDD\u001b[0;34m(self, rdd, schema, samplingRatio)\u001b[0m\n\u001b[1;32m    382\u001b[0m         \"\"\"\n\u001b[1;32m    383\u001b[0m         \u001b[0;32mif\u001b[0m \u001b[0mschema\u001b[0m \u001b[0;32mis\u001b[0m \u001b[0;32mNone\u001b[0m \u001b[0;32mor\u001b[0m \u001b[0misinstance\u001b[0m\u001b[0;34m(\u001b[0m\u001b[0mschema\u001b[0m\u001b[0;34m,\u001b[0m \u001b[0;34m(\u001b[0m\u001b[0mlist\u001b[0m\u001b[0;34m,\u001b[0m \u001b[0mtuple\u001b[0m\u001b[0;34m)\u001b[0m\u001b[0;34m)\u001b[0m\u001b[0;34m:\u001b[0m\u001b[0;34m\u001b[0m\u001b[0;34m\u001b[0m\u001b[0m\n\u001b[0;32m--> 384\u001b[0;31m             \u001b[0mstruct\u001b[0m \u001b[0;34m=\u001b[0m \u001b[0mself\u001b[0m\u001b[0;34m.\u001b[0m\u001b[0m_inferSchema\u001b[0m\u001b[0;34m(\u001b[0m\u001b[0mrdd\u001b[0m\u001b[0;34m,\u001b[0m \u001b[0msamplingRatio\u001b[0m\u001b[0;34m,\u001b[0m \u001b[0mnames\u001b[0m\u001b[0;34m=\u001b[0m\u001b[0mschema\u001b[0m\u001b[0;34m)\u001b[0m\u001b[0;34m\u001b[0m\u001b[0;34m\u001b[0m\u001b[0m\n\u001b[0m\u001b[1;32m    385\u001b[0m             \u001b[0mconverter\u001b[0m \u001b[0;34m=\u001b[0m \u001b[0m_create_converter\u001b[0m\u001b[0;34m(\u001b[0m\u001b[0mstruct\u001b[0m\u001b[0;34m)\u001b[0m\u001b[0;34m\u001b[0m\u001b[0;34m\u001b[0m\u001b[0m\n\u001b[1;32m    386\u001b[0m             \u001b[0mrdd\u001b[0m \u001b[0;34m=\u001b[0m \u001b[0mrdd\u001b[0m\u001b[0;34m.\u001b[0m\u001b[0mmap\u001b[0m\u001b[0;34m(\u001b[0m\u001b[0mconverter\u001b[0m\u001b[0;34m)\u001b[0m\u001b[0;34m\u001b[0m\u001b[0;34m\u001b[0m\u001b[0m\n",
      "\u001b[0;32m~/anaconda3/envs/python3/lib/python3.6/site-packages/pyspark/sql/session.py\u001b[0m in \u001b[0;36m_inferSchema\u001b[0;34m(self, rdd, samplingRatio, names)\u001b[0m\n\u001b[1;32m    362\u001b[0m \u001b[0;34m\u001b[0m\u001b[0m\n\u001b[1;32m    363\u001b[0m         \u001b[0;32mif\u001b[0m \u001b[0msamplingRatio\u001b[0m \u001b[0;32mis\u001b[0m \u001b[0;32mNone\u001b[0m\u001b[0;34m:\u001b[0m\u001b[0;34m\u001b[0m\u001b[0;34m\u001b[0m\u001b[0m\n\u001b[0;32m--> 364\u001b[0;31m             \u001b[0mschema\u001b[0m \u001b[0;34m=\u001b[0m \u001b[0m_infer_schema\u001b[0m\u001b[0;34m(\u001b[0m\u001b[0mfirst\u001b[0m\u001b[0;34m,\u001b[0m \u001b[0mnames\u001b[0m\u001b[0;34m=\u001b[0m\u001b[0mnames\u001b[0m\u001b[0;34m)\u001b[0m\u001b[0;34m\u001b[0m\u001b[0;34m\u001b[0m\u001b[0m\n\u001b[0m\u001b[1;32m    365\u001b[0m             \u001b[0;32mif\u001b[0m \u001b[0m_has_nulltype\u001b[0m\u001b[0;34m(\u001b[0m\u001b[0mschema\u001b[0m\u001b[0;34m)\u001b[0m\u001b[0;34m:\u001b[0m\u001b[0;34m\u001b[0m\u001b[0;34m\u001b[0m\u001b[0m\n\u001b[1;32m    366\u001b[0m                 \u001b[0;32mfor\u001b[0m \u001b[0mrow\u001b[0m \u001b[0;32min\u001b[0m \u001b[0mrdd\u001b[0m\u001b[0;34m.\u001b[0m\u001b[0mtake\u001b[0m\u001b[0;34m(\u001b[0m\u001b[0;36m100\u001b[0m\u001b[0;34m)\u001b[0m\u001b[0;34m[\u001b[0m\u001b[0;36m1\u001b[0m\u001b[0;34m:\u001b[0m\u001b[0;34m]\u001b[0m\u001b[0;34m:\u001b[0m\u001b[0;34m\u001b[0m\u001b[0;34m\u001b[0m\u001b[0m\n",
      "\u001b[0;32m~/anaconda3/envs/python3/lib/python3.6/site-packages/pyspark/sql/types.py\u001b[0m in \u001b[0;36m_infer_schema\u001b[0;34m(row, names)\u001b[0m\n\u001b[1;32m   1094\u001b[0m         \u001b[0;32mraise\u001b[0m \u001b[0mTypeError\u001b[0m\u001b[0;34m(\u001b[0m\u001b[0;34m\"Can not infer schema for type: %s\"\u001b[0m \u001b[0;34m%\u001b[0m \u001b[0mtype\u001b[0m\u001b[0;34m(\u001b[0m\u001b[0mrow\u001b[0m\u001b[0;34m)\u001b[0m\u001b[0;34m)\u001b[0m\u001b[0;34m\u001b[0m\u001b[0;34m\u001b[0m\u001b[0m\n\u001b[1;32m   1095\u001b[0m \u001b[0;34m\u001b[0m\u001b[0m\n\u001b[0;32m-> 1096\u001b[0;31m     \u001b[0mfields\u001b[0m \u001b[0;34m=\u001b[0m \u001b[0;34m[\u001b[0m\u001b[0mStructField\u001b[0m\u001b[0;34m(\u001b[0m\u001b[0mk\u001b[0m\u001b[0;34m,\u001b[0m \u001b[0m_infer_type\u001b[0m\u001b[0;34m(\u001b[0m\u001b[0mv\u001b[0m\u001b[0;34m)\u001b[0m\u001b[0;34m,\u001b[0m \u001b[0;32mTrue\u001b[0m\u001b[0;34m)\u001b[0m \u001b[0;32mfor\u001b[0m \u001b[0mk\u001b[0m\u001b[0;34m,\u001b[0m \u001b[0mv\u001b[0m \u001b[0;32min\u001b[0m \u001b[0mitems\u001b[0m\u001b[0;34m]\u001b[0m\u001b[0;34m\u001b[0m\u001b[0;34m\u001b[0m\u001b[0m\n\u001b[0m\u001b[1;32m   1097\u001b[0m     \u001b[0;32mreturn\u001b[0m \u001b[0mStructType\u001b[0m\u001b[0;34m(\u001b[0m\u001b[0mfields\u001b[0m\u001b[0;34m)\u001b[0m\u001b[0;34m\u001b[0m\u001b[0;34m\u001b[0m\u001b[0m\n\u001b[1;32m   1098\u001b[0m \u001b[0;34m\u001b[0m\u001b[0m\n",
      "\u001b[0;32m~/anaconda3/envs/python3/lib/python3.6/site-packages/pyspark/sql/types.py\u001b[0m in \u001b[0;36m<listcomp>\u001b[0;34m(.0)\u001b[0m\n\u001b[1;32m   1094\u001b[0m         \u001b[0;32mraise\u001b[0m \u001b[0mTypeError\u001b[0m\u001b[0;34m(\u001b[0m\u001b[0;34m\"Can not infer schema for type: %s\"\u001b[0m \u001b[0;34m%\u001b[0m \u001b[0mtype\u001b[0m\u001b[0;34m(\u001b[0m\u001b[0mrow\u001b[0m\u001b[0;34m)\u001b[0m\u001b[0;34m)\u001b[0m\u001b[0;34m\u001b[0m\u001b[0;34m\u001b[0m\u001b[0m\n\u001b[1;32m   1095\u001b[0m \u001b[0;34m\u001b[0m\u001b[0m\n\u001b[0;32m-> 1096\u001b[0;31m     \u001b[0mfields\u001b[0m \u001b[0;34m=\u001b[0m \u001b[0;34m[\u001b[0m\u001b[0mStructField\u001b[0m\u001b[0;34m(\u001b[0m\u001b[0mk\u001b[0m\u001b[0;34m,\u001b[0m \u001b[0m_infer_type\u001b[0m\u001b[0;34m(\u001b[0m\u001b[0mv\u001b[0m\u001b[0;34m)\u001b[0m\u001b[0;34m,\u001b[0m \u001b[0;32mTrue\u001b[0m\u001b[0;34m)\u001b[0m \u001b[0;32mfor\u001b[0m \u001b[0mk\u001b[0m\u001b[0;34m,\u001b[0m \u001b[0mv\u001b[0m \u001b[0;32min\u001b[0m \u001b[0mitems\u001b[0m\u001b[0;34m]\u001b[0m\u001b[0;34m\u001b[0m\u001b[0;34m\u001b[0m\u001b[0m\n\u001b[0m\u001b[1;32m   1097\u001b[0m     \u001b[0;32mreturn\u001b[0m \u001b[0mStructType\u001b[0m\u001b[0;34m(\u001b[0m\u001b[0mfields\u001b[0m\u001b[0;34m)\u001b[0m\u001b[0;34m\u001b[0m\u001b[0;34m\u001b[0m\u001b[0m\n\u001b[1;32m   1098\u001b[0m \u001b[0;34m\u001b[0m\u001b[0m\n",
      "\u001b[0;32m~/anaconda3/envs/python3/lib/python3.6/site-packages/pyspark/sql/types.py\u001b[0m in \u001b[0;36m_infer_type\u001b[0;34m(obj)\u001b[0m\n\u001b[1;32m   1068\u001b[0m             \u001b[0;32mreturn\u001b[0m \u001b[0m_infer_schema\u001b[0m\u001b[0;34m(\u001b[0m\u001b[0mobj\u001b[0m\u001b[0;34m)\u001b[0m\u001b[0;34m\u001b[0m\u001b[0;34m\u001b[0m\u001b[0m\n\u001b[1;32m   1069\u001b[0m         \u001b[0;32mexcept\u001b[0m \u001b[0mTypeError\u001b[0m\u001b[0;34m:\u001b[0m\u001b[0;34m\u001b[0m\u001b[0;34m\u001b[0m\u001b[0m\n\u001b[0;32m-> 1070\u001b[0;31m             \u001b[0;32mraise\u001b[0m \u001b[0mTypeError\u001b[0m\u001b[0;34m(\u001b[0m\u001b[0;34m\"not supported type: %s\"\u001b[0m \u001b[0;34m%\u001b[0m \u001b[0mtype\u001b[0m\u001b[0;34m(\u001b[0m\u001b[0mobj\u001b[0m\u001b[0;34m)\u001b[0m\u001b[0;34m)\u001b[0m\u001b[0;34m\u001b[0m\u001b[0;34m\u001b[0m\u001b[0m\n\u001b[0m\u001b[1;32m   1071\u001b[0m \u001b[0;34m\u001b[0m\u001b[0m\n\u001b[1;32m   1072\u001b[0m \u001b[0;34m\u001b[0m\u001b[0m\n",
      "\u001b[0;31mTypeError\u001b[0m: not supported type: <class 'bytes'>"
     ]
    }
   ],
   "source": [
    "df2 = images.toDF()"
   ]
  },
  {
   "cell_type": "code",
   "execution_count": 52,
   "id": "prompt-thesaurus",
   "metadata": {},
   "outputs": [
    {
     "name": "stdout",
     "output_type": "stream",
     "text": [
      "Clustering des descripteurs\n"
     ]
    }
   ],
   "source": [
    "#Clustering des descripteurs avec KMEANS\n",
    "print(\"Clustering des descripteurs\")"
   ]
  },
  {
   "cell_type": "code",
   "execution_count": 53,
   "id": "heavy-alert",
   "metadata": {},
   "outputs": [
    {
     "name": "stdout",
     "output_type": "stream",
     "text": [
      "...calcul du nombre de classes\n",
      "K-means avec k =  150\n",
      ".....Temps de traitement count : 00:10:42\n"
     ]
    }
   ],
   "source": [
    "#calcul du nombre de classe avec la formule nombre de categories x 10\n",
    "print(\"...calcul du nombre de classes\")\n",
    "t = time.time()\n",
    "nbcat = cat_descriptors.map(lambda x: x['category']).distinct().count()\n",
    "k = nbcat *10\n",
    "print(\"K-means avec k = \",k)\n",
    "print('.....Temps de traitement count : {}'.format(time.strftime(\"%H:%M:%S\", time.gmtime(time.time()-t))))"
   ]
  },
  {
   "cell_type": "code",
   "execution_count": 54,
   "id": "extra-porcelain",
   "metadata": {},
   "outputs": [
    {
     "name": "stdout",
     "output_type": "stream",
     "text": [
      "...flatmap des descripteurs dans un rdd\n",
      ".....Temps de traitement flatmap : 00:00:00 \n"
     ]
    }
   ],
   "source": [
    "print(\"...flatmap des descripteurs dans un rdd\")\n",
    "t = time.time()\n",
    "# rdd contenant un descripteur par ligne\n",
    "cat_features = tuples_decriptors.flatMap(lambda x: [(x[0],x[1],w) for w in x[2]])\n",
    "cat_desc = cat_features\\\n",
    "    .map(lambda x: (Row(name=x[0],category=x[1], features=x[2])))\n",
    "descriptors = cat_desc.map(lambda x: x['features'])\n",
    "print('.....Temps de traitement flatmap : {} '.format(time.strftime(\"%H:%M:%S\", time.gmtime(time.time()-t))))"
   ]
  },
  {
   "cell_type": "code",
   "execution_count": 55,
   "id": "identified-digit",
   "metadata": {},
   "outputs": [
    {
     "name": "stdout",
     "output_type": "stream",
     "text": [
      "...clustering des descripteurs de kMeans\n",
      ".....Temps de traitement kMeans : 00:09:52\n"
     ]
    }
   ],
   "source": [
    "print('...clustering des descripteurs de kMeans')\n",
    "t = time.time()      \n",
    "#entrainement du modele\n",
    "model = KMeans.train(descriptors, k, maxIterations=10, initializationMode=\"random\")\n",
    "print('.....Temps de traitement kMeans : {}'.format(time.strftime(\"%H:%M:%S\", time.gmtime(time.time()-t))))"
   ]
  },
  {
   "cell_type": "code",
   "execution_count": 35,
   "id": "ordinary-violence",
   "metadata": {},
   "outputs": [
    {
     "name": "stdout",
     "output_type": "stream",
     "text": [
      "...formation du rdd bag of visual word\n",
      ".....Temps de traitement bow : 00:00:00\n"
     ]
    }
   ],
   "source": [
    "print(\"...formation du rdd bag of visual word\")\n",
    "t = time.time()    \n",
    "rdd_bow = cat_descriptors.map(lambda x: bow(x,model,k))\n",
    "print('.....Temps de traitement bow : {}'.format(time.strftime(\"%H:%M:%S\", time.gmtime(time.time()-t))))"
   ]
  },
  {
   "cell_type": "markdown",
   "id": "designed-blade",
   "metadata": {},
   "source": [
    "## Affichage du contenu du RDD"
   ]
  },
  {
   "cell_type": "markdown",
   "id": "extreme-seafood",
   "metadata": {},
   "source": [
    "Juste pour information dans le cadre du projet, à ne pas faire en production"
   ]
  },
  {
   "cell_type": "code",
   "execution_count": 45,
   "id": "honest-polymer",
   "metadata": {},
   "outputs": [
    {
     "data": {
      "text/plain": [
       "[Row(bow=[0.0, 0.0, 0.0, 0.0, 0.0, 0.0, 0.0, 0.043478260869565216, 0.021739130434782608, 0.0, 0.0, 0.0, 0.0, 0.0, 0.0, 0.0, 0.0, 0.0, 0.043478260869565216, 0.0, 0.0, 0.0, 0.0, 0.0, 0.0, 0.0, 0.0, 0.0, 0.0, 0.0, 0.0, 0.0, 0.0, 0.0, 0.0, 0.0, 0.0, 0.0, 0.0, 0.0, 0.0, 0.0, 0.021739130434782608, 0.0, 0.0, 0.0, 0.0, 0.0, 0.0, 0.043478260869565216, 0.0, 0.043478260869565216, 0.0, 0.0, 0.0, 0.0, 0.0, 0.0, 0.0, 0.23913043478260865, 0.0, 0.0, 0.0, 0.0, 0.0, 0.0, 0.0, 0.0, 0.0, 0.0, 0.021739130434782608, 0.021739130434782608, 0.021739130434782608, 0.0, 0.0, 0.043478260869565216, 0.0, 0.0, 0.021739130434782608, 0.021739130434782608, 0.0, 0.0, 0.0, 0.0, 0.0, 0.0, 0.0, 0.0, 0.043478260869565216, 0.021739130434782608, 0.0, 0.0, 0.0, 0.0, 0.043478260869565216, 0.0, 0.021739130434782608, 0.0, 0.0, 0.0, 0.0, 0.0, 0.021739130434782608, 0.0, 0.0, 0.0, 0.0, 0.0, 0.06521739130434782, 0.0, 0.0, 0.0, 0.0, 0.0, 0.0, 0.0, 0.0, 0.0, 0.0, 0.0, 0.0, 0.0, 0.0, 0.0, 0.0, 0.0, 0.0, 0.0, 0.021739130434782608, 0.021739130434782608, 0.0, 0.0, 0.0, 0.0, 0.043478260869565216, 0.021739130434782608, 0.043478260869565216, 0.0, 0.0, 0.0, 0.0, 0.0, 0.0, 0.0, 0.021739130434782608, 0.0, 0.0, 0.0, 0.0, 0.0], category='Salak', fileName='0_100.jpg'),\n",
       " Row(bow=[0.0, 0.047619047619047616, 0.0, 0.0, 0.0, 0.0, 0.0, 0.0, 0.047619047619047616, 0.0, 0.0, 0.0, 0.0, 0.0, 0.0, 0.047619047619047616, 0.0, 0.0, 0.0, 0.0, 0.0, 0.0, 0.0, 0.0, 0.0, 0.0, 0.0, 0.0, 0.0, 0.0, 0.0, 0.0, 0.0, 0.0, 0.0, 0.0, 0.0, 0.0, 0.0, 0.0, 0.0, 0.0, 0.0, 0.0, 0.0, 0.0, 0.0, 0.0, 0.0, 0.0, 0.0, 0.0, 0.0, 0.0, 0.0, 0.0, 0.0, 0.0, 0.0, 0.0, 0.0, 0.0, 0.0, 0.0, 0.0, 0.0, 0.0, 0.0, 0.09523809523809523, 0.047619047619047616, 0.0, 0.0, 0.0, 0.0, 0.0, 0.0, 0.0, 0.0, 0.047619047619047616, 0.047619047619047616, 0.0, 0.047619047619047616, 0.0, 0.0, 0.047619047619047616, 0.0, 0.047619047619047616, 0.0, 0.0, 0.0, 0.0, 0.0, 0.0, 0.047619047619047616, 0.0, 0.0, 0.0, 0.047619047619047616, 0.0, 0.0, 0.047619047619047616, 0.0, 0.0, 0.0, 0.0, 0.0, 0.0, 0.047619047619047616, 0.0, 0.0, 0.0, 0.0, 0.0, 0.0, 0.0, 0.0, 0.0, 0.0, 0.0, 0.0, 0.0, 0.0, 0.0, 0.047619047619047616, 0.0, 0.0, 0.0, 0.0, 0.0, 0.09523809523809523, 0.0, 0.0, 0.047619047619047616, 0.0, 0.0, 0.0, 0.0, 0.0, 0.0, 0.0, 0.0, 0.0, 0.0, 0.0, 0.0, 0.047619047619047616, 0.047619047619047616, 0.0, 0.0, 0.0], category='Salak', fileName='100_100.jpg')]"
      ]
     },
     "execution_count": 45,
     "metadata": {},
     "output_type": "execute_result"
    }
   ],
   "source": [
    "rdd_bow.take(2)"
   ]
  },
  {
   "cell_type": "markdown",
   "id": "voluntary-egyptian",
   "metadata": {},
   "source": [
    "# Enregistrement des données au format parquet"
   ]
  },
  {
   "cell_type": "code",
   "execution_count": 36,
   "id": "driven-letter",
   "metadata": {},
   "outputs": [
    {
     "name": "stdout",
     "output_type": "stream",
     "text": [
      "...conversion du rdd BOVW en spark dataframe\n",
      ".....Temps de traitement toDF : 00:00:02\n"
     ]
    }
   ],
   "source": [
    "print(\"...conversion du rdd BOVW en spark dataframe\")\n",
    "t = time.time()  \n",
    "df = rdd_bow.toDF()\n",
    "print('.....Temps de traitement toDF : {}'.format(time.strftime(\"%H:%M:%S\", time.gmtime(time.time()-t))))"
   ]
  },
  {
   "cell_type": "code",
   "execution_count": 46,
   "id": "advance-treasurer",
   "metadata": {},
   "outputs": [
    {
     "name": "stdout",
     "output_type": "stream",
     "text": [
      "...enregistrement format parquet\n",
      "Enregistrement effectué.\n",
      ".....Temps de traitement enregistrement parquet : 00:10:13\n"
     ]
    }
   ],
   "source": [
    "\n",
    "print(\"...enregistrement format parquet\")\n",
    "t = time.time()  \n",
    "df = rdd_bow.toDF()\n",
    "\n",
    "#path_write = \"s3a://p8muriel/test_bovw.parquet\"\n",
    "\n",
    "write_dataframe_parquet(df,path_write)\n",
    "print('.....Temps de traitement enregistrement parquet : {}'.format(time.strftime(\"%H:%M:%S\", time.gmtime(time.time()-t))))"
   ]
  },
  {
   "cell_type": "markdown",
   "id": "critical-shakespeare",
   "metadata": {},
   "source": [
    "# Aperçu des données après réduction de dimension"
   ]
  },
  {
   "cell_type": "code",
   "execution_count": 37,
   "id": "automatic-bedroom",
   "metadata": {},
   "outputs": [
    {
     "name": "stdout",
     "output_type": "stream",
     "text": [
      "+--------------------+--------+-----------+\n",
      "|                 bow|category|   fileName|\n",
      "+--------------------+--------+-----------+\n",
      "|[0.0, 0.0, 0.0, 0...|   Salak|  0_100.jpg|\n",
      "|[0.0, 0.047619047...|   Salak|100_100.jpg|\n",
      "|[0.0, 0.047619047...|   Salak|101_100.jpg|\n",
      "|[0.0, 0.0, 0.0, 0...|   Salak|102_100.jpg|\n",
      "|[0.0, 0.055555555...|   Salak|103_100.jpg|\n",
      "|[0.0, 0.0, 0.0, 0...|   Salak|104_100.jpg|\n",
      "|[0.0, 0.043478260...|   Salak|105_100.jpg|\n",
      "|[0.0, 0.0, 0.0, 0...|   Salak|106_100.jpg|\n",
      "|[0.0, 0.0, 0.0, 0...|   Salak|107_100.jpg|\n",
      "|[0.0, 0.0, 0.0, 0...|   Salak|108_100.jpg|\n",
      "|[0.0, 0.0, 0.0, 0...|   Salak|109_100.jpg|\n",
      "|[0.0, 0.076923076...|   Salak|110_100.jpg|\n",
      "|[0.0, 0.0, 0.0, 0...|   Salak|111_100.jpg|\n",
      "|[0.0, 0.071428571...|   Salak|112_100.jpg|\n",
      "|[0.0, 0.0, 0.0, 0...|   Salak|113_100.jpg|\n",
      "|[0.0, 0.0, 0.0, 0...|   Salak|114_100.jpg|\n",
      "|[0.0, 0.0, 0.0, 0...|   Salak|115_100.jpg|\n",
      "|[0.0, 0.0, 0.0416...|   Salak|116_100.jpg|\n",
      "|[0.0, 0.0, 0.0, 0...|   Salak|117_100.jpg|\n",
      "|[0.0, 0.029411764...|   Salak|118_100.jpg|\n",
      "+--------------------+--------+-----------+\n",
      "only showing top 20 rows\n",
      "\n"
     ]
    }
   ],
   "source": [
    "df.show()"
   ]
  },
  {
   "cell_type": "code",
   "execution_count": 38,
   "id": "offshore-indianapolis",
   "metadata": {},
   "outputs": [
    {
     "name": "stdout",
     "output_type": "stream",
     "text": [
      "+---------------------------------------------------------------------------------------------------------------------------------------------------------------------------------------------------------------------------------------------------------------------------------------------------------------------------------------------------------------------------------------------------------------------------------------------------------------------------------------------------------------------------------------------------------------------------------------------------------------------------------------------------------------------------------------------------------------------------------------------------------------------------------------------------------------------------------------------------------------------------------------------------------------------------------------------------------------------------------------------------------------------------------------------------------------------------------------------------------------------------------------------------------------------------------------------------------------------+--------+-----------+\n",
      "|bow                                                                                                                                                                                                                                                                                                                                                                                                                                                                                                                                                                                                                                                                                                                                                                                                                                                                                                                                                                                                                                                                                                                                                                                                                  |category|fileName   |\n",
      "+---------------------------------------------------------------------------------------------------------------------------------------------------------------------------------------------------------------------------------------------------------------------------------------------------------------------------------------------------------------------------------------------------------------------------------------------------------------------------------------------------------------------------------------------------------------------------------------------------------------------------------------------------------------------------------------------------------------------------------------------------------------------------------------------------------------------------------------------------------------------------------------------------------------------------------------------------------------------------------------------------------------------------------------------------------------------------------------------------------------------------------------------------------------------------------------------------------------------+--------+-----------+\n",
      "|[0.0, 0.0, 0.0, 0.0, 0.0, 0.0, 0.0, 0.043478260869565216, 0.021739130434782608, 0.0, 0.0, 0.0, 0.0, 0.0, 0.0, 0.0, 0.0, 0.0, 0.043478260869565216, 0.0, 0.0, 0.0, 0.0, 0.0, 0.0, 0.0, 0.0, 0.0, 0.0, 0.0, 0.0, 0.0, 0.0, 0.0, 0.0, 0.0, 0.0, 0.0, 0.0, 0.0, 0.0, 0.0, 0.021739130434782608, 0.0, 0.0, 0.0, 0.0, 0.0, 0.0, 0.043478260869565216, 0.0, 0.043478260869565216, 0.0, 0.0, 0.0, 0.0, 0.0, 0.0, 0.0, 0.23913043478260865, 0.0, 0.0, 0.0, 0.0, 0.0, 0.0, 0.0, 0.0, 0.0, 0.0, 0.021739130434782608, 0.021739130434782608, 0.021739130434782608, 0.0, 0.0, 0.043478260869565216, 0.0, 0.0, 0.021739130434782608, 0.021739130434782608, 0.0, 0.0, 0.0, 0.0, 0.0, 0.0, 0.0, 0.0, 0.043478260869565216, 0.021739130434782608, 0.0, 0.0, 0.0, 0.0, 0.043478260869565216, 0.0, 0.021739130434782608, 0.0, 0.0, 0.0, 0.0, 0.0, 0.021739130434782608, 0.0, 0.0, 0.0, 0.0, 0.0, 0.06521739130434782, 0.0, 0.0, 0.0, 0.0, 0.0, 0.0, 0.0, 0.0, 0.0, 0.0, 0.0, 0.0, 0.0, 0.0, 0.0, 0.0, 0.0, 0.0, 0.0, 0.021739130434782608, 0.021739130434782608, 0.0, 0.0, 0.0, 0.0, 0.043478260869565216, 0.021739130434782608, 0.043478260869565216, 0.0, 0.0, 0.0, 0.0, 0.0, 0.0, 0.0, 0.021739130434782608, 0.0, 0.0, 0.0, 0.0, 0.0]|Salak   |0_100.jpg  |\n",
      "|[0.0, 0.047619047619047616, 0.0, 0.0, 0.0, 0.0, 0.0, 0.0, 0.047619047619047616, 0.0, 0.0, 0.0, 0.0, 0.0, 0.0, 0.047619047619047616, 0.0, 0.0, 0.0, 0.0, 0.0, 0.0, 0.0, 0.0, 0.0, 0.0, 0.0, 0.0, 0.0, 0.0, 0.0, 0.0, 0.0, 0.0, 0.0, 0.0, 0.0, 0.0, 0.0, 0.0, 0.0, 0.0, 0.0, 0.0, 0.0, 0.0, 0.0, 0.0, 0.0, 0.0, 0.0, 0.0, 0.0, 0.0, 0.0, 0.0, 0.0, 0.0, 0.0, 0.0, 0.0, 0.0, 0.0, 0.0, 0.0, 0.0, 0.0, 0.0, 0.09523809523809523, 0.047619047619047616, 0.0, 0.0, 0.0, 0.0, 0.0, 0.0, 0.0, 0.0, 0.047619047619047616, 0.047619047619047616, 0.0, 0.047619047619047616, 0.0, 0.0, 0.047619047619047616, 0.0, 0.047619047619047616, 0.0, 0.0, 0.0, 0.0, 0.0, 0.0, 0.047619047619047616, 0.0, 0.0, 0.0, 0.047619047619047616, 0.0, 0.0, 0.047619047619047616, 0.0, 0.0, 0.0, 0.0, 0.0, 0.0, 0.047619047619047616, 0.0, 0.0, 0.0, 0.0, 0.0, 0.0, 0.0, 0.0, 0.0, 0.0, 0.0, 0.0, 0.0, 0.0, 0.0, 0.047619047619047616, 0.0, 0.0, 0.0, 0.0, 0.0, 0.09523809523809523, 0.0, 0.0, 0.047619047619047616, 0.0, 0.0, 0.0, 0.0, 0.0, 0.0, 0.0, 0.0, 0.0, 0.0, 0.0, 0.0, 0.047619047619047616, 0.047619047619047616, 0.0, 0.0, 0.0]                                                                                                      |Salak   |100_100.jpg|\n",
      "+---------------------------------------------------------------------------------------------------------------------------------------------------------------------------------------------------------------------------------------------------------------------------------------------------------------------------------------------------------------------------------------------------------------------------------------------------------------------------------------------------------------------------------------------------------------------------------------------------------------------------------------------------------------------------------------------------------------------------------------------------------------------------------------------------------------------------------------------------------------------------------------------------------------------------------------------------------------------------------------------------------------------------------------------------------------------------------------------------------------------------------------------------------------------------------------------------------------------+--------+-----------+\n",
      "only showing top 2 rows\n",
      "\n"
     ]
    }
   ],
   "source": [
    "df.show(2, False)"
   ]
  },
  {
   "cell_type": "markdown",
   "id": "suspected-mainland",
   "metadata": {},
   "source": [
    "## Schema"
   ]
  },
  {
   "cell_type": "code",
   "execution_count": 44,
   "id": "explicit-devil",
   "metadata": {},
   "outputs": [
    {
     "data": {
      "text/plain": [
       "StructType(List(StructField(bow,ArrayType(DoubleType,true),true),StructField(category,StringType,true),StructField(fileName,StringType,true)))"
      ]
     },
     "execution_count": 44,
     "metadata": {},
     "output_type": "execute_result"
    }
   ],
   "source": [
    "df.schema"
   ]
  },
  {
   "cell_type": "code",
   "execution_count": 42,
   "id": "economic-think",
   "metadata": {},
   "outputs": [
    {
     "name": "stdout",
     "output_type": "stream",
     "text": [
      "root\n",
      " |-- bow: array (nullable = true)\n",
      " |    |-- element: double (containsNull = true)\n",
      " |-- category: string (nullable = true)\n",
      " |-- fileName: string (nullable = true)\n",
      "\n"
     ]
    }
   ],
   "source": [
    "df.printSchema()"
   ]
  },
  {
   "cell_type": "markdown",
   "id": "amateur-arctic",
   "metadata": {},
   "source": [
    "## Ecriture en csv pour comparaison avec parquet"
   ]
  },
  {
   "cell_type": "code",
   "execution_count": 49,
   "id": "affected-apple",
   "metadata": {},
   "outputs": [
    {
     "name": "stdout",
     "output_type": "stream",
     "text": [
      "...enregistrement format csv\n",
      ".....Temps de traitement enregistrement csv : 00:10:02\n"
     ]
    }
   ],
   "source": [
    "print(\"...enregistrement format csv\")\n",
    "t = time.time() \n",
    "df.toPandas().to_csv(\"s3a://p8muriel/test2_bow_file.csv\", header=True)\n",
    "print('.....Temps de traitement enregistrement csv : {}'.format(time.strftime(\"%H:%M:%S\", time.gmtime(time.time()-t))))"
   ]
  },
  {
   "cell_type": "code",
   "execution_count": 64,
   "id": "trying-utility",
   "metadata": {},
   "outputs": [
    {
     "data": {
      "text/html": [
       "\n",
       "        <div>\n",
       "            <p><b>SparkContext</b></p>\n",
       "\n",
       "            <p><a href=\"http://ip-172-16-1-252.eu-west-1.compute.internal:4040\">Spark UI</a></p>\n",
       "\n",
       "            <dl>\n",
       "              <dt>Version</dt>\n",
       "                <dd><code>v2.3.4</code></dd>\n",
       "              <dt>Master</dt>\n",
       "                <dd><code>local[*]</code></dd>\n",
       "              <dt>AppName</dt>\n",
       "                <dd><code>pyspark-shell</code></dd>\n",
       "            </dl>\n",
       "        </div>\n",
       "        "
      ],
      "text/plain": [
       "<SparkContext master=local[*] appName=pyspark-shell>"
      ]
     },
     "execution_count": 64,
     "metadata": {},
     "output_type": "execute_result"
    }
   ],
   "source": [
    "spark.sparkContext"
   ]
  },
  {
   "cell_type": "code",
   "execution_count": 62,
   "id": "becoming-lightning",
   "metadata": {},
   "outputs": [
    {
     "ename": "AttributeError",
     "evalue": "'SparkSession' object has no attribute 'app'",
     "output_type": "error",
     "traceback": [
      "\u001b[0;31m---------------------------------------------------------------------------\u001b[0m",
      "\u001b[0;31mAttributeError\u001b[0m                            Traceback (most recent call last)",
      "\u001b[0;32m<ipython-input-62-bd4129aa18e6>\u001b[0m in \u001b[0;36m<module>\u001b[0;34m\u001b[0m\n\u001b[0;32m----> 1\u001b[0;31m \u001b[0mspark\u001b[0m\u001b[0;34m.\u001b[0m\u001b[0mapp\u001b[0m\u001b[0;34m.\u001b[0m\u001b[0mname\u001b[0m\u001b[0;34m\u001b[0m\u001b[0;34m\u001b[0m\u001b[0m\n\u001b[0m",
      "\u001b[0;31mAttributeError\u001b[0m: 'SparkSession' object has no attribute 'app'"
     ]
    }
   ],
   "source": [
    "spark.app.name"
   ]
  },
  {
   "cell_type": "code",
   "execution_count": null,
   "id": "outside-abuse",
   "metadata": {},
   "outputs": [],
   "source": []
  }
 ],
 "metadata": {
  "kernelspec": {
   "display_name": "conda_python3",
   "language": "python",
   "name": "conda_python3"
  },
  "language_info": {
   "codemirror_mode": {
    "name": "ipython",
    "version": 3
   },
   "file_extension": ".py",
   "mimetype": "text/x-python",
   "name": "python",
   "nbconvert_exporter": "python",
   "pygments_lexer": "ipython3",
   "version": "3.6.10"
  }
 },
 "nbformat": 4,
 "nbformat_minor": 5
}
