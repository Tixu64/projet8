{
 "cells": [
  {
   "cell_type": "markdown",
   "id": "capital-ceiling",
   "metadata": {},
   "source": [
    "# Projet 8 - Openclassrooms - Déployer un modèle dans le cloud"
   ]
  },
  {
   "cell_type": "markdown",
   "id": "meaningful-mercy",
   "metadata": {},
   "source": [
    "## Import"
   ]
  },
  {
   "cell_type": "code",
   "execution_count": 13,
   "id": "announced-shell",
   "metadata": {},
   "outputs": [],
   "source": [
    "from pyspark import SparkContext, SparkConf\n",
    "from pyspark.sql import Row, SparkSession, SQLContext\n",
    "from pyspark.mllib.clustering import KMeans\n",
    "\n",
    "import io\n",
    "from io import StringIO\n",
    "import os\n",
    "import sys\n",
    "import time\n",
    "\n",
    "import numpy as np\n",
    "import pandas as pd\n",
    "\n",
    "import cv2\n",
    "from PIL import Image\n",
    "\n",
    "\n",
    "import boto.s3\n",
    "import boto3\n",
    "\n",
    "\n",
    "import sagemaker\n",
    "from sagemaker import get_execution_role\n",
    "import sagemaker_pyspark"
   ]
  },
  {
   "cell_type": "markdown",
   "id": "corporate-interaction",
   "metadata": {},
   "source": [
    "# Définition des fonctions de pré-processing"
   ]
  },
  {
   "cell_type": "code",
   "execution_count": 14,
   "id": "conceptual-niger",
   "metadata": {},
   "outputs": [],
   "source": [
    "# Renvoie la catéagorie d'une image à partir de son chemin  \n",
    "# Entrée : chaine de caractères, contient le chemin complet de l'image \n",
    "# Sortie: tuple de chaines de caratères  catégorie, nom du fichier\n",
    "\n",
    "def parse_categorie(path):\n",
    "    if len(path) > 0:\n",
    "        return path.split('/')[-1],path.split('/')[-2],\n",
    "    else:\n",
    "        return 'None','None'\n",
    "    \n",
    "\n",
    "# Renvoie la liste des descripteurs ORB d'une image format binaire\n",
    "# Entrée: image lue en binaire dans le rdd\n",
    "# Sortie: tuple categorie, tableau de descripteurs\n",
    "\n",
    "def extract_orb_features(imgfile_imgbytes):\n",
    "\n",
    "    try:\n",
    "        imgfilename, imgbytes = imgfile_imgbytes\n",
    "        #print(imgfilename)\n",
    "        #print(imgbytes)\n",
    "        nom, categorie = parse_categorie(imgfilename)\n",
    "        #print(categorie)\n",
    "        # convertion  binaire en RGB image\n",
    "        img2 = Image.open(io.BytesIO(imgbytes))\n",
    "        #print(img2)\n",
    "        #conversion  Image en tableau  numpy\n",
    "        img_np = np.array(img2)\n",
    "        #print(img_np)\n",
    "        orb = cv2.ORB_create()\n",
    "        kp, descriptors = orb.detectAndCompute(img_np, None)\n",
    "\n",
    "        return nom, categorie, descriptors\n",
    "    except Exception:\n",
    "        return 'problem','problem',''\n",
    "    \n",
    "# Renvoie un histogramme de fréquence du BOVW\n",
    "# Entrée: Ligne d'un RDD contenant la liste des descripteurs d'une image\n",
    "# Entrée: modele K-means entrainé sur l'ensemble des descripteurs\n",
    "# Entrée: nombre de classes prédites par K-means\n",
    "# Sortie: Ligne de RDD contenant nom (chaine), catégorie (chaine), vecteur sous forme d'une liste de 32 reels  \n",
    "def bow(row, model,k):\n",
    "    #entree: tables de descripteurs\n",
    "    categorie = row['category']\n",
    "    nom = row['name']\n",
    "    feature_matrix = row['descriptors']\n",
    "    bow = np.zeros(k)\n",
    "    nkp = len(row['descriptors'])\n",
    "    #print(nkp)\n",
    "\n",
    "    for x in feature_matrix:\n",
    "        idx = model.predict(x)\n",
    "        #print(idx)\n",
    "        bow[idx] += 1/nkp\n",
    "\n",
    "    return Row(fileName=nom,category=categorie, bow=bow.tolist())\n",
    "\n",
    "\n",
    "# Ecrit un dataframe spark au format parket\n",
    "# Entrée: dataframme spark, chemin (chaine)\n",
    "# Sortie: sauvegarde format parquet sur l'emplacement indiqué\n",
    "\n",
    "def write_dataframe_parquet(dataframe, path_parquet):\n",
    "    '''Enregistrement du spark dataframe au format parquet au chemin specifie'''\n",
    "    try:\n",
    "        #start = time.time()\n",
    "        dataframe.write.format(\"parquet\").mode('overwrite').save(path_parquet)\n",
    "        print('Enregistrement effectué.')\n",
    "            \n",
    "\n",
    "        #print('Temps de sauvegarde : {} secondes'.format(time.strftime('%S', time.gmtime(time.time()-start))))\n",
    "    except:\n",
    "        print('L\\'Enregistrement a échoué.')\n",
    "    \n",
    "    return True"
   ]
  },
  {
   "cell_type": "markdown",
   "id": "historical-bankruptcy",
   "metadata": {},
   "source": [
    "# Définition de l'environement Spark"
   ]
  },
  {
   "cell_type": "code",
   "execution_count": 15,
   "id": "bound-trailer",
   "metadata": {},
   "outputs": [
    {
     "data": {
      "text/html": [
       "\n",
       "            <div>\n",
       "                <p><b>SparkSession - in-memory</b></p>\n",
       "                \n",
       "        <div>\n",
       "            <p><b>SparkContext</b></p>\n",
       "\n",
       "            <p><a href=\"http://ip-172-16-1-252.eu-west-1.compute.internal:4040\">Spark UI</a></p>\n",
       "\n",
       "            <dl>\n",
       "              <dt>Version</dt>\n",
       "                <dd><code>v2.3.4</code></dd>\n",
       "              <dt>Master</dt>\n",
       "                <dd><code>local[*]</code></dd>\n",
       "              <dt>AppName</dt>\n",
       "                <dd><code>pyspark-shell</code></dd>\n",
       "            </dl>\n",
       "        </div>\n",
       "        \n",
       "            </div>\n",
       "        "
      ],
      "text/plain": [
       "<pyspark.sql.session.SparkSession at 0x7ff3e9b9c2b0>"
      ]
     },
     "execution_count": 15,
     "metadata": {},
     "output_type": "execute_result"
    }
   ],
   "source": [
    "role = get_execution_role()\n",
    "\n",
    "# Configure Spark to use the SageMaker Spark dependency jars\n",
    "jars = sagemaker_pyspark.classpath_jars()\n",
    "\n",
    "classpath = \":\".join(sagemaker_pyspark.classpath_jars())\n",
    "\n",
    "# See the SageMaker Spark Github to learn how to connect to EMR from a notebook instance\n",
    "spark = SparkSession.builder.config(\"spark.driver.extraClassPath\", classpath)\\\n",
    "    .master(\"local[*]\").getOrCreate()\n",
    "    \n",
    "spark"
   ]
  },
  {
   "cell_type": "markdown",
   "id": "willing-objective",
   "metadata": {},
   "source": [
    "# Variables globales"
   ]
  },
  {
   "cell_type": "code",
   "execution_count": 16,
   "id": "olive-journal",
   "metadata": {},
   "outputs": [],
   "source": [
    "# Chemin d'acces des données sur S3\n",
    "# Seul un échantillon des données de base est utilisé\n",
    "\n",
    "sample_img_dir = \"s3a://p8muriel/test2/*\"\n",
    "path_write = \"s3a://p8muriel/test2_bovw.parquet\""
   ]
  },
  {
   "cell_type": "markdown",
   "id": "finite-sight",
   "metadata": {},
   "source": [
    "# Pré-processing"
   ]
  },
  {
   "cell_type": "markdown",
   "id": "functional-compound",
   "metadata": {},
   "source": [
    "## Chargement des données"
   ]
  },
  {
   "cell_type": "markdown",
   "id": "acute-short",
   "metadata": {},
   "source": [
    "Un échantillon des données sont stockées sur un bucket \"p8muriel\" sur S3. Ni les chemins, ni les noms de fichiers ne doivent contenir des espaces.  \n",
    "-> faire un script préalable au chargement des données sur S3  "
   ]
  },
  {
   "cell_type": "code",
   "execution_count": 50,
   "id": "solar-swedish",
   "metadata": {},
   "outputs": [
    {
     "name": "stdout",
     "output_type": "stream",
     "text": [
      "Chargement des images\n",
      "...Temps de chargement des images : 00:00:00\n"
     ]
    }
   ],
   "source": [
    "print(\"Chargement des images\")\n",
    "#Chargement des images dans un RDD sous forme binaire\n",
    "t = time.time()\n",
    "images = spark.sparkContext.binaryFiles(sample_img_dir)\n",
    "print('...Temps de chargement des images : {}'.format(time.strftime(\"%H:%M:%S\", time.gmtime(time.time()-t))))"
   ]
  },
  {
   "cell_type": "code",
   "execution_count": 66,
   "id": "endangered-hepatitis",
   "metadata": {},
   "outputs": [
    {
     "data": {
      "text/plain": [
       "[('s3a://p8muriel/test2/Salak/0_100.jpg',\n",
       "  b'\\xff\\xd8\\xff\\xe0\\x00\\x10JFIF\\x00\\x01\\x01\\x00\\x00\\x01\\x00\\x01\\x00\\x00\\xff\\xdb\\x00C\\x00\\x02\\x01\\x01\\x01\\x01\\x01\\x02\\x01\\x01\\x01\\x02\\x02\\x02\\x02\\x02\\x04\\x03\\x02\\x02\\x02\\x02\\x05\\x04\\x04\\x03\\x04\\x06\\x05\\x06\\x06\\x06\\x05\\x06\\x06\\x06\\x07\\t\\x08\\x06\\x07\\t\\x07\\x06\\x06\\x08\\x0b\\x08\\t\\n\\n\\n\\n\\n\\x06\\x08\\x0b\\x0c\\x0b\\n\\x0c\\t\\n\\n\\n\\xff\\xdb\\x00C\\x01\\x02\\x02\\x02\\x02\\x02\\x02\\x05\\x03\\x03\\x05\\n\\x07\\x06\\x07\\n\\n\\n\\n\\n\\n\\n\\n\\n\\n\\n\\n\\n\\n\\n\\n\\n\\n\\n\\n\\n\\n\\n\\n\\n\\n\\n\\n\\n\\n\\n\\n\\n\\n\\n\\n\\n\\n\\n\\n\\n\\n\\n\\n\\n\\n\\n\\n\\n\\n\\xff\\xc0\\x00\\x11\\x08\\x00d\\x00d\\x03\\x01\"\\x00\\x02\\x11\\x01\\x03\\x11\\x01\\xff\\xc4\\x00\\x1f\\x00\\x00\\x01\\x05\\x01\\x01\\x01\\x01\\x01\\x01\\x00\\x00\\x00\\x00\\x00\\x00\\x00\\x00\\x01\\x02\\x03\\x04\\x05\\x06\\x07\\x08\\t\\n\\x0b\\xff\\xc4\\x00\\xb5\\x10\\x00\\x02\\x01\\x03\\x03\\x02\\x04\\x03\\x05\\x05\\x04\\x04\\x00\\x00\\x01}\\x01\\x02\\x03\\x00\\x04\\x11\\x05\\x12!1A\\x06\\x13Qa\\x07\"q\\x142\\x81\\x91\\xa1\\x08#B\\xb1\\xc1\\x15R\\xd1\\xf0$3br\\x82\\t\\n\\x16\\x17\\x18\\x19\\x1a%&\\'()*456789:CDEFGHIJSTUVWXYZcdefghijstuvwxyz\\x83\\x84\\x85\\x86\\x87\\x88\\x89\\x8a\\x92\\x93\\x94\\x95\\x96\\x97\\x98\\x99\\x9a\\xa2\\xa3\\xa4\\xa5\\xa6\\xa7\\xa8\\xa9\\xaa\\xb2\\xb3\\xb4\\xb5\\xb6\\xb7\\xb8\\xb9\\xba\\xc2\\xc3\\xc4\\xc5\\xc6\\xc7\\xc8\\xc9\\xca\\xd2\\xd3\\xd4\\xd5\\xd6\\xd7\\xd8\\xd9\\xda\\xe1\\xe2\\xe3\\xe4\\xe5\\xe6\\xe7\\xe8\\xe9\\xea\\xf1\\xf2\\xf3\\xf4\\xf5\\xf6\\xf7\\xf8\\xf9\\xfa\\xff\\xc4\\x00\\x1f\\x01\\x00\\x03\\x01\\x01\\x01\\x01\\x01\\x01\\x01\\x01\\x01\\x00\\x00\\x00\\x00\\x00\\x00\\x01\\x02\\x03\\x04\\x05\\x06\\x07\\x08\\t\\n\\x0b\\xff\\xc4\\x00\\xb5\\x11\\x00\\x02\\x01\\x02\\x04\\x04\\x03\\x04\\x07\\x05\\x04\\x04\\x00\\x01\\x02w\\x00\\x01\\x02\\x03\\x11\\x04\\x05!1\\x06\\x12AQ\\x07aq\\x13\"2\\x81\\x08\\x14B\\x91\\xa1\\xb1\\xc1\\t#3R\\xf0\\x15br\\xd1\\n\\x16$4\\xe1%\\xf1\\x17\\x18\\x19\\x1a&\\'()*56789:CDEFGHIJSTUVWXYZcdefghijstuvwxyz\\x82\\x83\\x84\\x85\\x86\\x87\\x88\\x89\\x8a\\x92\\x93\\x94\\x95\\x96\\x97\\x98\\x99\\x9a\\xa2\\xa3\\xa4\\xa5\\xa6\\xa7\\xa8\\xa9\\xaa\\xb2\\xb3\\xb4\\xb5\\xb6\\xb7\\xb8\\xb9\\xba\\xc2\\xc3\\xc4\\xc5\\xc6\\xc7\\xc8\\xc9\\xca\\xd2\\xd3\\xd4\\xd5\\xd6\\xd7\\xd8\\xd9\\xda\\xe2\\xe3\\xe4\\xe5\\xe6\\xe7\\xe8\\xe9\\xea\\xf2\\xf3\\xf4\\xf5\\xf6\\xf7\\xf8\\xf9\\xfa\\xff\\xda\\x00\\x0c\\x03\\x01\\x00\\x02\\x11\\x03\\x11\\x00?\\x00\\xfd\\xfc\\xa2\\x8a(\\x00\\xa2\\x8a(\\x00\\xa2\\x8a(\\x00\\xa2\\x8a(\\x00\\xa2\\x8a(\\x00\\xa2\\x8a(\\x00\\xa2\\x8a(\\x00\\xa2\\x8a(\\x00\\xa2\\x8a\\xf9#\\xf6\\xd3\\xff\\x00\\x82\\xbc\\xfe\\xcf\\xff\\x00\\xb2\\xcb\\xdfx7\\xc2w0\\xf8\\xbb\\xc5\\x96\\xab<R\\xe9\\xda}\\xca\\xb46S\\xa0e\\xdb;\\x03\\xce$\\x1b\\x1a5;\\xc1\\x07\\x8e*\\xa3\\x19M\\xe88\\xc6R\\x92\\x8aWl\\xfa\\xd2\\xe6\\xea\\xda\\xca\\x06\\xba\\xbc\\xb8H\\xa2A\\x97\\x92W\\n\\xab\\xf5\\'\\xa5x/\\xc5\\xcf\\xf8)\\xdf\\xecM\\xf0n\\xca\\xeao\\x10|n\\xd3\\xaf\\xee\\xac\\xe71\\\\iZ+\\x8b\\x9b\\xa5a\\x9c\\xfc\\x80\\x8e\\x0699\\xee+\\xf1\\xbb\\xf6\\x9f\\xff\\x00\\x82\\xa2\\xfe\\xd5\\xdf\\xb4\\xe4WZW\\x8d\\xbe$\\xea:v\\x88\\x15\\xe3m+JAkj\\xe8\\xce\\xad\\xb2Q\\x18\\x02l\\x15\\\\\\x17\\xc9\\x1d\\xab\\xe7\\x1ds\\xc4\\xf7\\x02\\xea4h\\xbc\\xe8\\xe4A\\xb6\\xe1Tm\\x07\\x9cd\\xf6\\'\\x9e\\xbe\\x9fJ\\xc2x\\x9a\\x14\\xe4\\xe3\\xbb\\xfc:\\xf5=\\xcc.A\\x8b\\xafg?v\\xfd:\\xf4\\xf9\\x1f\\xb8\\x97\\x1f\\xf0_\\xbf\\xf8\\'\\xbd\\xaaG$\\xfa\\xdf\\x8bUe8S\\xff\\x00\\x08\\xd9\\xeb\\xff\\x00}\\xd7\\xac\\xfc\\x1b\\xff\\x00\\x82\\xa1~\\xc2\\xff\\x00\\x1c\\x96\\xc2\\xdb\\xc1\\xbf\\xb4\\x16\\x8b\\x16\\xa3\\xa8\\xca\\xb1[\\xe8\\xba\\x9d\\xc0\\x82\\xec98\\n\\xd1\\x93\\xf2\\x92O\\xad\\x7f9\\x1a\\x96\\xa9p\\x88\\xb6\\xb7WQ\\xc4|\\xb6\\x97\\x10\\x8d\\xa0\\x9d\\xc4`\\x81\\xd4\\x8c~X\\xac\\x1dZf\\xfe\\xce:\\xe2\\xdb\\xcbo\\xf6\\xe9v\\xc8\\n\\xb2\\xaa7\\\\\\x83\\xdb\\x9e\\xc3\\xb7\\x15\\x9cqqO\\xde\\x8f\\xe3\\xfe~g\\xac\\xf8R\\x13\\x8f\\xbbQ\\xa7\\xe8\\x9a\\x7f\\x93\\xd9=\\x8f\\xebF\\xda\\xe6\\xda\\xf2\\x05\\xba\\xb4\\xb8Ibq\\x94\\x927\\x0c\\xac=A\\x1di\\xf5\\xfc\\xdf\\xfe\\xca\\x7f\\xf0X_\\xdb3\\xf6;\\x97O\\xf0\\xc7\\x87~#]k~\\x13C\\x08\\x97G\\xd7\\x97\\xedQG\\x04d\\xfc\\x90\\xbc\\xc0\\x98\\x01\\xdexB\\xa0\\x903\\xd0W\\xee\\x07\\xec\\t\\xff\\x00\\x05\\x17\\xf8\\x13\\xff\\x00\\x05\\x02\\xf0\\x1c\\xda\\xf7\\xc3\\rE\\xad\\xf5\\xcd&\\x08\\x9b\\xc4\\xbe\\x1e\\xb8\\x1f\\xbd\\xd3\\xdeB\\xc1\\x0ez:6\\xc6\\xda\\xc3#\\x823\\x955\\xd1\\tB\\xa4o\\x07\\x7f\\xcf\\xfe\\x18\\xf9\\xfc~S\\x8d\\xcb\\x9d\\xeaF\\xf1\\xee\\xb6\\xf9\\xf6\\xf9\\x9f@QE\\x14\\xcf0(\\xa2\\x8a\\x00\\xa1\\xe2\\x1f\\x15\\xf8_\\xc26\\xa9}\\xe2\\xbf\\x12Xi\\x90H\\xfb\\x12mB\\xf1!Fn\\xbbAr\\x01>\\xd4\\x96>+\\xf0\\xb6\\xa9\\xa5\\x1dwL\\xf1.\\x9fqb\\x1fa\\xbc\\x82\\xf1\\x1e \\xd9\\x03\\x1b\\xc1\\xc6r@\\xc6{\\x8a\\xfca\\xff\\x00\\x82\\xc7xk\\xf6\\xe6\\xf0\\xf7\\xc4\\xfd_\\xe2\\xef\\xc6\\xad\\x16\\xf6\\xdf\\xc1\\xaf3\\xa6\\x89&\\x8dv\\xf7vV(\\xd91\\xa9q\\xe5\\xfe\\xf0\\'\\xcar\\x80d\\xfd\\xea\\xf8j\\xdf\\xe2?\\xc5}oK\\xb2\\xb4\\xb5\\xf8\\x87\\xe2\\x0b--\\x8bI$1\\xebsF\\xc2_\\x94\\xee\\x11+\\xe3n:\\xe4\\x92\\x0e\\rt\\xfb*z&\\xdf\\xaa\\xb5\\xbeGn\\x1b/\\xad\\x89\\x87:\\x94W\\x96\\xa7\\xedG\\xfc\\x15\\xcb\\xfe\\no\\xa3\\xfe\\xce^\\x14\\xbf\\xf8\\x0f\\xf0\\x9b^\\x9e?\\x1c]\\xc5\\x17\\xdb/-\\xe2F\\x8e\\xc2\\x07\\xdd\\xbe6b\\xc1\\x92R\\xbbJ\\x90\\x0e\\x01\\x1c\\x8c\\xd7\\xe2O\\x88<c7\\x895?\\xb2\\xa3,\\xf3\\xcb1S\\x1c\\xaeVV9\\xe5\\x8e\\xee\\xb9=9\\xef\\\\\\xd7\\x89\\xf4\\xef\\x16\\xea\\x1a\\xae\\xa7\\xaak^(\\xd5uD\\xb9O6\\xf3P\\x9a\\xe5\\xa5\\x9a\\xe5\\xf0\\x128\\xc1\\x91\\x89\\xc0T\\x00\\x9c\\xf3\\xed\\x8a\\xbd\\xe1;M\\x16\\xe3L:\\xa6\\xad\\xac\\x18c\\x81\\x9b\\r\\x02bh>L\\x82\\xacs\\xb8\\x8f~\\xf5\\x95J\\x8e1\\xe4J\\xdd\\x7f\\xcc\\xfa\\x9c\\xb7+\\xa5\\x82\\xa6\\xea\\xc9\\xf3K\\xbd\\x9e\\xefem\\xff\\x00\\'\\xf9\\x1dU\\x9f\\x80\\xae\\xd6\\xd6;\\xedG\\\\\\xb6\\x85g\\x90+\\xd9J\\xed\\xc8=H\\\\g=\\x06:\\xf2h\\xd5>\\x1dZZD\\xf0Z\\xe9W\\x93\\xd81\\xcb\\x96!<\\x97\\x1f\\xdd\\xc9\\xce\\x0eOlq\\xd6\\xba_\\nGc\\xac\\xe86\\xd7\\xda\\x85\\xd6\\x9fr%\\xb6\\x04[\\xf9\\xa5d2\\x02\\x0eCs\\x93\\xc7\\xa0\\xcdP\\xf1\\x1f\\x87d\\x93V\\x10Gm\\xa8[\\xddj\\x91\\xca\\xd2A\\r\\xce\\xf6\\x81\\xd4F\\x15\\xbd0W\\xb7\\x1d=\\xeb/c\\t.g\\xf2\\xf9\\xf4\\xfe\\xb6.8\\x9a\\xfe\\xd7\\x91\\xcbk\\xdf\\xa2\\xd3\\xd2\\xcfE\\xad\\xfeG\\x0f&\\x89\\xa5Y\\xea\\xadg\\xa8\\xc96\\x9a\\xcd\\x16\\xed9\\x9aA42\\x8c\\x91\\xf3\\x94\\xce\\xd3\\x81\\xcds\\xde#\\xf1\\x95\\xa0\\xf0\\xfaA\\xa3_\\xec3\\xb8_\\xec\\xeb\\x90X\\xc8\\xe4c\\xef\\x91\\xd3\\x07\\'<{\\xd7[|g\\xb4\\xb7\\x9a\\x0b]AX\\xe8\\xb3\\x96\\xb9\\x92\\xe60D\\xca\\x11r\\xa0\\x01\\xd7\\x8f\\xe9\\xdb\\'\\xce\\xbciw\\xe7iZ\\x96\\xbd\\xab\\xe9\\xb1\\xed\\xbc\\xccZe\\xc4K\\xb7,\\x14\\x85\\xc0\\xec{\\xd7\\x9d\\x8c\\xe5I\\xf2\\xbbu\\xed\\xea\\xf4\\xba\\xef\\x1dwg\\xd5\\xe5\\xf0U\\xe6\\xbd\\xa2\\xe6\\xb5\\xad\\xeb\\xd3G\\xae\\xa9\\xa9n\\xda\\xb3\\xefe\\xc7?\\x8b4\\xb9\\xf5\\x95\\xd1\\xef.^\\xd5\\xac\\xd1\\x96\\xeehr\\xca\\x83r\\xe0\\x9foO\\xa5w\\x1f\\x02~>\\xfc@\\xf8\\x0b\\xf1\\x0fN\\xf8\\xad\\xf0\\xa3\\xc6\\x17\\xbav\\xabkv%\\xb5\\xbc\\xb6\\x99\\xa3-\\xb0\\xf0\\x0e:\\x82;\\x1fZ\\xf2\\xbf\\ri\\xc9\\xa8k\\x13\\xd86\\xb5\\x1d\\xba\\xcd\\x00}D]aC2e\\x95A\\xc1\\xeb\\x82>\\xb8\\xf5\\xe3\\xa8\\xbb\\xb5\\x925[\\xfb+\\x0b\\x7f&u\\t\\x04q\\xc8r\\xa7\\x03\\x93\\xef\\x93\\xd8v\\xac\\xe9S\\x9d*j\\xad7\\xaa\\xb7\\xf5\\xdb\\xcbc\\xd0n\\x96&R\\xc3\\xe2 \\x9aw_\\xd7[\\xbf]\\x91\\xfd)\\xff\\x00\\xc1)\\x7f\\xe0\\xa9\\xde\\x06\\xff\\x00\\x82\\x85|7:V\\xb5\\x1cZO\\xc4\\r\\x0e\\xddF\\xbf\\xa4)\\xfd\\xdd\\xc8\\x03\\x06\\xe6\\x03\\xd0\\xa9=S\\x82\\xa7<\\x15\\x01\\x8f\\xd7u\\xfc\\x8b\\xfc\\x15\\xf8\\xe9\\xf1g\\xf6s\\xf8\\x89e\\xf1\\x03\\xe1o\\x895-\\x0bX\\xd2\\xafF\\xdb\\x9bi\\xf6\\x95\\x963\\xc8a\\xca\\xb7#\\x95 \\x8a\\xfe\\x89\\xbf\\xe0\\x92\\x7f\\xf0U\\x0f\\x08\\x7f\\xc1C~\\x16\\xbe\\x99\\xe2H`\\xd2\\xbe h\\x10\\xc6\\x9a\\xf6\\x9e\\x8c\\x16\\x1b\\xe1\\x8c}\\xa6\\xd8\\x12[i?y\\x0eJ\\x12\\x06[\\xadzt\\xabG\\x10\\xae\\x95\\x9a\\xdd~\\xab\\xfa\\xd0\\xfc\\xc3\\x888~\\xa6SS\\xda\\xd3|\\xd4\\x9b\\xd1\\xf6\\xbfG\\xfa>\\xbe\\xa7\\xd8TQEY\\xf3FO\\x8e|\\x0b\\xe0\\xef\\x89\\x9e\\x12\\xbf\\xf0\\'\\x8f\\xfc7g\\xab\\xe8\\xfa\\x9d\\xbbA\\x7f\\xa7_\\xc0\\xb2E2\\x1e\\xc5[\\xf3\\x07\\xa8 \\x11\\xc8\\xaf\\xc5\\xaf\\xf8*\\xef\\xfc\\x10\\xff\\x00\\xc4\\xbf\\xb3\\xee\\xa9}\\xfbG~\\xc9RO\\xff\\x00\\x08$\\ng\\xd5|7\\x1c\\xad-\\xc6\\x96X\\xe1\\x8a;\\x12\\xef\\x11;q\\xc9+\\xceI\\x05q\\xfbwL\\xb8\\xb7\\x82\\xee\\xdd\\xedn\\xa1Y\"\\x91\\n\\xc9\\x1b\\x8c\\x86R0A\\x1e\\x95\\xa5:\\x9c\\xbe\\xec\\xb5\\x8fU\\xfdu7\\xc3\\xe2*\\xe1js\\xd3z\\x9f\\xc9Cx\\xa7\\xc4\\xb1\\xear\\xddj\\xf61\\x9c\\xc3\\xe5FeBK\"\\x929N\\x99\\xeb\\xda\\xac\\x8f\\x16\\xd9[%\\xd6\\x8fd\\xe0\\xf9\\xf23\\xaa5\\xb8RI\\x18\\xc1\\x03\\xa7\\xae;W\\xd9\\x1f\\xf0W?\\xd8\\x83T\\xfd\\x96?h\\x9dv\\xed4\\x8b\\xaf\\xec\\x1f\\x13\\xdeK\\xaa\\xf8{WKr\\xb1\\x14\\x90\\x83$\\x1b\\xd7\\xe5WI\\x03\\xfc\\x80\\xe7c!#\\xe6\\x15\\xf1]\\xc7\\x85m\\xed#\\xbb\\xd4\\xec\\xe1`\\r\\xc8\\x95\\xdd\\x88\\xca\\x86\\x1b\\x80_\\xcf\\x18\\x1fA\\xcdi_\\x0b.^jN\\xeb\\xcfS\\xf4L\\xa72\\xc3c`\\x9dT\\xa2\\xdfn\\xf7\\xecz>\\x95\\xa8_i>\\x1f\\x9e\\xea\\xeb\\xc0\\x91]\\xc7\\x12$\\xf6\\x13X\\xe2\\x07A\\x90\\t \\xe5\\xd9@\\'\\xbf\\\\T\\x1a\\x17\\x8a4\\xc9|\\xed\\x03\\xc2~0\\xb9\\x8f_\\xd5\\xa5_>6c#*\\xf59w\\xce\\xcc\\x0c\\x01\\xf4\\xf7\\xaf/\\x82\\xf5b\\xbe\\xbd\\xb4{\\xc9\\xd1\\xa3\\x8f\\xca\\x8a\\xea\\x14\\x1bwd\\x1c2\\x1czv\\xcbf\\xa5>6\\xd4\"H\\xad\\xb5\\xdb!\\xaeB\\xb10i\\x12@\\x1a\\x1c{\\x03\\xb9\\x14g\\' g>\\xd5\\xe2\\xaa\\xf5)\\xfcO\\xbf\\x9e\\x9a\\xed\\xd7\\xa6\\xfa\\x9e\\xac\\xb2\\xa5%\\'\\x07{\\xd9\\xdb\\xbfUu+\\xab+\\xde\\xd7\\x8d\\xd9\\xdfx\\xa6\\xe6\\xe6\\x1d]|\\x01\\xe1\\xeb\\xf8.b\\xb8\\xb6\\x90\\xebR[a\\xa4\\x90\\xefe$\\xb3\\xe4\\xab\\x9cc\\xf9W\\x99|O\\xf1\\x8c\\xd7\\xc5\\'\\xd1\\xf4F\\x87I\\xd2\\xee<\\xb8#e2,\\xac\\xa7`rzg\\x1d\\xeb\\x0c\\xf8\\x8b\\xc3\\xaf\\x0f\\xd8t\\x8dZ\\xf6\\xc6\\xdd\\xe7\\xdd}%\\xbb\\x9f,d\\x0c\\x1eO&\\xb3\\xf5\\xfb\\xcb5Y4\\xbf\\x0fx\\x8c\\xbd\\x8d\\xbc\\n\\xc8\\x8e\\xdeR\\xb4\\xa0d\\xa8\\xce\\x01\\xc1\\xfc\\xf1\\\\u\\xb1N\\xb5\\'n\\xbd\\x9d\\xbc\\xd2\\xb3\\xe8\\xb5o\\xbb=\\xec\\xbb,XZ\\xb1\\x94\\xf5\\xb7t\\xd6\\xbb9;]s4\\xd4b\\xba#\\x1fWu\\x92\\xea4\\xbe\\xd3\\x9a9e\\x97\\xcf\\xb8t\\xc0\\xcf\\x07\\n08\\xfaU\\xbb-cI\\xba\\x84\\xe2{\\xaf8\\x16\\xfb\\x15\\xb4y\\x05_\\x8d\\xbfN\\xff\\x00\\xa5d\\xc7\\xae\\xebv\\xd7p]\\x99\\x96i\\xc3\\xef-!\\x12`\\x02:\\x83\\xf4\\xa8\\xbcA\\xe3-CQ\\xd5SY\\xd4\\xf7#4\\xe4\\xf9\\xaay\\xe8\\x00\\xc0\\xed\\xc7\\x1e\\xd8\\xac\\xe1)\\xca\\xcb}{\\x7f\\x91\\xeaUT`\\xe5+[Gw}\\xdf\\xa3_/\\xc0\\xda\\xb1\\xd6\\xb5\\x18l\\xa4\\x89\\xee\\xe51O3\\xce\\xcb3\\x16\\xc9l\\x86\\x90\\x93\\xcez\\xf2z\\x9a\\xf5_\\xd8\\xd7\\xf6\\xa5\\xf8\\x8d\\xfb#|s\\xf0\\xef\\xed\\t\\xf0\\xe3[{[\\xad\\x1e\\xfdd\\xb9\\x84\\x05+5\\xa1\\xf9&\\x81\\x83\\x02\\xb8\\x91\\x18\\xa0\\xc8$\\x16\\x0c\\xb8`\\x08\\xf0{\\xdf\\x13i\\x10\\xdb\\xc9\\x05\\xbd\\xe1\\x916LS\\x80\\xe0G\\x83\\x85\\xe38\\xf7?tz\\xd3\\xedu\\xd9\\xad\\xe0\\x17\\xc2\\xe8+\\x89w\\xc78\\xfb\\xc8\\xddA\\x18\\xfb\\xa7==+\\xd4\\xc2\\xd1\\xa8\\xaaFM\\xea|\\xaee\\x8c\\xc2\\xd4\\xa1V\\x95\\x93\\x83Z\\xff\\x00_\\x97\\x99\\xfd\\x7f~\\xc8?\\xb5\\x97\\xc3o\\xdb\\x0f\\xe0\\x06\\x83\\xf1\\xe7\\xc0\\x97\\xf0\\xc5m\\xab\\xc1\\xfe\\x95c$\\xead\\xb2\\xb8_\\xbf\\x0b\\x8e\\xcc2\\x0e\\x0ff\\x1e\\xb4W\\xf3\\xf9\\xff\\x00\\x04\\xf1\\xf8]\\xfbo|a\\xf8\\x00\\xfe$\\xf8\\'\\xe1I\\xb5]\\x12\\xdb]\\xb8\\xb4\\x17-\\xa4Is\\x89V8\\x99\\x97z\\xab\\x0f\\xe3\\x07\\x19\\xefE}\\x1c2\\xe8\\xd4\\x82\\x93\\x95\\xaf\\xe9\\xfa\\xc8\\xfcO\\x155C\\x11*qj\\xc9\\xdb[\\xdf\\xe7h\\x9f\\xd2\\xb5\\x14Q^Q\\xa1\\xe3\\x9f\\xb6\\xf7\\xec[\\xf0\\xd3\\xf6\\xe0\\xf85s\\xf0\\xbf\\xc7\\xa5\\xad/\"W\\x93B\\xd6\\xe1\\x8ft\\xbau\\xc1\\x00y\\x8a\\t\\x19\\x07\\x03#<\\xe2\\xbf\\x05\\xbfl?\\xd8\\x87\\xe3\\x17\\xecM\\xe3\\xd9\\xfe\\x1f\\xf8\\xd3\\xc2\\x1fj\\x82[\\x82,\\xf5\\xa1\\x13\\xfd\\x92\\xfa\\'o\\x95\\x95\\x80!pO\\xcc\\x0e\\x18\\x00X\\x03\\xd2\\xbf\\xa4\\xca\\xe7>(\\xfc\"\\xf8g\\xf1\\xaf\\xc2\\xb3\\xf8\\'\\xe2\\xb7\\x82\\xac5\\xcd.\\xe1\\x19^\\xd6\\xfa\\x1d\\xd8\\xdc0J\\xb0\\xc3!\\xc7\\xf1)\\x07\\xde\\xbb0\\xd8\\xb7Er\\xc9^?\\x97\\xf5\\xd8\\xd2\\x9dj\\xb4]\\xe0\\xec\\x7f)\\x7f\\x104$\\xb3\\xb9\\xb9\\xd6!\\x80\\xdc\\xc6\\xea\\x15\\x12\\x07\\x00\\xc7\\xb1\\x87Q\\xd4\\xfa\\xe7\\x00q\\xd7\\x9a\\xf3\\rOU\\xf1.\\x9f\\xe2\\xab\\xaf\\xb0\\xea\\xf2\\xd9\\x08\\x11^i\\xa5\\\\aH\\x18\\x1c\\xe3#\\xafL\\xd7\\xf4\\t\\xfbJ\\x7f\\xc1\\xb8\\x9f\\xb3\\xd7\\x8e\\xaeu?\\x15\\xfe\\xce\\x9f\\x11uo\\x07j\\xd7\\xb2\\x83\\x0e\\x9b\\xa9\\x05\\xbe\\xd3-\\xa2\\xeac\\x8d0\\x93d\\x90\\xbf3\\xca\\xe3\\x8eA\\xaf\\x8d\\xbe6\\xff\\x00\\xc1\\xb9_\\xf0P\\x8dV\\xe3V\\xd0\\xbc%e\\xf0\\xfb\\xc4pK\\x1c1XkW\\x9a\\xd1\\xb1/\\x1e\\x1b*\\xd0\\xf9nWi\\xc1\\x1f6Ic\\xc8\\xc6)W\\xc0e\\xf8\\xb5\\xed!5\\x19k\\xbe\\x9f\\x87_S\\xe9\\xf2\\xce,\\xc5\\xe1$\\xa9\\xd5\\x8f4tO\\xd3\\xfe\\x18\\xfc\\xa3\\xf1\\x0f\\xc4\\x89n<\\xdbM^\\xe4\\xdd[\\xa1?gU\\x8d~v#\\'\\x1d:\\xb9<\\xe3\\xde\\xb9mk\\xc5\\x9am\\xd5\\xc2\\x9b\\x9d4\\xa3G\\x19f\\x86\\'\\xccq\\x90;\\x91\\xd7\\x9e\\xd8\\xaf\\xd0\\xdf\\x15\\xff\\x00\\xc1\\xa9\\xdf\\xf0U+\\xc8\\xa0\\x9fF\\xd2\\xfe\\x1e\\xbc\\xc9\\n\\xa4\\xa8\\xde5dR\\xc3\\xab.a;x\\xc7\\x15\\xdb|\\x1d\\xff\\x00\\x83C\\xff\\x00mo\\x16xn\\x11\\xf1\\x93\\xe3?\\x84<\\x15\\xa8Ev\\xaa\\xf1i[\\xf5T\\x96\\x02\\xc0\\xb3;n\\x8f,\\x06p\\x06=\\xf3^D2\\xa5:\\xbe\\xf4\\xd7\\xab}\\xb6\\xef\\xf7\\x1fC>6\\xc3\\xc6\\x87\\xbb\\x7f$\\x97{_\\xfe\\x1c\\xfc\\xa1\\x8f\\xc4o%\\x8b[\\xdaEr\\x18\\xcc\\n.\\xf2\\t\\x18=\\x06:~?\\xce\\xb5\\xfc#\\xe0\\xff\\x00\\x1f|@\\xd6?\\xb0tM6\\xee\\xf2\\xea@\\xaf\\r\\xac*^C\\x1f9(\\x9c\\x16\\x19\\x18\\xf5\\xf4\\xcd\\x7f@\\x9f\\x00\\xff\\x00\\xe0\\xd1\\xdf\\xd9\\'\\xc2\\xfav\\x9fw\\xfbC\\xfcc\\xf1\\x1f\\x89u}>\\xf69\\x8b\\xf8h&\\x9diw\\x1a\\xe7t2\\xc7(\\x99\\xca\\xb0\\xc0;\\x1dN3\\x82:\\xd7\\xe8G\\xec\\xfb\\xff\\x00\\x04\\xed\\xfd\\x88?e\\x9d\\r|?\\xf0/\\xf6g\\xf0\\xb6\\x8d\\x0cwMq\\x1c\\xd3Y\\x1b\\xdb\\x94\\x90\\x80\\x0e\\xdb\\x8b\\xa3$\\xaa>Q\\x85\\x0f\\xb4r@\\x195\\xe8S\\xc2\\xe0p\\xee\\xed\\xf3?-?\\x16|\\xce7\\x8a1\\xb8\\xb4\\xd2\\xd1z\\xff\\x00\\x91\\xfc\\xce\\xfe\\xc9\\x7f\\xf0B\\xcf\\xf8(G\\xed\\x83}ku\\xe1O\\x837\\xde\\x1c\\xd2/\\xd9U\\xf5\\xcf\\x15\\x86\\xb0\\x82\\xd62\\xf9,\\xd1\\x15iO\\xcap~\\\\\\x86\\xce\\x01\\x1c\\x9f\\xd3\\x9f\\xd9\\xa7\\xfe\\r3\\xf0\\x05\\xa6\\x9f\\xa6\\xea\\xff\\x00\\xb5o\\xc7).\\xae\\xad\\x9f7^\\x1f\\xf0\\x8d\\xa9\\x16\\xf2\\x90\\xeaC5\\xd4\\xa5Y\\xf2\\xa1\\x81_(`\\xb098\\xc1\\xfd\\x91\\xa2\\xb4u\\xd2\\xfe\\x1cm\\xf8\\xbf\\xc7\\xfc\\x8f\\x12\\xa6;\\x15UY\\xca\\xcb\\xb2\\xd3\\xe7\\xe6\\xfc\\xce+\\xf6{\\xfd\\x9e\\xbe\\x12~\\xcb_\\t\\xf4\\xbf\\x82\\x9f\\x04|%\\x06\\x8b\\xe1\\xed\"2\\xb6\\x96p\\x8e\\xa4\\xfd\\xe7c\\xfcL{\\x9a+\\xb5\\xa2\\xb0\\x94\\xa5)]\\xeer%`\\xa2\\x8a)\\x00QE\\x14\\x00QE\\x14\\x00QE\\x14\\x00QE\\x14\\x00QE\\x14\\x00QE\\x14\\x00QE\\x14\\x00QE\\x14\\x00QE\\x14\\x00QE\\x14\\x00QE\\x14\\x00QE\\x14\\x00QE\\x14\\x01\\xff\\xd9'),\n",
       " ('s3a://p8muriel/test2/Salak/100_100.jpg',\n",
       "  b'\\xff\\xd8\\xff\\xe0\\x00\\x10JFIF\\x00\\x01\\x01\\x00\\x00\\x01\\x00\\x01\\x00\\x00\\xff\\xdb\\x00C\\x00\\x02\\x01\\x01\\x01\\x01\\x01\\x02\\x01\\x01\\x01\\x02\\x02\\x02\\x02\\x02\\x04\\x03\\x02\\x02\\x02\\x02\\x05\\x04\\x04\\x03\\x04\\x06\\x05\\x06\\x06\\x06\\x05\\x06\\x06\\x06\\x07\\t\\x08\\x06\\x07\\t\\x07\\x06\\x06\\x08\\x0b\\x08\\t\\n\\n\\n\\n\\n\\x06\\x08\\x0b\\x0c\\x0b\\n\\x0c\\t\\n\\n\\n\\xff\\xdb\\x00C\\x01\\x02\\x02\\x02\\x02\\x02\\x02\\x05\\x03\\x03\\x05\\n\\x07\\x06\\x07\\n\\n\\n\\n\\n\\n\\n\\n\\n\\n\\n\\n\\n\\n\\n\\n\\n\\n\\n\\n\\n\\n\\n\\n\\n\\n\\n\\n\\n\\n\\n\\n\\n\\n\\n\\n\\n\\n\\n\\n\\n\\n\\n\\n\\n\\n\\n\\n\\n\\n\\xff\\xc0\\x00\\x11\\x08\\x00d\\x00d\\x03\\x01\"\\x00\\x02\\x11\\x01\\x03\\x11\\x01\\xff\\xc4\\x00\\x1f\\x00\\x00\\x01\\x05\\x01\\x01\\x01\\x01\\x01\\x01\\x00\\x00\\x00\\x00\\x00\\x00\\x00\\x00\\x01\\x02\\x03\\x04\\x05\\x06\\x07\\x08\\t\\n\\x0b\\xff\\xc4\\x00\\xb5\\x10\\x00\\x02\\x01\\x03\\x03\\x02\\x04\\x03\\x05\\x05\\x04\\x04\\x00\\x00\\x01}\\x01\\x02\\x03\\x00\\x04\\x11\\x05\\x12!1A\\x06\\x13Qa\\x07\"q\\x142\\x81\\x91\\xa1\\x08#B\\xb1\\xc1\\x15R\\xd1\\xf0$3br\\x82\\t\\n\\x16\\x17\\x18\\x19\\x1a%&\\'()*456789:CDEFGHIJSTUVWXYZcdefghijstuvwxyz\\x83\\x84\\x85\\x86\\x87\\x88\\x89\\x8a\\x92\\x93\\x94\\x95\\x96\\x97\\x98\\x99\\x9a\\xa2\\xa3\\xa4\\xa5\\xa6\\xa7\\xa8\\xa9\\xaa\\xb2\\xb3\\xb4\\xb5\\xb6\\xb7\\xb8\\xb9\\xba\\xc2\\xc3\\xc4\\xc5\\xc6\\xc7\\xc8\\xc9\\xca\\xd2\\xd3\\xd4\\xd5\\xd6\\xd7\\xd8\\xd9\\xda\\xe1\\xe2\\xe3\\xe4\\xe5\\xe6\\xe7\\xe8\\xe9\\xea\\xf1\\xf2\\xf3\\xf4\\xf5\\xf6\\xf7\\xf8\\xf9\\xfa\\xff\\xc4\\x00\\x1f\\x01\\x00\\x03\\x01\\x01\\x01\\x01\\x01\\x01\\x01\\x01\\x01\\x00\\x00\\x00\\x00\\x00\\x00\\x01\\x02\\x03\\x04\\x05\\x06\\x07\\x08\\t\\n\\x0b\\xff\\xc4\\x00\\xb5\\x11\\x00\\x02\\x01\\x02\\x04\\x04\\x03\\x04\\x07\\x05\\x04\\x04\\x00\\x01\\x02w\\x00\\x01\\x02\\x03\\x11\\x04\\x05!1\\x06\\x12AQ\\x07aq\\x13\"2\\x81\\x08\\x14B\\x91\\xa1\\xb1\\xc1\\t#3R\\xf0\\x15br\\xd1\\n\\x16$4\\xe1%\\xf1\\x17\\x18\\x19\\x1a&\\'()*56789:CDEFGHIJSTUVWXYZcdefghijstuvwxyz\\x82\\x83\\x84\\x85\\x86\\x87\\x88\\x89\\x8a\\x92\\x93\\x94\\x95\\x96\\x97\\x98\\x99\\x9a\\xa2\\xa3\\xa4\\xa5\\xa6\\xa7\\xa8\\xa9\\xaa\\xb2\\xb3\\xb4\\xb5\\xb6\\xb7\\xb8\\xb9\\xba\\xc2\\xc3\\xc4\\xc5\\xc6\\xc7\\xc8\\xc9\\xca\\xd2\\xd3\\xd4\\xd5\\xd6\\xd7\\xd8\\xd9\\xda\\xe2\\xe3\\xe4\\xe5\\xe6\\xe7\\xe8\\xe9\\xea\\xf2\\xf3\\xf4\\xf5\\xf6\\xf7\\xf8\\xf9\\xfa\\xff\\xda\\x00\\x0c\\x03\\x01\\x00\\x02\\x11\\x03\\x11\\x00?\\x00\\xfd\\xfc\\xa2\\x8a(\\x00\\xa2\\x8a(\\x00\\xa2\\xb0<W\\xf1O\\xe1\\xb7\\x81\\xfc\\xf4\\xf1o\\x8e\\xf4\\x8d>[ks4\\xb6\\xd7z\\x94Q\\xcb\\xb0\\x02r\\x11\\x98\\x13\\x908\\xe3\\x9a\\xf9#\\xe3\\x8f\\xfc\\x17\\x1b\\xf6W\\xf8\\x7f\\xe1\\xcb\\x8b\\xbf\\x86\\rw\\xe2\\x8dZ\\xdab\\x8f\\xa6\\xc9\\x03\\xda\\xa9\\xc0\\xeb\\xe60\"\\xae4\\xe7=\\x90\\xd2\\x94\\x9d\\x92\\xbb>\\xd6\\xa2\\xbf\\x15~2\\xff\\x00\\xc1\\xc3\\x1f\\xb4\\xc6\\xa7\\xe3v\\xbf\\xf8go\\xa7xcFX\\x18\\xae\\x99u\\xa5G|]\\xc0\\x1d& w\\xcf\\x1e\\xf5\\xc5\\xe8\\xbf\\xf0p\\x0f\\xed\\xf1}\\xe2\\xa9\\xee.\\xbcu\\xe1\\xd5\\xd2\\xa2\\xb4\\x8d\\xc5\\xbb\\xf8j\\xdd\\\\\\xb1\\xce~c\\xcf\\xa5\\x0e\\x16\\x97-\\xd5\\xce\\xef\\xec\\xcc\\x7f/3\\xa6\\xec~\\xefQ_\\x99_\\xb3\\x07\\xfc\\x1c;\\xe0\\x1f\\x12\\x8d/\\xc3?\\xb4?\\x84\\x8e\\x993\\x05\\x8a\\xef_\\xb5\\x93x\\xb8\\x93?|@\\x8b\\x94\\xe3\\xb7\\xb5}\\xfd\\xf0?\\xf6\\x8a\\xf8?\\xfbExJ\\x0f\\x19\\xfc(\\xf1\\x8d\\xb6\\xa3i9`\\xb1y\\x81f]\\xa7\\x07td\\xee_\\xc4P\\xe9\\xc9+\\xeeq\\xd4\\xa7R\\x94\\xad4\\xd7\\xa9\\xdb\\xd1E\\x15\\x04\\x05\\x14Q@\\x05\\x14V\\x1f\\xc4\\x7f\\x88\\xde\\r\\xf8M\\xe0\\xdb\\xef\\x1fx\\xfb\\\\\\x83N\\xd2\\xf4\\xf8ZK\\x8b\\x8b\\x89\\x02\\x8e\\x01!FH\\xcb\\x1c`\\x0e\\xe6\\x80&\\xf1\\xcf\\x8e\\xbc)\\xf0\\xdb\\xc2\\xd7\\x9e4\\xf1\\xb6\\xb7\\x06\\x9f\\xa6\\xd8Be\\xba\\xba\\xb8l*(\\xfd{\\x8a\\xfc\\xcf\\xfd\\xb2\\xbf\\xe0\\xb8\\xbe*\\x9e\\xf6\\xef\\xc0\\xff\\x00\\xb3_\\x87\\xd2\\xc2\\xd4\\xd8\\xcfou\\xadjXg3\\x13\\x84\\x92\\x02\\x8d\\xf2\\xe0g\\xa8\\xeb_9\\x7f\\xc1I\\xff\\x00\\xe0\\xa9>$\\xfd\\xab\\xbcY7\\x87|\\x03\\x7f5\\xaf\\x86,\\xae\\x19tM=X\\xa1\\xb8\\xea\\x04\\xf2\\x0e\\xa1\\xca\\x9c\\x14\\xc9\\x03\\x15\\xf2Dw\\x92C+\\xf8\\x83S\\xd6\\x02\\xdc\\xc83$!\\x81\\xfd*\\xd4\\xa2\\xb4\\xb6\\xbd\\xfb\\x7f^g\\xb3\\x83\\xca\\xa78\\xfbJ\\xda.\\x8b\\xab\\x7f\\xe4w?\\x11~;|K\\xf8\\xbb\\xe2k\\xbf\\x18\\xfcV\\xf1\\x93\\xeb\\xba\\xb2Z\\xc2\\x86\\xee\\xfd\\xd9\\xe5\\xda2\\x02\\x92{\\x0e\\xd5\\xe3\\xde1\\xf1\\xc4\\xba\\xe3^XCz\\x96\\xb2\\xdb\\xcc|\\xc6\\x19\\xe4\\xfb\\xe3\\xb5C\\xe3?\\x88\\xcb\\xafXJ\\xbatV\\xd1\\xb5\\xbc\\x80<\\xdeq\\x0c\\xc38\\xc6+\\x94\\xd5\"\\x9d\\xc9\\xbd\\xb0\\xbfKt\\xb8\\xff\\x00\\x8f\\x84b>\\xff\\x00\\xd4\\xd7\\x95\\x89\\xc6s\\xd5\\xe4\\x86\\xb6>\\xeb-\\xc9\\xa9P\\xb4\\xe6\\x94^\\x96\\xf2\\x7f.\\xfeh\\x9e\\xf7\\xc5\\xcbq\\x1c~\\x1a\\x9fP2\\xc2\\x1c%\\xba\\xda\\x1d\\xa49?\\xedz\\x93X\\xda\\x96\\xb4\\xf7k}\\x1f\\x94\\x90\\\\\\xd8\\x04A\\x1d\\xc8\\xc9\\x9f\\r\\x8c\\x0cw\\x1dMV\\xf1^\\xa2\\xccW@\\xb3\\xd1\\x11\\xee\\xedai\\x1a\\xf3q\\x0c\\xc3\\xafA\\xc5fi^#\\xb7\\x87T\\x86fW\\x9e\\xdaX\\x02\\\\Cp\\xbbwI\\x8e@=H\\x04\\xe74Fzk+y\\\\\\xf4\\xaaC\\x95\\'\\x08^\\xed\\xfd\\xfd\\xf4\\xd3_3F\\xcfZ\\xbb\\xd4u\\xe8c\\xb4\\x13\\x89\\xe6pAF\\x01\\xa1\\x93\\xfd\\x93\\xda\\xbd\\xf3\\xf6S\\xfd\\xb6\\xbe3\\xfe\\xcf\\xfe2_\\x19\\xfc?\\xf1\\x94\\xba6\\xd9\\x03_\\xc7\\x14\\x8c\\xb1;E\\xc2\\xc7 \\x1c\\x91&\\x08>\\xb95\\xf3\\x93\\xeb3\\xe9\\xb0^i\\xf6zb\\xdcI\\xa7\\\\a\\xeeU\\x8e\\xf8W\\x19\\xe8:\\x8ez\\x9a\\xbf\\xa7x\\x8e\\xeeMzh\\x8d\\xf2\\xdc\\xc0\\xf6\\xea\\xf1O \\nC\\x85\\xfb\\xa4\\x0e1\\x9e3]\\xf8|L\\xa3\\x1fw[|\\xbf\\xe1\\xcf\\x071\\xc1C\\x11\\xee\\xc9{\\xafE\\xa5\\xdf~\\x9b\\x1f\\xd3\\x7f\\xfc\\x13\\xab\\xfe\\n-\\xf0\\xdb\\xf6\\xe4\\xf8o\\x04\\x8b\\x7fma\\xe3;\\x1b4\\x93\\\\\\xd0\\x0b\\x80\\xe0\\x1c\\x01:\\x0eG\\x96\\xcd\\x90\\x06s\\xc75\\xf4\\x9d\\x7f*\\x9f\\x00><\\xf8\\xff\\x00\\xe0_\\xc4\\x7f\\x0c\\xfcT\\xf8e\\xe2\\x19\\xed5\\xed\"\\xf8\\xcf\\x14\\xd6\\xb3\\x12\\xb2\\x9d\\x844,:2\\x00N2\\x0fZ\\xfe\\x87?\\xe0\\x9b\\x9f\\xf0P\\x7f\\x05~\\xde?\\x06\\xa0\\xf1\\x1ci\\x06\\x9f\\xe2\\xbd1V\\x0f\\x13h\\xb1\\xc9\\x95\\x86|g\\xf7d\\x9d\\xce\\xbbv\\x92H\\x1c\\x92+\\xa3\\x91N.p\\xd5-\\xfa\\xdb\\xfe\\x01\\xf0\\xb8\\xfc\\x1c\\xf0U-$\\xd2w\\xb5\\xf4>\\x8f\\xa2\\x8a+#\\x88\\xe6\\xfe-|P\\xf0\\xc7\\xc1\\xbf\\x87\\xda\\x9f\\xc4O\\x17_\\xc3\\x05\\x9e\\x99j\\xf38\\x96`\\x86M\\xa3;W=X\\xf6\\x03\\x9a\\xfc(\\xff\\x00\\x82\\xa4\\xff\\x00\\xc1E>(\\xfe\\xd9\\xdf\\x10\\xed&\\xf0\\x85\\xcd\\xde\\x99\\xe0\\xdd\\x05\\xcaYxr\\x1b\\x92\\xa6\\xe9\\xce\\x15\\xe5\\x9c\\xae\\x04\\xa3+\\xb9U\\x87\\xcb\\x9e+\\xe8o\\xf8.\\xf7\\xed\\x977\\x8a\\xfe%\\xd9~\\xcc~\\x16k\\x96\\xb5\\xd0\\xee\\x94\\xebV\\xaa\\xc3-t\\x0eRU\\x19\\xe8\\x15\\xf1\\xcf5\\xf9\\xd9}\\xa3x\\xa7T\\x94\\xbe\\x81g\\xe6*\\x163q\\xfb\\xf7\\xcf\\xa7l\\n\\xca\\xb6&\\x96\\x1d\\xa8\\xbd\\xcf\\xa1\\xc9\\xf0<\\xcdW\\x9e\\x97\\xbd\\xaf\\xb5\\xba\\xb7\\xeb\\xb7\\xf5s\\x9e\\x9a\\xe7Z\\xd4uDT\\xd3\\xe2P\\xcd\\xbd\\xa7\\x05c\\xf2\\xd7\\xdb\\xde\\xb9\\xdf\\x1a\\xf8\\x9bI\\xd5\\xe3\\x828.d\\x8e\\xf2\\x02c\\x90\\xa6F\\xe2OqW\\xee\\xbc;\\xe3\\x9b\\xfdJ\\xe1\\xf5\\xeb[\\xe8\\xf4\\xebf \\xc8\\xd8\\xdc\\xcc\\x0f!}\\xb1\\xcdy\\xe6\\xbd\\xe2\\xdf\\x0f\\\\x\\x93R\\xb4\\xd1\\xb5\\xdbY\\x9e\\xcee\\xfb\\x1d\\xfa1>x\\x0b\\x93\\x93\\xfd\\xf0x\\x1d\\xb8\\xaeYc!^\\x9c\\x9c\\x17\\xcc\\xfb<5\\x1aq\\xaf\\x18\\xb9\\'e\\xd3\\xa5\\xfc\\xf5\\xfb\\x8b\\x17\\x9a\\xfd\\xad\\x96\\x9f}keq\\x0b\\xfd\\xcd\\xc5\\xed\\xb2Cg\\x9e\\xbd\\xeb.\\xfbP\\xbe\\xbe\\x8e\\xd2\\xd2GY\\xe3v\\x12\\xba\\xc6\\xc1\\x1b\\xd3\\x1e\\xb5^Xo\\'\\x91n]^Q1/q\\xf6n\\xa7\\x1c\\x8d\\xd9\\xef\\xebA\\xbd\\xd0\\xe3\\xbeMj\\xfe\\xcd\\xd2+\\x88~K\\x98q\\x98\\xdb=\\xf3\\xde\\xbcJ\\xd5\\xe5-\\xd1\\xf6\\x10\\xc3\\xc26\\xe5\\xd5\\xfe;|\\x84\\x9a\\xfa9\\xb5{\\xc6\\xb3\\xbay\\xb1f\\xfe`\\x19\\xdc\\xaa\\x17\\x9e{\\xd6l\\x8b\\x0f\\xfc\"\\xdam\\xd1\\x90\\x85k\\xc9<\\x89\\x07,H\\x00\\xf2:\\xfeu\\x04\\xf7\\x7f\\xd9\\x9a]\\xcd\\xee\\x9ds\\xe5\\xfd\\xa6M\\xab~\\x0f\\xcc\\x14\\xe4\\x14\\xcf\\xa1\\xefO\\x94\\xc7d\\x9av\\x97\\x15\\xd25\\xc2\\x1f8\\xbc\\x7fu\\x83\\x0e\\x01\\xf7\\xe2\\xa9NP\\xb0\\xa5\\x87\\x8dIr\\xbe\\x9f\\xe5\\xa8\\xbaj\\xea\\x17\\xda\\xe5\\xe7\\xda\\xdd\\xa2\\xb9\\xbf\\x05\\xa2\\x95\\x1blw=\\x06\\n\\xf4^\\x9d\\x0f\\xa5?N\\x9d%h\\xee\"\\x9dD\\x91HR[o/\\x02@\\x0e\\t\\r\\xd3\\x8a\\x8d._T\\xd6o\\x97U\\xbd\\x16\\x89\\x13\\xef6\\x8ey\\xce\\x07\\xc8\\x9e\\xf4\\xe8,#\\x8f\\xc3\\xa2y\\xae\\xc8\\x06\\xe3\\xf7{O1|\\xdf\\xc5[F\\xabM\\xbf\\xebc\\x17J\\x9f*V\\xf4\\xf2\\xd7\\xbf\\xf5\\xfa\\x16a\\xd6n4\\xa95+\\xab9e1N\\xa1AIH6\\xe06r\\xbe\\x87\\xb6E}\\xa5\\xff\\x00\\x04[\\xfd\\xb4/\\x7fe\\xef\\xda\\x93F\\xbd\\xb8\\xd7\\xe3]\\x13\\xc4\\x97\\xf1\\xe9\\xba\\xbb\\\\7\\xca\\xb1\\xc8W3\\x10OP\\x17\\x19\\xaf\\x8b\\xaf\\xedm\\xd5e\\x0b\\t\\x1f\\xe8\\x8a[\\xca\\xfb\\xb3\\x7f\\xb5\\xf5=k+\\xc3\\xefcf\\xf6\\xd7\\x17\\x1a\\xc9\\x0e\\xd6\\xac\\xc4\\x06\\xf9\\xb7n\\xe2?\\xc6\\xbd\\xbc\\xae\\xbb\\xbf,\\xb6{\\xf4\\xd0\\xf8\\xbe&\\xcb\\xe9\\xd6\\xa3x\\xad}o\\xaa\\xbe\\xff\\x00\\x81\\xfd\\x96i\\x9a\\x8d\\x9e\\xb1\\xa6\\xdb\\xea\\xdat\\xe2[{\\xa8\\x12h$S\\xc3\\xa3\\x00\\xcaG\\xd4\\x11E|\\xed\\xff\\x00\\x04\\x9f\\xfd\\xa3\\xef\\x7fi\\xff\\x00\\xd8g\\xc1\\x9f\\x12u]2+\\x19`\\xb5\\xfe\\xca\\x10\\xa7\\x19[P\\xb0\\xab\\x1c\\x93\\xc9\\x0b\\x9a+\\xaa\\xa4\\x1d:\\x8e=\\x8f\\xcdb\\xee\\xb5?$\\x7fm\\x8f\\x1a\\'\\xc6\\x7f\\xda\\xf7_\\xf1\\xf6\\xad\\xa0\\xda\\xdb\\xdbj\\x1a\\x82\\xcc\\xcd\\x05\\xc9}\\x92\\x04@\\x14z\\xae\\x07Z\\xf2Q\\x7f\\xe0k\"\\xf6i\\xae\\xdb2\\xa5\\xc4\\x8d\\x94\\xb9\\x19S\\x92H85\\xf4\\x0f\\xfc\\x15\\xa7\\xc1\\xd0|\\x0c\\xfd\\xb25\\xfdQ4\\x88\\xed\\xb4\\xcdN\\xeb\\xcd\\xd3m-\\xe0\\xf2\\xe1\\x86\\xdc\"+\\x10:\\x1f\\x98\\x1e\\x95\\xf1?\\xc4\\xdf\\x14x.\\xd2+\\x8f\\x13j\\x9az\\xda\\xe9\\xb0M\\x10H\\xadSc\\xc8\\xd26\\x0b\\x16\\x03\\x9ey\\xaf/3\\xa6\\xa3Q\\xf2\\xc7wt\\xbc\\x9e\\xb6\\xfb\\x8f\\xaa\\xcb)T\\xc4a`\\x9c\\x9aV\\xddw^W\\xde\\xfd\\x8d\\x0f\\x8e?\\x1d<=\\xa1xCS\\xf0\\xf5\\xad\\xac\\xb7\\x97\\x170\\x94\\xb46Q\\x99#nG\\xdfu\\xfb\\x87\\x83_1\\xe8\\x9e$\\xb4\\xb4\\x90j\\x16\\xba:[\\x03\\x13\\xc7;\\x93\\xbb\\x96=0z\\x1a\\x9f\\xe3\\xaf\\xc4\\x9dZ?\\x18Ig\\xa1kvia\\x15\\xb8\\x93J\\x86\\xda\\xdc\\x83#\\x12F\\xc90~s\\x8erk\\x95\\xd3\\xf5k\\xf85\\x0bm\\x0bR\\xd3\\x0b\\xacJK\\x9d\\xe1|\\xe9\\t\\xca\\x93\\x9fL\\xe3\\x9a\\xe3t\\x1ch^+\\xee>\\xdb\\'\\xf6\\x18I*n\\xf6{\\xb6\\xf7\\xf9t;\\x9b\\ro\\xc3\\xf1G4\\xda\\x94\\xb3\\xcaD_\\xb9\\x8a\\x15%w\\x1f\\xef\\xb0?/\\xb7\\xadgiW\\xe8\\xc6)<C:Z\\xa2\\r\\xab\\xe5\\xbe\\xf2\\xab\\xfe\\xe9\\xebYZ|\\x8f\\xe3MQ\\xf4[+\\x88\\xec\\xf0O\\x9cS\\xe5\\x18^Nq\\xf7\\xb1\\x83T5M6\\xee}u\\xec|/|\\xba\\x8c*p.\\x99\\x0e\\xd6\\xff\\x00k\\xe6\\xe8>\\xb5\\xe7r\\xf2\\xe9%\\xb1\\xf6j0\\xbb\\x9a\\x96\\xf6\\xb7[-\\xaf\\xfdv:\\xc3\\xe2\\x04\\xd4\\r\\xb47\\xd2\\x0bu\\xb0\\r*\\xa7\\x96?z\\x01\\xdc7\\x0e\\xd9\\xab\\xbe\\x19\\x95\\xfcC-\\xc7\\x89\\x92\\xf21e\\x96\\xdf\\xe6(R\\xb8\\xec\\xa3\\xbe+\\xceu\\x18\\xe4\\xb6\\xf1\\x05\\x8e\\xa35\\xe4\\xb7\\x92>V{xX\\x9e\\x84\\x0c\\x1e\\xb5\\xa9\\xa2j7\\xd2x\\x99\\xec5\\x8b\\xd5\\xd3l2\\xcd\\x0c^Q\\x00\\xf5\\xe3\\x03\\xb9\\xe3\\x9a\\xd7\\x91T\\x8a]\\x0e*\\x9c\\xd4\\xa5.]\\xfe\\xf3\\xa6\\x0b$\\x967\\xfe!3\\t\\xd2\\xe9\\x0f\\xd8eu\\x0b\\xb6N\\xc1\\xbd\\x0f\\x07\\xadWmVK}\\t$E/3\\xc8\\x16X\\xc8\\xe3\\xae8\\xf5\\xa6xsX\\xbc\\xf1U\\xf8\\xf0M\\xad\\xb2Ch\\xf7\\x01,\\xe3`7\\x07\\xc7\\x0c\\xc7\\xf8\\xaa\\xad\\xa6\\xbct\\xdd~-SZ\\x89<\\x8bK\\xd5\\x8d\\xe0T\\xfb\\xfb_\\x04\\x0fL\\xe2\\xb7Ty\\xae\\xd2\\xfe\\xbf\\xe1\\x8ex\\xe2aN<\\xb3\\x96\\xbf\\xa7\\xdd\\xd5\\xe9\\xf7\\x175\\x17\\x92\\xdbX\\x8e\\xd8\\xc5\\x98\\xcd\\x9aH\\xa8$\\'i9\\xcf?\\xd2\\x9bo\\xa2\\xcd\\x0f\\x87\\xe4\\xf1e\\xa3C\\xb6&\\xf2\\xd65\\x93s\\xee<\\xf2\\xbd\\xaamN\\xfa\\xc6\\xee\\xef]\\xd6\\'\\xb7\\x92\\xd1\\xa6\\x7f7K\\x82F\\xe4+?Lzc5\\xcf[\\xea\\xd3Y\\xcbwcm7\\xfa4\\xd7BU\\xe3\\xa8\\x0b\\x83^\\xce\\x02\\x83\\xa7-\\x1fc\\xe5s\\x9c\\\\\\xaaQ\\xbc\\x97}\\xfe\\xff\\x00\\xc3oT}\\xe5\\xfb$\\xfe\\xda^#\\xf89\\xf0GM\\xf0>\\x93\\xf1\"\\xe6\\xce(e\\x96_\\xb3\\xc5q\\x80\\xac\\xed\\xb8\\xf1\\x9fZ+\\xe5_\\x04\\xf8#o\\x87\\xe3{\\xbd\\'R\\x9d\\x9d\\xd9\\xc4\\x96\\xf1\\xbb.\\t\\xc8\\x19\\x00\\x8a+\\xf5L,Z\\xc3A{>\\x8b\\xb7\\xf9\\x1f\\x80c\\xa9P\\x966\\xa3\\xe7\\x7f\\x13\\xe9.\\xfeG\\xf5\\t\\xff\\x00\\x05\\x0b\\xff\\x00\\x82\\x7f\\xfc8\\xfd\\xb9\\xbe\\x18>\\x8d\\xaci\\xd6\\xd1x\\x8e\\xc2\"t]NU\\xe8y>K\\x9e\\xd1\\xb3\\x1c\\x9c\\x0c\\xf1_\\x81\\xff\\x00\\xb4O\\xec\\xb7\\xe3\\x9f\\x81\\xde1\\xd5\\xfe\\n|u\\xd1\\x16\\xd2\\x1b\\t|\\xf4\\xb7\\xbaR\\x18\\xc6\\xa4\\xb20\\x1f\\xf3\\xcd\\x80\\x05O\\xa5\\x7fN\\xf5\\xe0_\\xb7\\x7f\\xec\\x19\\xf0\\xe3\\xf6\\xd2\\xf8u6\\x8f\\xaa[Ac\\xaf\\xc0\\x9b\\xb4\\xfda-\\xd4\\xbeG\\xfc\\xb3~\\x9b\\x81\\xc0^O\\x19\\xaf\\xce#\\xc9?r\\xa6\\xc7\\xde\\xe0s\\n\\xb8G\\xcb\\x7fw\\xf2\\xf3^g\\xf2\\x8f\\xf1\\x0f\\xe1\\xa5\\x95\\x86\\xa1\\xa9x\\xb3\\xc1\\x9a\\x19\\xbc]Rfm4\\xc6\\xb9\\x8e\\xcb\\'!\\xa3\\xfc8\\xe7<\\x1a\\xe2\\xaf4\\x8dH\\xe9\\xd7\\xfa\\xd7\\x8au\\xab\\x0b\\xab\\x84\\xb8\\x8e1\\x05\\xd4\\x8d\\xe7\\xe0\\xaf\\xdf@8\\xda1\\xcf\\xbd~\\x88~\\xd8\\x1f\\xf0O\\x7f\\x8b\\x7f\\xb2\\xbf\\xc4[\\xc8<q\\xa2\\x9b[6\\x06;Y\\xc2\\xff\\x00\\xa2HA\\'\\xe5\\x93\\x1b3\\x8e\\xc3\\xb5|o\\xf1O\\xc1\\x97\\xb6~0:>\\xb3\\xe1\\xe8\\x92\\xc2\\xe6&D\\x9f\\xcc\\xda\\xa2S\\x8d\\xa4\\xb68\\x1dj\\xe5\\x82\\xa7\\xec\\xdd\\xf7_\\xd6\\xe7\\xd5\\xe1\\xb3\\x08WjT\\x9d\\xd3\\xf3\\xd5\\x7f\\x9b\\xeey\\xec\\x9777\\x1a<\\xd7:\\x17\\x86`H&\\x86(~\\xd7n\\x1b18\\xe3#\\x9e\\xaeN\\r>\\xc2/\\x15\\xf8w\\xc2w\\xab\\x0c2\\xad\\xcc2\\x18\\xb5\\x1b\\x12?|\\xb1`\\x12\\\\vL\\xe3\\xf1\\xae\\xabU\\xf0?\\x83<9\\xa7\\xdc\\xda\\xc7#J\\r\\xbc^T\\xdfj*\\xa9*\\xf2\\xd8\\x19\\xc3s\\xde\\xb9\\xddb\\xdfK}9\\x1ci2Mq}i\\xfe\\x91:^\\xb6\\xec\\x93\\xd7h\\xeb\\xd3\\xa5y\\xd5r\\xf7&\\xdaZ\\x9e\\xdd\\x1c\\xe2P\\xa6\\x93\\x96\\x9a\\xfah\\xca\\xbe\\x16\\xba\\xd4\\xa2\\xf0\\xfb\\xea\\xbe\\x1c\\xd0\\xe5YV\\xe1E\\xce\\xabn\\xb9k\\\\\\xe7\\xe4\\x04\\xf0\\x03\\x0fQ\\xda\\xaex\\xe3W\\xb3\\x9bV\\xb5\\x9e\\xfe\\xf6K\\xedD[!i\\xd3\\x05v\\xe3\\x85>\\xe3\\x9c\\xd7%s\\xaa\\xcb\\x15\\x84^\\x11\\xb5\\xf0\\xad\\xd4\\x17fL\\x89E\\xc4\\x8b\\xe6s\\xc0\\xdb\\xd1\\x8f<T\\xb1\\xf8\\xd7V\\xba\\xd4\\xedt\\r>\\xc6[cf\\xff\\x00\\xbe\\xb5\\xfb\\x19\\x91\\xd5\\x87\\x0e\\xe4\\x91\\x9e\\x83;{b\\xb8*`\\xeaFM\\xbe\\xdf\\xd3=JY\\xd6\\x1eVN\\xcb_\\x9e\\xde\\x7f\\x89\\xbb\\xa7\\xdf\\xdd\\xe8Z\\xcd\\xae\\xbby~\\xeb,\\xcb\\xe7\\xd9\\xa4\\xb8\\x00\\x9c\\xe3\\xf2\\xa2Mam\\xb4\\xfb\\x8b\\x9b\\xb2\\xedzn\\x91\\xed\\xe3Q\\xfb\\xbc\\x13\\x92Oz\\xc8\\xd5<D\\xfa\\xd7\\x89uMO\\xc3\\x9a\\x94W\\x10i\\xb1\\x99\\xa3\\xbd\\xbbU\\x89\\x9e1\\x8f\\xbb\\x11\\xef\\x93\\xf7Efi~2\\xb7\\x83B\\xb9\\x82M\\'}\\xf5\\xcc\\xca\\xd1\\xdf\\xcb!]\\x89\\x93\\xb9B\\x9e\\x0eG\\xe5[a(UN\\xd2\\xeb\\xdc\\xe7\\xcc\\xf3,=JI\\xc1\\xa4\\xd2\\xddz\\xdf\\xfa\\x7f\\x81\\xd9\\xf8\\x9b\\xc6+\\xe2\\xb9R\\xfax\\xe5\\x1a\\x95\\xbd\\x92E\\xb1@\\xf2\\xca\\x8e\\x84w\\xf5\\xac\\xdb].}R(~\\xc9\\xaeMn\\xdeQ7\\x0f6\\x02\\x87\\xcfolVD\\xba\\xa2jZ\\xb4\\x17V\\x1akC\\r\\xb5\\xaa,\\xad\\xbc\\x91\\xbb\\x90Y\\x8f`s\\xde\\xbfI\\x7f\\xe0\\x88\\x9f\\xf0H\\xaf\\x11\\xfe\\xd6\\xbf\\x14\\xbc7\\xf1\\x83\\xc6\\x1e\\x14\\xbe\\xb4\\xf0~\\x95\"\\xc9\\xa9I{\\x0b\\xac\\x1a\\xb4{\\xc3\\x11\\x13>\\x03\\xa9\\x1cn\\\\\\xf2\\r}6_\\x85\\x8a\\xf7\\xa7\\xa4V\\xaf\\xa6\\xc8\\xfc\\xf38\\xcc\\xfd\\xdeX\\xbdv\\xfcY\\xfa\\xd5\\xff\\x00\\x04m\\xff\\x00\\x82~\\xfc;\\xf0O\\xec\\x05\\xe0\\xfd;\\xe3\\xbf\\xc2\\x1b\\x1b\\xdd~\\xe8\\xcdz\\xd7Z\\x8d\\xb9\\xf3$\\x82b$\\x89\\xba\\x8e\\n0\\xc7\\xb5\\x15\\xf7F\\x83\\xa2i\\xbe\\x1a\\xd0\\xec\\xbc9\\xa3\\xdb\\x88\\xac\\xf4\\xfbH\\xed\\xadb\\x1f\\xc1\\x1a(U_\\xc0\\x00(\\xaeJ\\x98\\x9a\\xd2\\xa8\\xdcd\\xd2\\xedw\\xfeg\\xcc\\xac=\\x1b{\\xd1M\\xfa/\\xf2-\\xd1E\\x15\\xcelq\\xff\\x00\\x1b>\\x02\\xfc)\\xfd\\xa1\\xfc\\x1b\\'\\x81~-\\xf8:\\xcfX\\xb0|\\x98\\xd2\\xea\\x15s\\x0b\\x11\\x8d\\xe8H;[\\x1cf\\xbf,\\x7fo\\x0f\\xf87[\\xc4\\xf7\\xd6W^%\\xfd\\x94\\xbcYo}f\\x84\\xc8\\xde\\x1a\\xd7\\xa3{\\x9b\\x99\\x9b\\x92\\x04o\\xf2\\xa2c\\xa0\\xcf\\xa8\\xaf\\xd7\\xea+zU\\xe7I[u\\xd9\\x97J\\xadJ3\\xe7\\x83\\xb3?\\x95\\xdf\\xda\\x9b\\xfe\\t\\xb9\\xf1\\x9b\\xe1\\r\\xbczo\\xc4\\xcf\\xd9\\xf3\\xc5V\\x1a\\xc1\\x84}\\x9bJ\\xb3\\x99\\x190\\x06Z_\\x93r\\xe0\\x8f\\x9b\\x19\\xcf\\x15\\xe3Z?\\xc1\\xef\\x12h\\x1au\\x98\\xf0\\xdf\\xc2\\x0f\\x11]\\\\I\\x88\\xe07\\xd6/!\\x99\\xfa\\xed_\\x94m\\x1fZ\\xfe\\xbf\\xee\\xf4\\x8d&\\xfd\\xfc\\xcb\\xed.\\xdef\\x03\\x01\\xa6\\x81X\\xfe\\xa2\\xab\\x8f\\x08\\xf8Pc\\x1e\\x18\\xd3\\xc6\\x0eF,\\xa3\\xe3\\xf4\\xabX\\x88[\\xe1=?\\xed\\x8cM\\xbf\\xe0\\xb3\\xf8\\xb0\\xd7\\xbc5\\xf12\\xe7\\\\\\xbc\\x9e\\xe7\\xc0\\xbe!\\x86\\xee\\xde`\\xf1\\x96\\xd2\\xa7-\\x01_B\\x17\\xd7\\xd2\\xb3>\\x19|*\\xf8\\xef\\xf1#\\xe2\\x1cZ\\x07\\xc3\\xbf\\x87\\xfe%\\xbb\\xf1\\x06\\xa7,\\x8b\\x1b>\\x9f*\\x19I\\x04\\xb7\\xcc\\xca\\x00\\xc8\\xcfS_\\xda\\xf1\\xf0G\\x82\\xd8\\x96o\\x08\\xe9d\\x9e\\xa4\\xe9\\xf1\\xff\\x00\\xf14\\xeb\\x7f\\x06x>\\xd2Q=\\xaf\\x854\\xd8\\xdd~\\xeb\\xc7a\\x1a\\x91\\xf8\\x81\\\\\\xe9\\xc3\\x9a\\xf6&y\\xady\\xbb\\xdbS\\xf8\\xee\\xf0\\xd7\\xfc\\x12\\xd7\\xf6\\xe7\\xd4\\xfe!\\xd8\\xfc1\\x7f\\xd9\\xf7VK\\xedOR]:\\x0bv\\x81w\\x19\\x98d|\\xf9\\xda>\\xa4\\xe2\\xbd\\xafG\\xff\\x00\\x83u?\\xe0\\xa9\\x97>+\\xd3\\xac\\xb5\\x0f\\xd9wW\\x8bN\\x92\\xe1ay\\xe7\\xbc\\xb7aj\\xac\\xc04\\xad\\x892Tr\\xc4\\x0ep+\\xfa\\xaf]\\x17GY\\x85\\xca\\xe96\\xc2Em\\xcb \\x81w\\x03\\xeb\\x9cU\\x9a\\xe9U\\xe8\\xd3~\\xe5?[\\xbf\\xf2\\xb1\\x85L\\xc3\\x15V\\xfc\\xcf\\xfe\\x01\\xf8\\xed\\xfb\\x02\\x7f\\xc1\\xab^\\t\\xf8W=\\xfe\\xab\\xfbc|D\\xb2\\xf1]\\xb5\\xec\\x11Ia\\xa5hPIn`\\x948b\\x93\\xf9\\x81\\x84\\x8b\\x81\\x8c\\x0e\\xf5\\xfa\\xdf\\xf0\\xe7\\xe1\\xd7\\x82~\\x12x#M\\xf8o\\xf0\\xe3\\xc3V\\x9a>\\x87\\xa4[\\x084\\xed6\\xc6\\x11\\x1cPF\\t8U\\x1c\\x0eI?Rkj\\x8a\\xca\\xae\"\\xa5m$\\xf4]:\\x1cZ\\xb7v\\xee\\x14QEb\\x01E\\x14P\\x01E\\x14P\\x01E\\x14P\\x01E\\x14P\\x01E\\x14P\\x01E\\x14P\\x01E\\x14P\\x07\\xff\\xd9')]"
      ]
     },
     "execution_count": 66,
     "metadata": {},
     "output_type": "execute_result"
    }
   ],
   "source": [
    "images.take(2)"
   ]
  },
  {
   "cell_type": "code",
   "execution_count": null,
   "id": "significant-asthma",
   "metadata": {},
   "outputs": [],
   "source": []
  },
  {
   "cell_type": "markdown",
   "id": "republican-holder",
   "metadata": {},
   "source": [
    "# Formation du bag of visual word"
   ]
  },
  {
   "cell_type": "code",
   "execution_count": 51,
   "id": "organized-rachel",
   "metadata": {},
   "outputs": [
    {
     "name": "stdout",
     "output_type": "stream",
     "text": [
      "Extraction des descripteurs par image\n",
      "...Temps de traitement : 00:00:03\n"
     ]
    }
   ],
   "source": [
    "print(\"Extraction des descripteurs par image\")\n",
    "start = time.time()\n",
    "# formation rdd contenant la categorie et le tableau de descripteurs en supprimant les individus sans descripteurs\n",
    "tuples_decriptors = images.map(lambda img: extract_orb_features(img)).filter(lambda x: x[2] is not None)\n",
    "#transformation du rdd en rdd contenant des row pour faciliter sa manipulation\n",
    "cat_descriptors = tuples_decriptors\\\n",
    "    .map(lambda x: (Row(name=x[0],category=x[1], descriptors=x[2])))\n",
    "print('...Temps de traitement : {}'.format(time.strftime(\"%H:%M:%S\", time.gmtime(time.time()-t))))"
   ]
  },
  {
   "cell_type": "code",
   "execution_count": 52,
   "id": "banner-victory",
   "metadata": {},
   "outputs": [
    {
     "name": "stdout",
     "output_type": "stream",
     "text": [
      "Clustering des descripteurs\n"
     ]
    }
   ],
   "source": [
    "#Clustering des descripteurs avec KMEANS\n",
    "print(\"Clustering des descripteurs\")"
   ]
  },
  {
   "cell_type": "code",
   "execution_count": 53,
   "id": "nervous-photographer",
   "metadata": {},
   "outputs": [
    {
     "name": "stdout",
     "output_type": "stream",
     "text": [
      "...calcul du nombre de classes\n",
      "K-means avec k =  150\n",
      ".....Temps de traitement count : 00:10:42\n"
     ]
    }
   ],
   "source": [
    "#calcul du nombre de classe avec la formule nombre de categories x 10\n",
    "print(\"...calcul du nombre de classes\")\n",
    "t = time.time()\n",
    "nbcat = cat_descriptors.map(lambda x: x['category']).distinct().count()\n",
    "k = nbcat *10\n",
    "print(\"K-means avec k = \",k)\n",
    "print('.....Temps de traitement count : {}'.format(time.strftime(\"%H:%M:%S\", time.gmtime(time.time()-t))))"
   ]
  },
  {
   "cell_type": "code",
   "execution_count": 54,
   "id": "suitable-tiffany",
   "metadata": {},
   "outputs": [
    {
     "name": "stdout",
     "output_type": "stream",
     "text": [
      "...flatmap des descripteurs dans un rdd\n",
      ".....Temps de traitement flatmap : 00:00:00 \n"
     ]
    }
   ],
   "source": [
    "print(\"...flatmap des descripteurs dans un rdd\")\n",
    "t = time.time()\n",
    "# rdd contenant un descripteur par ligne\n",
    "cat_features = tuples_decriptors.flatMap(lambda x: [(x[0],x[1],w) for w in x[2]])\n",
    "cat_desc = cat_features\\\n",
    "    .map(lambda x: (Row(name=x[0],category=x[1], features=x[2])))\n",
    "descriptors = cat_desc.map(lambda x: x['features'])\n",
    "print('.....Temps de traitement flatmap : {} '.format(time.strftime(\"%H:%M:%S\", time.gmtime(time.time()-t))))"
   ]
  },
  {
   "cell_type": "code",
   "execution_count": 55,
   "id": "loved-explanation",
   "metadata": {},
   "outputs": [
    {
     "name": "stdout",
     "output_type": "stream",
     "text": [
      "...clustering des descripteurs de kMeans\n",
      ".....Temps de traitement kMeans : 00:09:52\n"
     ]
    }
   ],
   "source": [
    "print('...clustering des descripteurs de kMeans')\n",
    "t = time.time()      \n",
    "#entrainement du modele\n",
    "model = KMeans.train(descriptors, k, maxIterations=10, initializationMode=\"random\")\n",
    "print('.....Temps de traitement kMeans : {}'.format(time.strftime(\"%H:%M:%S\", time.gmtime(time.time()-t))))"
   ]
  },
  {
   "cell_type": "code",
   "execution_count": 35,
   "id": "amino-cherry",
   "metadata": {},
   "outputs": [
    {
     "name": "stdout",
     "output_type": "stream",
     "text": [
      "...formation du rdd bag of visual word\n",
      ".....Temps de traitement bow : 00:00:00\n"
     ]
    }
   ],
   "source": [
    "print(\"...formation du rdd bag of visual word\")\n",
    "t = time.time()    \n",
    "rdd_bow = cat_descriptors.map(lambda x: bow(x,model,k))\n",
    "print('.....Temps de traitement bow : {}'.format(time.strftime(\"%H:%M:%S\", time.gmtime(time.time()-t))))"
   ]
  },
  {
   "cell_type": "markdown",
   "id": "spatial-software",
   "metadata": {},
   "source": [
    "## Affichage du contenu du RDD"
   ]
  },
  {
   "cell_type": "markdown",
   "id": "invisible-florist",
   "metadata": {},
   "source": [
    "Juste pour information dans le cadre du projet, à ne pas faire en production"
   ]
  },
  {
   "cell_type": "code",
   "execution_count": 45,
   "id": "allied-disposal",
   "metadata": {},
   "outputs": [
    {
     "data": {
      "text/plain": [
       "[Row(bow=[0.0, 0.0, 0.0, 0.0, 0.0, 0.0, 0.0, 0.043478260869565216, 0.021739130434782608, 0.0, 0.0, 0.0, 0.0, 0.0, 0.0, 0.0, 0.0, 0.0, 0.043478260869565216, 0.0, 0.0, 0.0, 0.0, 0.0, 0.0, 0.0, 0.0, 0.0, 0.0, 0.0, 0.0, 0.0, 0.0, 0.0, 0.0, 0.0, 0.0, 0.0, 0.0, 0.0, 0.0, 0.0, 0.021739130434782608, 0.0, 0.0, 0.0, 0.0, 0.0, 0.0, 0.043478260869565216, 0.0, 0.043478260869565216, 0.0, 0.0, 0.0, 0.0, 0.0, 0.0, 0.0, 0.23913043478260865, 0.0, 0.0, 0.0, 0.0, 0.0, 0.0, 0.0, 0.0, 0.0, 0.0, 0.021739130434782608, 0.021739130434782608, 0.021739130434782608, 0.0, 0.0, 0.043478260869565216, 0.0, 0.0, 0.021739130434782608, 0.021739130434782608, 0.0, 0.0, 0.0, 0.0, 0.0, 0.0, 0.0, 0.0, 0.043478260869565216, 0.021739130434782608, 0.0, 0.0, 0.0, 0.0, 0.043478260869565216, 0.0, 0.021739130434782608, 0.0, 0.0, 0.0, 0.0, 0.0, 0.021739130434782608, 0.0, 0.0, 0.0, 0.0, 0.0, 0.06521739130434782, 0.0, 0.0, 0.0, 0.0, 0.0, 0.0, 0.0, 0.0, 0.0, 0.0, 0.0, 0.0, 0.0, 0.0, 0.0, 0.0, 0.0, 0.0, 0.0, 0.021739130434782608, 0.021739130434782608, 0.0, 0.0, 0.0, 0.0, 0.043478260869565216, 0.021739130434782608, 0.043478260869565216, 0.0, 0.0, 0.0, 0.0, 0.0, 0.0, 0.0, 0.021739130434782608, 0.0, 0.0, 0.0, 0.0, 0.0], category='Salak', fileName='0_100.jpg'),\n",
       " Row(bow=[0.0, 0.047619047619047616, 0.0, 0.0, 0.0, 0.0, 0.0, 0.0, 0.047619047619047616, 0.0, 0.0, 0.0, 0.0, 0.0, 0.0, 0.047619047619047616, 0.0, 0.0, 0.0, 0.0, 0.0, 0.0, 0.0, 0.0, 0.0, 0.0, 0.0, 0.0, 0.0, 0.0, 0.0, 0.0, 0.0, 0.0, 0.0, 0.0, 0.0, 0.0, 0.0, 0.0, 0.0, 0.0, 0.0, 0.0, 0.0, 0.0, 0.0, 0.0, 0.0, 0.0, 0.0, 0.0, 0.0, 0.0, 0.0, 0.0, 0.0, 0.0, 0.0, 0.0, 0.0, 0.0, 0.0, 0.0, 0.0, 0.0, 0.0, 0.0, 0.09523809523809523, 0.047619047619047616, 0.0, 0.0, 0.0, 0.0, 0.0, 0.0, 0.0, 0.0, 0.047619047619047616, 0.047619047619047616, 0.0, 0.047619047619047616, 0.0, 0.0, 0.047619047619047616, 0.0, 0.047619047619047616, 0.0, 0.0, 0.0, 0.0, 0.0, 0.0, 0.047619047619047616, 0.0, 0.0, 0.0, 0.047619047619047616, 0.0, 0.0, 0.047619047619047616, 0.0, 0.0, 0.0, 0.0, 0.0, 0.0, 0.047619047619047616, 0.0, 0.0, 0.0, 0.0, 0.0, 0.0, 0.0, 0.0, 0.0, 0.0, 0.0, 0.0, 0.0, 0.0, 0.0, 0.047619047619047616, 0.0, 0.0, 0.0, 0.0, 0.0, 0.09523809523809523, 0.0, 0.0, 0.047619047619047616, 0.0, 0.0, 0.0, 0.0, 0.0, 0.0, 0.0, 0.0, 0.0, 0.0, 0.0, 0.0, 0.047619047619047616, 0.047619047619047616, 0.0, 0.0, 0.0], category='Salak', fileName='100_100.jpg')]"
      ]
     },
     "execution_count": 45,
     "metadata": {},
     "output_type": "execute_result"
    }
   ],
   "source": [
    "rdd_bow.take(2)"
   ]
  },
  {
   "cell_type": "markdown",
   "id": "constitutional-enterprise",
   "metadata": {},
   "source": [
    "# Enregistrement des données au format parquet"
   ]
  },
  {
   "cell_type": "code",
   "execution_count": 36,
   "id": "indirect-fisher",
   "metadata": {},
   "outputs": [
    {
     "name": "stdout",
     "output_type": "stream",
     "text": [
      "...conversion du rdd BOVW en spark dataframe\n",
      ".....Temps de traitement toDF : 00:00:02\n"
     ]
    }
   ],
   "source": [
    "print(\"...conversion du rdd BOVW en spark dataframe\")\n",
    "t = time.time()  \n",
    "df = rdd_bow.toDF()\n",
    "print('.....Temps de traitement toDF : {}'.format(time.strftime(\"%H:%M:%S\", time.gmtime(time.time()-t))))"
   ]
  },
  {
   "cell_type": "code",
   "execution_count": 46,
   "id": "adapted-netscape",
   "metadata": {},
   "outputs": [
    {
     "name": "stdout",
     "output_type": "stream",
     "text": [
      "...enregistrement format parquet\n",
      "Enregistrement effectué.\n",
      ".....Temps de traitement enregistrement parquet : 00:10:13\n"
     ]
    }
   ],
   "source": [
    "\n",
    "print(\"...enregistrement format parquet\")\n",
    "t = time.time()  \n",
    "df = rdd_bow.toDF()\n",
    "\n",
    "#path_write = \"s3a://p8muriel/test_bovw.parquet\"\n",
    "\n",
    "write_dataframe_parquet(df,path_write)\n",
    "print('.....Temps de traitement enregistrement parquet : {}'.format(time.strftime(\"%H:%M:%S\", time.gmtime(time.time()-t))))"
   ]
  },
  {
   "cell_type": "markdown",
   "id": "endless-merchandise",
   "metadata": {},
   "source": [
    "# Aperçu des données après réduction de dimension"
   ]
  },
  {
   "cell_type": "code",
   "execution_count": 37,
   "id": "considered-mixture",
   "metadata": {},
   "outputs": [
    {
     "name": "stdout",
     "output_type": "stream",
     "text": [
      "+--------------------+--------+-----------+\n",
      "|                 bow|category|   fileName|\n",
      "+--------------------+--------+-----------+\n",
      "|[0.0, 0.0, 0.0, 0...|   Salak|  0_100.jpg|\n",
      "|[0.0, 0.047619047...|   Salak|100_100.jpg|\n",
      "|[0.0, 0.047619047...|   Salak|101_100.jpg|\n",
      "|[0.0, 0.0, 0.0, 0...|   Salak|102_100.jpg|\n",
      "|[0.0, 0.055555555...|   Salak|103_100.jpg|\n",
      "|[0.0, 0.0, 0.0, 0...|   Salak|104_100.jpg|\n",
      "|[0.0, 0.043478260...|   Salak|105_100.jpg|\n",
      "|[0.0, 0.0, 0.0, 0...|   Salak|106_100.jpg|\n",
      "|[0.0, 0.0, 0.0, 0...|   Salak|107_100.jpg|\n",
      "|[0.0, 0.0, 0.0, 0...|   Salak|108_100.jpg|\n",
      "|[0.0, 0.0, 0.0, 0...|   Salak|109_100.jpg|\n",
      "|[0.0, 0.076923076...|   Salak|110_100.jpg|\n",
      "|[0.0, 0.0, 0.0, 0...|   Salak|111_100.jpg|\n",
      "|[0.0, 0.071428571...|   Salak|112_100.jpg|\n",
      "|[0.0, 0.0, 0.0, 0...|   Salak|113_100.jpg|\n",
      "|[0.0, 0.0, 0.0, 0...|   Salak|114_100.jpg|\n",
      "|[0.0, 0.0, 0.0, 0...|   Salak|115_100.jpg|\n",
      "|[0.0, 0.0, 0.0416...|   Salak|116_100.jpg|\n",
      "|[0.0, 0.0, 0.0, 0...|   Salak|117_100.jpg|\n",
      "|[0.0, 0.029411764...|   Salak|118_100.jpg|\n",
      "+--------------------+--------+-----------+\n",
      "only showing top 20 rows\n",
      "\n"
     ]
    }
   ],
   "source": [
    "df.show()"
   ]
  },
  {
   "cell_type": "code",
   "execution_count": 38,
   "id": "infinite-declaration",
   "metadata": {},
   "outputs": [
    {
     "name": "stdout",
     "output_type": "stream",
     "text": [
      "+---------------------------------------------------------------------------------------------------------------------------------------------------------------------------------------------------------------------------------------------------------------------------------------------------------------------------------------------------------------------------------------------------------------------------------------------------------------------------------------------------------------------------------------------------------------------------------------------------------------------------------------------------------------------------------------------------------------------------------------------------------------------------------------------------------------------------------------------------------------------------------------------------------------------------------------------------------------------------------------------------------------------------------------------------------------------------------------------------------------------------------------------------------------------------------------------------------------------+--------+-----------+\n",
      "|bow                                                                                                                                                                                                                                                                                                                                                                                                                                                                                                                                                                                                                                                                                                                                                                                                                                                                                                                                                                                                                                                                                                                                                                                                                  |category|fileName   |\n",
      "+---------------------------------------------------------------------------------------------------------------------------------------------------------------------------------------------------------------------------------------------------------------------------------------------------------------------------------------------------------------------------------------------------------------------------------------------------------------------------------------------------------------------------------------------------------------------------------------------------------------------------------------------------------------------------------------------------------------------------------------------------------------------------------------------------------------------------------------------------------------------------------------------------------------------------------------------------------------------------------------------------------------------------------------------------------------------------------------------------------------------------------------------------------------------------------------------------------------------+--------+-----------+\n",
      "|[0.0, 0.0, 0.0, 0.0, 0.0, 0.0, 0.0, 0.043478260869565216, 0.021739130434782608, 0.0, 0.0, 0.0, 0.0, 0.0, 0.0, 0.0, 0.0, 0.0, 0.043478260869565216, 0.0, 0.0, 0.0, 0.0, 0.0, 0.0, 0.0, 0.0, 0.0, 0.0, 0.0, 0.0, 0.0, 0.0, 0.0, 0.0, 0.0, 0.0, 0.0, 0.0, 0.0, 0.0, 0.0, 0.021739130434782608, 0.0, 0.0, 0.0, 0.0, 0.0, 0.0, 0.043478260869565216, 0.0, 0.043478260869565216, 0.0, 0.0, 0.0, 0.0, 0.0, 0.0, 0.0, 0.23913043478260865, 0.0, 0.0, 0.0, 0.0, 0.0, 0.0, 0.0, 0.0, 0.0, 0.0, 0.021739130434782608, 0.021739130434782608, 0.021739130434782608, 0.0, 0.0, 0.043478260869565216, 0.0, 0.0, 0.021739130434782608, 0.021739130434782608, 0.0, 0.0, 0.0, 0.0, 0.0, 0.0, 0.0, 0.0, 0.043478260869565216, 0.021739130434782608, 0.0, 0.0, 0.0, 0.0, 0.043478260869565216, 0.0, 0.021739130434782608, 0.0, 0.0, 0.0, 0.0, 0.0, 0.021739130434782608, 0.0, 0.0, 0.0, 0.0, 0.0, 0.06521739130434782, 0.0, 0.0, 0.0, 0.0, 0.0, 0.0, 0.0, 0.0, 0.0, 0.0, 0.0, 0.0, 0.0, 0.0, 0.0, 0.0, 0.0, 0.0, 0.0, 0.021739130434782608, 0.021739130434782608, 0.0, 0.0, 0.0, 0.0, 0.043478260869565216, 0.021739130434782608, 0.043478260869565216, 0.0, 0.0, 0.0, 0.0, 0.0, 0.0, 0.0, 0.021739130434782608, 0.0, 0.0, 0.0, 0.0, 0.0]|Salak   |0_100.jpg  |\n",
      "|[0.0, 0.047619047619047616, 0.0, 0.0, 0.0, 0.0, 0.0, 0.0, 0.047619047619047616, 0.0, 0.0, 0.0, 0.0, 0.0, 0.0, 0.047619047619047616, 0.0, 0.0, 0.0, 0.0, 0.0, 0.0, 0.0, 0.0, 0.0, 0.0, 0.0, 0.0, 0.0, 0.0, 0.0, 0.0, 0.0, 0.0, 0.0, 0.0, 0.0, 0.0, 0.0, 0.0, 0.0, 0.0, 0.0, 0.0, 0.0, 0.0, 0.0, 0.0, 0.0, 0.0, 0.0, 0.0, 0.0, 0.0, 0.0, 0.0, 0.0, 0.0, 0.0, 0.0, 0.0, 0.0, 0.0, 0.0, 0.0, 0.0, 0.0, 0.0, 0.09523809523809523, 0.047619047619047616, 0.0, 0.0, 0.0, 0.0, 0.0, 0.0, 0.0, 0.0, 0.047619047619047616, 0.047619047619047616, 0.0, 0.047619047619047616, 0.0, 0.0, 0.047619047619047616, 0.0, 0.047619047619047616, 0.0, 0.0, 0.0, 0.0, 0.0, 0.0, 0.047619047619047616, 0.0, 0.0, 0.0, 0.047619047619047616, 0.0, 0.0, 0.047619047619047616, 0.0, 0.0, 0.0, 0.0, 0.0, 0.0, 0.047619047619047616, 0.0, 0.0, 0.0, 0.0, 0.0, 0.0, 0.0, 0.0, 0.0, 0.0, 0.0, 0.0, 0.0, 0.0, 0.0, 0.047619047619047616, 0.0, 0.0, 0.0, 0.0, 0.0, 0.09523809523809523, 0.0, 0.0, 0.047619047619047616, 0.0, 0.0, 0.0, 0.0, 0.0, 0.0, 0.0, 0.0, 0.0, 0.0, 0.0, 0.0, 0.047619047619047616, 0.047619047619047616, 0.0, 0.0, 0.0]                                                                                                      |Salak   |100_100.jpg|\n",
      "+---------------------------------------------------------------------------------------------------------------------------------------------------------------------------------------------------------------------------------------------------------------------------------------------------------------------------------------------------------------------------------------------------------------------------------------------------------------------------------------------------------------------------------------------------------------------------------------------------------------------------------------------------------------------------------------------------------------------------------------------------------------------------------------------------------------------------------------------------------------------------------------------------------------------------------------------------------------------------------------------------------------------------------------------------------------------------------------------------------------------------------------------------------------------------------------------------------------------+--------+-----------+\n",
      "only showing top 2 rows\n",
      "\n"
     ]
    }
   ],
   "source": [
    "df.show(2, False)"
   ]
  },
  {
   "cell_type": "markdown",
   "id": "demonstrated-tolerance",
   "metadata": {},
   "source": [
    "## Schema"
   ]
  },
  {
   "cell_type": "code",
   "execution_count": 44,
   "id": "heard-olympus",
   "metadata": {},
   "outputs": [
    {
     "data": {
      "text/plain": [
       "StructType(List(StructField(bow,ArrayType(DoubleType,true),true),StructField(category,StringType,true),StructField(fileName,StringType,true)))"
      ]
     },
     "execution_count": 44,
     "metadata": {},
     "output_type": "execute_result"
    }
   ],
   "source": [
    "df.schema"
   ]
  },
  {
   "cell_type": "code",
   "execution_count": 42,
   "id": "norwegian-criticism",
   "metadata": {},
   "outputs": [
    {
     "name": "stdout",
     "output_type": "stream",
     "text": [
      "root\n",
      " |-- bow: array (nullable = true)\n",
      " |    |-- element: double (containsNull = true)\n",
      " |-- category: string (nullable = true)\n",
      " |-- fileName: string (nullable = true)\n",
      "\n"
     ]
    }
   ],
   "source": [
    "df.printSchema()"
   ]
  },
  {
   "cell_type": "markdown",
   "id": "parental-tuner",
   "metadata": {},
   "source": [
    "## Ecriture en csv pour comparaison avec parquet"
   ]
  },
  {
   "cell_type": "code",
   "execution_count": 49,
   "id": "adopted-ozone",
   "metadata": {},
   "outputs": [
    {
     "name": "stdout",
     "output_type": "stream",
     "text": [
      "...enregistrement format csv\n",
      ".....Temps de traitement enregistrement csv : 00:10:02\n"
     ]
    }
   ],
   "source": [
    "print(\"...enregistrement format csv\")\n",
    "t = time.time() \n",
    "df.toPandas().to_csv(\"s3a://p8muriel/test2_bow_file.csv\", header=True)\n",
    "print('.....Temps de traitement enregistrement csv : {}'.format(time.strftime(\"%H:%M:%S\", time.gmtime(time.time()-t))))"
   ]
  },
  {
   "cell_type": "code",
   "execution_count": 64,
   "id": "opponent-advocate",
   "metadata": {},
   "outputs": [
    {
     "data": {
      "text/html": [
       "\n",
       "        <div>\n",
       "            <p><b>SparkContext</b></p>\n",
       "\n",
       "            <p><a href=\"http://ip-172-16-1-252.eu-west-1.compute.internal:4040\">Spark UI</a></p>\n",
       "\n",
       "            <dl>\n",
       "              <dt>Version</dt>\n",
       "                <dd><code>v2.3.4</code></dd>\n",
       "              <dt>Master</dt>\n",
       "                <dd><code>local[*]</code></dd>\n",
       "              <dt>AppName</dt>\n",
       "                <dd><code>pyspark-shell</code></dd>\n",
       "            </dl>\n",
       "        </div>\n",
       "        "
      ],
      "text/plain": [
       "<SparkContext master=local[*] appName=pyspark-shell>"
      ]
     },
     "execution_count": 64,
     "metadata": {},
     "output_type": "execute_result"
    }
   ],
   "source": [
    "spark.sparkContext"
   ]
  },
  {
   "cell_type": "code",
   "execution_count": 62,
   "id": "coordinate-rendering",
   "metadata": {},
   "outputs": [
    {
     "ename": "AttributeError",
     "evalue": "'SparkSession' object has no attribute 'app'",
     "output_type": "error",
     "traceback": [
      "\u001b[0;31m---------------------------------------------------------------------------\u001b[0m",
      "\u001b[0;31mAttributeError\u001b[0m                            Traceback (most recent call last)",
      "\u001b[0;32m<ipython-input-62-bd4129aa18e6>\u001b[0m in \u001b[0;36m<module>\u001b[0;34m\u001b[0m\n\u001b[0;32m----> 1\u001b[0;31m \u001b[0mspark\u001b[0m\u001b[0;34m.\u001b[0m\u001b[0mapp\u001b[0m\u001b[0;34m.\u001b[0m\u001b[0mname\u001b[0m\u001b[0;34m\u001b[0m\u001b[0;34m\u001b[0m\u001b[0m\n\u001b[0m",
      "\u001b[0;31mAttributeError\u001b[0m: 'SparkSession' object has no attribute 'app'"
     ]
    }
   ],
   "source": [
    "spark.app.name"
   ]
  },
  {
   "cell_type": "code",
   "execution_count": null,
   "id": "sapphire-invite",
   "metadata": {},
   "outputs": [],
   "source": []
  }
 ],
 "metadata": {
  "kernelspec": {
   "display_name": "conda_python3",
   "language": "python",
   "name": "conda_python3"
  },
  "language_info": {
   "codemirror_mode": {
    "name": "ipython",
    "version": 3
   },
   "file_extension": ".py",
   "mimetype": "text/x-python",
   "name": "python",
   "nbconvert_exporter": "python",
   "pygments_lexer": "ipython3",
   "version": "3.6.10"
  }
 },
 "nbformat": 4,
 "nbformat_minor": 5
}
